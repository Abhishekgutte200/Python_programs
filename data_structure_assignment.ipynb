{
  "nbformat": 4,
  "nbformat_minor": 0,
  "metadata": {
    "colab": {
      "provenance": [],
      "mount_file_id": "1UdZLpn2RH93r-10xI2MB--eKBGI3BZxv",
      "authorship_tag": "ABX9TyOdgbpakmO5/m6fjstp7yCN",
      "include_colab_link": true
    },
    "kernelspec": {
      "name": "python3",
      "display_name": "Python 3"
    },
    "language_info": {
      "name": "python"
    }
  },
  "cells": [
    {
      "cell_type": "markdown",
      "metadata": {
        "id": "view-in-github",
        "colab_type": "text"
      },
      "source": [
        "<a href=\"https://colab.research.google.com/github/Abhishekgutte200/Python_programs/blob/main/data_structure_assignment.ipynb\" target=\"_parent\"><img src=\"https://colab.research.google.com/assets/colab-badge.svg\" alt=\"Open In Colab\"/></a>"
      ]
    },
    {
      "cell_type": "markdown",
      "source": [
        "## Q1. Discuss string slicing and provide examples."
      ],
      "metadata": {
        "id": "tOfkWOII1gPW"
      }
    },
    {
      "cell_type": "markdown",
      "source": [
        "**Ans.**String slicing is a powerful feature in python that allows you to extract a subset of characters from a string.<br>Following are some examples string slicing with its syntax..."
      ],
      "metadata": {
        "id": "zz-fUSmc0V8-"
      }
    },
    {
      "cell_type": "markdown",
      "source": [
        "***Syntax--***"
      ],
      "metadata": {
        "id": "0I7YG6CP4G5N"
      }
    },
    {
      "cell_type": "markdown",
      "source": [
        "string [start:stop:step:]<br>\n",
        "\n",
        "*  **start:** The index where the slice starts (inclusive)\n",
        "\n",
        "*   **stop:** The index where the slice ends (exclusive)\n",
        "\n",
        "*   **step:**The increment between indices (default is 1)\n",
        "\n",
        "\n"
      ],
      "metadata": {
        "id": "RCOCP9Df0Z_t"
      }
    },
    {
      "cell_type": "markdown",
      "source": [
        "***Examples--***"
      ],
      "metadata": {
        "id": "KyrGF52g6fGO"
      }
    },
    {
      "cell_type": "markdown",
      "source": [
        "***1.Basic slicing:***"
      ],
      "metadata": {
        "id": "J7bVF3r7_PPP"
      }
    },
    {
      "cell_type": "code",
      "source": [
        "my_string = \"Hello, World!\"\n",
        "print(my_string[0:5])"
      ],
      "metadata": {
        "colab": {
          "base_uri": "https://localhost:8080/"
        },
        "id": "vRXVBPeU-6JM",
        "outputId": "a9e12ff2-31bc-460d-f465-7dcbda020826"
      },
      "execution_count": null,
      "outputs": [
        {
          "output_type": "stream",
          "name": "stdout",
          "text": [
            "Hello\n"
          ]
        }
      ]
    },
    {
      "cell_type": "markdown",
      "source": [
        "***2.Omitting start or stop:***"
      ],
      "metadata": {
        "id": "Ey954VOY_hp_"
      }
    },
    {
      "cell_type": "code",
      "source": [
        "print(my_string[:5])\n",
        "print(my_string[7:])"
      ],
      "metadata": {
        "colab": {
          "base_uri": "https://localhost:8080/"
        },
        "id": "Rwl6g6Lm_okp",
        "outputId": "12a976bd-13fa-4dc6-eb0c-f2e8be925ef2"
      },
      "execution_count": null,
      "outputs": [
        {
          "output_type": "stream",
          "name": "stdout",
          "text": [
            "Hello\n",
            "World!\n"
          ]
        }
      ]
    },
    {
      "cell_type": "markdown",
      "source": [
        "***3.Negative indices:***"
      ],
      "metadata": {
        "id": "u1gemOxT_8BP"
      }
    },
    {
      "cell_type": "code",
      "source": [
        "my_string = \"Hello, World!\"\n",
        "print (my_string[-6:-1])"
      ],
      "metadata": {
        "colab": {
          "base_uri": "https://localhost:8080/"
        },
        "id": "VDke79fwA__Y",
        "outputId": "2a57e5cc-49ad-44b9-bf50-5929ad0e9f1f"
      },
      "execution_count": null,
      "outputs": [
        {
          "output_type": "stream",
          "name": "stdout",
          "text": [
            "World\n"
          ]
        }
      ]
    },
    {
      "cell_type": "markdown",
      "source": [
        "***4.Reverse a string:***"
      ],
      "metadata": {
        "id": "o_ywxacABEr5"
      }
    },
    {
      "cell_type": "code",
      "source": [
        "my_string = \"Hello, World!\"\n",
        "print(my_string[::-1])"
      ],
      "metadata": {
        "id": "cWVErMLPBKq-"
      },
      "execution_count": null,
      "outputs": []
    },
    {
      "cell_type": "markdown",
      "source": [
        "These are the examples which demonstrates versatility of string slicing in python."
      ],
      "metadata": {
        "id": "F2UJqf6PBkx-"
      }
    },
    {
      "cell_type": "markdown",
      "source": [
        "# 2.Explain the key features of lists in Python."
      ],
      "metadata": {
        "id": "AkA7SQxUsX7Y"
      }
    },
    {
      "cell_type": "markdown",
      "source": [
        "**Ans.** ***Python Lists:*** Python list is a collection of things, enclose in[] and seperated by commas.<br> Following are some key features of lists in python---"
      ],
      "metadata": {
        "id": "3z8x-ZPds2rX"
      }
    },
    {
      "cell_type": "markdown",
      "source": [
        "***1.Mutable--*** Lists are mutable ,means we can modify them after creation.<br><br>\n",
        "***2.Ordered Collection--***Lists are ordered collections of items, meaning that the order of the items matters.<br><br>\n",
        "***3.Heterogenous--*** Lists can contain items of different data types, including strings, integers,floats,and other lists.<br><br>\n",
        "4.Indexig-- *italicized text*Lists are indexed,means each item has a unique index (starting from 0) that can be used to access it.<br><br>\n",
        "***5.Dynamic Size--***Lists can row or shrink dynamically as items are added or removed.<br><br>\n",
        "***6.Sliceble--***Lists can be sliced to extract subset of items.<br><br>\n",
        "***7.Insertable-***-Lists have an insert method to add new items at a specific index.<br><br>\n",
        "***8.Removable--***Lists have remove and pop methods to remove items.<br><br>\n",
        "***9.Reversible--***Lists have a reverse method to revere the order of items.<br><br>\n",
        "The are features that make lists a poweful and versatile data stucture in python, suitable for a wide range of applications!\n"
      ],
      "metadata": {
        "id": "lKSLRBfutk7v"
      }
    },
    {
      "cell_type": "markdown",
      "source": [
        "# 3.Describe how to access, modify and delete elements in a list with examples:"
      ],
      "metadata": {
        "id": "C8mmDoNpyaIg"
      }
    },
    {
      "cell_type": "markdown",
      "source": [
        "**Ans.**-we lists are nothing but the collection of things enclosed in []and seperated by comas.<br>\n",
        "Here is how to access, modify, and delete elements in a list with **examples:**<br><br>\n",
        "***Accessing Elements:***<br><br>\n",
        "\n",
        "\n",
        "*   indexing: my_list [index]\n",
        "*   Negative indexing:mys_list[-index]\n",
        "\n",
        "*  Slicing:my_list [start:stop:step]<br><br>\n",
        "***Example:-**\n",
        "\n",
        "\n",
        "\n",
        "\n"
      ],
      "metadata": {
        "id": "8_sMUd2vy2MA"
      }
    },
    {
      "cell_type": "code",
      "source": [
        "my_list = [1, 2, 3, 4, 5]\n",
        "print(my_list[0])\n",
        "print(my_list[-1])\n",
        "print(my_list[1:4])"
      ],
      "metadata": {
        "colab": {
          "base_uri": "https://localhost:8080/"
        },
        "id": "SGGWpBfs1uD6",
        "outputId": "a686f1c5-d757-4b58-91f8-b1731f2b8924"
      },
      "execution_count": null,
      "outputs": [
        {
          "output_type": "stream",
          "name": "stdout",
          "text": [
            "1\n",
            "5\n",
            "[2, 3, 4]\n"
          ]
        }
      ]
    },
    {
      "cell_type": "markdown",
      "source": [
        "M***odifying Elements:***"
      ],
      "metadata": {
        "id": "EGBL0Vzq5Y6j"
      }
    },
    {
      "cell_type": "markdown",
      "source": [
        "\n",
        "\n",
        "*  Assigning a new value: my_list [index]\n",
        "*   Append:my_list.append(value)\n",
        "\n",
        "*   Insert:my_list.insert(index,value)\n"
      ],
      "metadata": {
        "id": "gVa5cc0K5jUS"
      }
    },
    {
      "cell_type": "markdown",
      "source": [
        "**Example:**"
      ],
      "metadata": {
        "id": "1e8FftDZ6k7z"
      }
    },
    {
      "cell_type": "code",
      "source": [
        "my_list = [1, 2, 3, 4, 5]\n",
        "my_list[0] = 10\n",
        "my_list.append(6)\n",
        "my_list.insert(2, 30)\n",
        "print(my_list)"
      ],
      "metadata": {
        "colab": {
          "base_uri": "https://localhost:8080/"
        },
        "id": "CfjRlM3I12sa",
        "outputId": "fe3c82bf-6fa9-4ac9-d2e4-d4341b95d18e"
      },
      "execution_count": null,
      "outputs": [
        {
          "output_type": "stream",
          "name": "stdout",
          "text": [
            "[10, 2, 30, 3, 4, 5, 6]\n"
          ]
        }
      ]
    },
    {
      "cell_type": "markdown",
      "source": [
        "***Deleting Elements:***"
      ],
      "metadata": {
        "id": "P7qpOR9Q63r7"
      }
    },
    {
      "cell_type": "markdown",
      "source": [
        "\n",
        "\n",
        "*   Remove: my-list.remove(value)\n",
        "*   Pop:my_list.pop(index)\n",
        "\n",
        "*  Del:del my_list [index]<br><br>\n",
        "***Example:**\n",
        "\n",
        "\n",
        "\n"
      ],
      "metadata": {
        "id": "Uy2bT1Dt7CGz"
      }
    },
    {
      "cell_type": "code",
      "source": [
        "my_list = [1, 2, 3, 4, 5]\n",
        "my_list.remove(3)\n",
        "my_list.pop(2)\n",
        "del my_list[1]\n",
        "print(my_list)"
      ],
      "metadata": {
        "colab": {
          "base_uri": "https://localhost:8080/"
        },
        "id": "EJmIC6MB6wL7",
        "outputId": "16619742-6fcd-48aa-bfd3-ff14a7f69b24"
      },
      "execution_count": null,
      "outputs": [
        {
          "output_type": "stream",
          "name": "stdout",
          "text": [
            "[1, 5]\n"
          ]
        }
      ]
    },
    {
      "cell_type": "markdown",
      "source": [
        "These are some basic examples, and there are moe ways to access, modify, and delete elements in a list."
      ],
      "metadata": {
        "id": "RyuOlSSn8ISD"
      }
    },
    {
      "cell_type": "markdown",
      "source": [
        "# 4.Compare and contrast tuples and lists with exampls:"
      ],
      "metadata": {
        "id": "h9oUwTx08cHD"
      }
    },
    {
      "cell_type": "markdown",
      "source": [
        "Ans. List is a collection which is ordered and mutable whereas Tuple is a collection which is ordered and unmutable.<br>following are some similarities and differences between tuples and lists in python with examples--"
      ],
      "metadata": {
        "id": "w0ft7Dbl9pMU"
      }
    },
    {
      "cell_type": "markdown",
      "source": [
        "**Similarities:**\n",
        "\n",
        "*  Both tuples and lists are ordered collections of elements.\n",
        "*   Both support indexing, slicing, and iteration.\n",
        "\n",
        "*   Both can contain elements of different data types that means these are heterogenous.\n",
        "\n",
        "\n",
        "\n"
      ],
      "metadata": {
        "id": "B9zJidAq_MjE"
      }
    },
    {
      "cell_type": "markdown",
      "source": [
        "**Differences:**\n",
        "\n",
        "* Immutability:Tuples are immutable, meaning their contents cannot be modified after creation. Lists are mutable, meaning their contents can be modified.\n",
        "*  Syntax: Tuples use parentheses () for definition, while lists use square brackets[].\n",
        "\n",
        "*   Performance: Tuple are faster and more memory-efficient thqan lists due to their immutability.<br><br>Examples:-<br><br>Tuple:\n",
        "\n",
        "\n",
        "\n"
      ],
      "metadata": {
        "id": "3jIs6yt__631"
      }
    },
    {
      "cell_type": "code",
      "source": [
        "my_tuple = (1, 2, 3, 4, 5)\n",
        "my_tuple[0] = 10  # This will raise an error because tuples are immutable."
      ],
      "metadata": {
        "colab": {
          "base_uri": "https://localhost:8080/",
          "height": 158
        },
        "id": "Ea-zHf1aBb-t",
        "outputId": "c940e18c-de08-48fa-fc89-5e59bd18c912"
      },
      "execution_count": null,
      "outputs": [
        {
          "output_type": "error",
          "ename": "TypeError",
          "evalue": "'tuple' object does not support item assignment",
          "traceback": [
            "\u001b[0;31m---------------------------------------------------------------------------\u001b[0m",
            "\u001b[0;31mTypeError\u001b[0m                                 Traceback (most recent call last)",
            "\u001b[0;32m<ipython-input-8-cee75148400b>\u001b[0m in \u001b[0;36m<cell line: 2>\u001b[0;34m()\u001b[0m\n\u001b[1;32m      1\u001b[0m \u001b[0mmy_tuple\u001b[0m \u001b[0;34m=\u001b[0m \u001b[0;34m(\u001b[0m\u001b[0;36m1\u001b[0m\u001b[0;34m,\u001b[0m \u001b[0;36m2\u001b[0m\u001b[0;34m,\u001b[0m \u001b[0;36m3\u001b[0m\u001b[0;34m,\u001b[0m \u001b[0;36m4\u001b[0m\u001b[0;34m,\u001b[0m \u001b[0;36m5\u001b[0m\u001b[0;34m)\u001b[0m\u001b[0;34m\u001b[0m\u001b[0;34m\u001b[0m\u001b[0m\n\u001b[0;32m----> 2\u001b[0;31m \u001b[0mmy_tuple\u001b[0m\u001b[0;34m[\u001b[0m\u001b[0;36m0\u001b[0m\u001b[0;34m]\u001b[0m \u001b[0;34m=\u001b[0m \u001b[0;36m10\u001b[0m  \u001b[0;31m# This will raise an error because tuples are immutable.\u001b[0m\u001b[0;34m\u001b[0m\u001b[0;34m\u001b[0m\u001b[0m\n\u001b[0m",
            "\u001b[0;31mTypeError\u001b[0m: 'tuple' object does not support item assignment"
          ]
        }
      ]
    },
    {
      "cell_type": "markdown",
      "source": [
        "ListL"
      ],
      "metadata": {
        "id": "ovEcb8_OCE58"
      }
    },
    {
      "cell_type": "code",
      "source": [
        "my_list = [1, 2, 3, 4, 5]\n",
        "my_list[0] = 10\n",
        "print(my_list)"
      ],
      "metadata": {
        "colab": {
          "base_uri": "https://localhost:8080/"
        },
        "id": "t1RqWQal7wAl",
        "outputId": "f7c55257-e5e7-4305-d298-69d42b48b47d"
      },
      "execution_count": null,
      "outputs": [
        {
          "output_type": "stream",
          "name": "stdout",
          "text": [
            "[10, 2, 3, 4, 5]\n"
          ]
        }
      ]
    },
    {
      "cell_type": "markdown",
      "source": [
        "# 5.Describe the key features of sets and examples of their use:"
      ],
      "metadata": {
        "id": "O4H2SZPrDhDl"
      }
    },
    {
      "cell_type": "markdown",
      "source": [
        "**Ans**. Following are key features of sets and examples of their use:-<br><br>\n",
        "**Key Features:**\n",
        "\n",
        "1.   ***Unordered collection:*** Sets are unordered, meaning elements don't have a specific order.\n",
        "2.   ***Unique elements:*** Sets only store unique elementssss,eliminating duplicates.\n",
        "\n",
        "3.  *** Fast membership testing:*** Checking if an element is in a set is fast and efficient.\n",
        "4. ***  Mutable:*** Sets can be modified after creation.\n",
        "\n",
        "5.  *** Supports Mathematical Operations ***: Sets support union, intersection, difference,and symmetric difference operations.<br> <br>\n",
        "Example:-\n",
        "\n",
        "\n",
        "\n",
        "\n",
        "\n",
        "\n"
      ],
      "metadata": {
        "id": "R0DHpDYZ5Mr_"
      }
    },
    {
      "cell_type": "code",
      "source": [
        "#Removing duplicates\n",
        "my_list = [1, 2, 2, 3, 4, 4, 5]\n",
        "my_set = set(my_list)\n",
        "print(my_set)"
      ],
      "metadata": {
        "colab": {
          "base_uri": "https://localhost:8080/"
        },
        "id": "YasWrB445IwH",
        "outputId": "47db378b-7c93-446a-d318-260c52e5f86d"
      },
      "execution_count": null,
      "outputs": [
        {
          "output_type": "stream",
          "name": "stdout",
          "text": [
            "{1, 2, 3, 4, 5}\n"
          ]
        }
      ]
    },
    {
      "cell_type": "code",
      "source": [
        "#Fast membership testing:\n",
        "my_set = {1, 2, 3, 4, 5}\n",
        "print(2 in my_set)\n",
        "print(6 in my_set)"
      ],
      "metadata": {
        "colab": {
          "base_uri": "https://localhost:8080/"
        },
        "id": "HFxauu4d71nw",
        "outputId": "95ef325f-1bdb-4f31-ed2a-eb909fc5d638"
      },
      "execution_count": null,
      "outputs": [
        {
          "output_type": "stream",
          "name": "stdout",
          "text": [
            "True\n",
            "False\n"
          ]
        }
      ]
    },
    {
      "cell_type": "code",
      "source": [
        "#Set operations:\n",
        "set1 = {1, 2, 3, 4}\n",
        "set2 = {3, 4, 5, 6}\n",
        "union_set = set1.union(set2)\n",
        "print(union_set)"
      ],
      "metadata": {
        "colab": {
          "base_uri": "https://localhost:8080/"
        },
        "id": "4d-kgyHG8c5p",
        "outputId": "f0ceab97-59f8-4506-c104-7a31f65bc5d0"
      },
      "execution_count": null,
      "outputs": [
        {
          "output_type": "stream",
          "name": "stdout",
          "text": [
            "{1, 2, 3, 4, 5, 6}\n"
          ]
        }
      ]
    },
    {
      "cell_type": "code",
      "source": [
        "#Data Validation:\n",
        "valid_values = {1, 2, 3, 4, 5}\n",
        "new_value = 3\n",
        "if new_value in valid_values:\n",
        "  print(\"Valid value\")\n",
        "else:\n",
        "  print(\"Invalid value\")"
      ],
      "metadata": {
        "colab": {
          "base_uri": "https://localhost:8080/"
        },
        "id": "MwVtQntC86zS",
        "outputId": "0818acc4-d863-4c2a-c3b8-f3c56b57e385"
      },
      "execution_count": null,
      "outputs": [
        {
          "output_type": "stream",
          "name": "stdout",
          "text": [
            "Valid value\n"
          ]
        }
      ]
    },
    {
      "cell_type": "code",
      "source": [
        "#Finding unique elements:\n",
        "set1 = {1, 2, 3, 4, 5}\n",
        "set2 = {4, 5, 6, 7, 8}\n",
        "unique_elements = set1.symmetric_difference(set2)\n",
        "print(unique_elements)"
      ],
      "metadata": {
        "colab": {
          "base_uri": "https://localhost:8080/"
        },
        "id": "tXIkmTvk9WDo",
        "outputId": "5b4a13bf-baf3-4f27-f9d2-c79156f8c7f8"
      },
      "execution_count": null,
      "outputs": [
        {
          "output_type": "stream",
          "name": "stdout",
          "text": [
            "{1, 2, 3, 6, 7, 8}\n"
          ]
        }
      ]
    },
    {
      "cell_type": "markdown",
      "source": [
        "In short, sets provide an efficient way to store unique elements,performfast memvership testing, and execute mathematical operations, making them idea for data validation,removing duplicates, and solving provlems involving unique elements!"
      ],
      "metadata": {
        "id": "ZNurPcCh-EQ4"
      }
    },
    {
      "cell_type": "markdown",
      "source": [
        "# 6.Discuss the use cases of tuples and sets in python programming:"
      ],
      "metadata": {
        "id": "APTyE3T0-oxB"
      }
    },
    {
      "cell_type": "markdown",
      "source": [
        "**Ans**.Here are the use cases for tuples and sets in python programming:<br><br>\n",
        "**Tuples:**\n",
        "\n",
        "1.   ***Immutable Data:*** Use tuples when you need to ensure that data does'nt change.\n",
        "2.   ***Small,Fixed-size collections***:Tuples are memory -efficient for small collections.\n",
        "3.   ***Performance-critical applications***: Tuples are faster that lists due to immutability.\n",
        "4.   ***Dictionary keys***:Tuples can be used as dicionary keys, unlike lists.\n",
        "5.   ***Data records:*** Tuples can be represent data records with named fields (using named tuples).   \n",
        "6.  *** Function Arguments:*** Tuples can be used to pass multiple argument to a function.\n",
        "\n",
        "\n"
      ],
      "metadata": {
        "id": "nNCAAiZH-3cQ"
      }
    },
    {
      "cell_type": "markdown",
      "source": [
        "**Sets:**\n",
        "\n",
        "1.  *** Unique Elements***: Use sets when you need to ensure that elements are unique.\n",
        "\n",
        "1.   ***Fast Membership testing***: Sets provide fast membership Testing.\n",
        "2.   ***Data Validation:*** Sets can validate data by checking membership.\n",
        "\n",
        "2.   ***Mathematical Operations:*** Sets supports nion, intersection, difference, and symmetric difference operations.\n",
        "\n",
        "1.   ***Removing Duplicates:*** Sets can remove duplicates from a collection.\n",
        "2.   ***Data Normalization:*** Sets can be used to normalize data by removing duplicates and sorting elements.<br><br>\n",
        "In short,Tuples are ideal for immutable data, small collections, and performance-critical applications, whiloe sets are perfect for unique elements, fast membership testing, and mathematical  operations. By chooosing the right data structure, you can write more efficient, readable, and maintainable code!\n",
        "\n",
        "\n",
        "\n"
      ],
      "metadata": {
        "id": "dJGS_xSSBsI5"
      }
    },
    {
      "cell_type": "markdown",
      "source": [
        "# 7.Describe how to add, modify, and delete items in a dictionary with examples:"
      ],
      "metadata": {
        "id": "wFzZ-qTmFLpX"
      }
    },
    {
      "cell_type": "markdown",
      "source": [
        "Ans. Here is how to add ,modify and delete items in a dictoionary with examples:"
      ],
      "metadata": {
        "id": "Yn77EBmS465S"
      }
    },
    {
      "cell_type": "markdown",
      "source": [
        "***Adding Items:***\n",
        "\n",
        "*  Using the key syntax: dict[key] =value\n",
        "*   Using the update()method: dict.update({key:value})<br><br>\n",
        "**Example:-**\n",
        "\n"
      ],
      "metadata": {
        "id": "-BZhy3Lf5ZoS"
      }
    },
    {
      "cell_type": "code",
      "source": [
        "my_dict = {}\n",
        "my_dict['name'] = 'John'\n",
        "my_dict.update({'age': 25})\n",
        "print(my_dict)\n"
      ],
      "metadata": {
        "id": "4f-KISdK9wtQ",
        "colab": {
          "base_uri": "https://localhost:8080/"
        },
        "outputId": "6cc2b96b-4c90-46df-a2c4-526de29e0d8a"
      },
      "execution_count": null,
      "outputs": [
        {
          "output_type": "stream",
          "name": "stdout",
          "text": [
            "{'name': 'John', 'age': 25}\n"
          ]
        }
      ]
    },
    {
      "cell_type": "markdown",
      "source": [
        "***Modifying Items:***\n",
        "\n",
        "*   Using the key syntax: dict[key] = new_value\n",
        "[link text](https://)\n",
        "\n"
      ],
      "metadata": {
        "id": "wU8dEtpk6ySz"
      }
    },
    {
      "cell_type": "code",
      "source": [
        "my_dict = {'name': 'John', 'age': 25}\n",
        "my_dict['age'] = 30\n",
        "print(my_dict)"
      ],
      "metadata": {
        "colab": {
          "base_uri": "https://localhost:8080/"
        },
        "id": "x1GTEdDd6dDV",
        "outputId": "4d0ac0bc-f5fa-490c-860e-77b00e9d0b71"
      },
      "execution_count": null,
      "outputs": [
        {
          "output_type": "stream",
          "name": "stdout",
          "text": [
            "{'name': 'John', 'age': 30}\n"
          ]
        }
      ]
    },
    {
      "cell_type": "code",
      "source": [],
      "metadata": {
        "id": "Wuo2gMrm7PnW"
      },
      "execution_count": null,
      "outputs": []
    },
    {
      "cell_type": "markdown",
      "source": [
        "***Deleting Items:***\n",
        "\n",
        "*   Using the del statement:deldict[key]\n",
        "*   Using the clear()method:dict.clear()(deletes all items)\n",
        "\n",
        "*   Using pop()method: dict.pop(key)<br><br> Example:-\n",
        "\n",
        "\n",
        "\n"
      ],
      "metadata": {
        "id": "tNUgQBum7SDL"
      }
    },
    {
      "cell_type": "code",
      "source": [
        "my_dict = {'name': 'John', 'age': 25}\n",
        "del my_dict['age']\n",
        "my_dict.clear()\n",
        "print(my_dict)"
      ],
      "metadata": {
        "colab": {
          "base_uri": "https://localhost:8080/"
        },
        "id": "GK9JFXSm8HmE",
        "outputId": "23803add-d3ea-4c71-e85d-b8731344a7e8"
      },
      "execution_count": null,
      "outputs": [
        {
          "output_type": "stream",
          "name": "stdout",
          "text": [
            "{}\n"
          ]
        }
      ]
    },
    {
      "cell_type": "code",
      "source": [],
      "metadata": {
        "id": "d1Oay19N8RwW"
      },
      "execution_count": null,
      "outputs": []
    },
    {
      "cell_type": "markdown",
      "source": [
        "# 8.Discuss the importance of dictionary keys being immutable and provide examples:"
      ],
      "metadata": {
        "id": "2v65qVrQ8tUs"
      }
    },
    {
      "cell_type": "code",
      "source": [],
      "metadata": {
        "id": "dcEk7ZdQ896A"
      },
      "execution_count": null,
      "outputs": []
    },
    {
      "cell_type": "markdown",
      "source": [
        "Ans. Dictionary keys being immutable is crucial in python because it ensures that:\n",
        "\n",
        "1.   **Keys remain Unique:** Immutable keys prevent accidental changes, maintaining uniqueness.\n",
        "2. **Hash values remain consistent:** Immutable key esnsure consistent hash values, allowing efficient lookups.\n",
        "\n",
        "3. **Dictoinary integrity** Immutable keys prevent unexpected changes, maintaining dictionary structure.<br><br> **Examples:-**\n",
        "\n"
      ],
      "metadata": {
        "id": "r6KwIKGU8_bf"
      }
    },
    {
      "cell_type": "code",
      "source": [
        "#Immutable keys (tuples) work correctly:\n",
        "my_dict = {(1, 2): 'value1', (3, 4): 'value2'}\n",
        "print(my_dict[(1, 2)])"
      ],
      "metadata": {
        "colab": {
          "base_uri": "https://localhost:8080/"
        },
        "id": "0gXGt7GU-x6K",
        "outputId": "fdd43935-46ec-4438-bcd2-6400fba670ad"
      },
      "execution_count": null,
      "outputs": [
        {
          "output_type": "stream",
          "name": "stdout",
          "text": [
            "value1\n"
          ]
        }
      ]
    },
    {
      "cell_type": "code",
      "source": [
        "#mutable keys (lists)lead to Errors:\n",
        "my_dict = {[1, 2]: 'value1', [3, 4]: 'value2'}\n",
        "#"
      ],
      "metadata": {
        "colab": {
          "base_uri": "https://localhost:8080/",
          "height": 176
        },
        "id": "0go-0t3E_FZV",
        "outputId": "7f0ebbf7-b3ad-4755-ad29-14756f5f5729"
      },
      "execution_count": null,
      "outputs": [
        {
          "output_type": "error",
          "ename": "TypeError",
          "evalue": "unhashable type: 'list'",
          "traceback": [
            "\u001b[0;31m---------------------------------------------------------------------------\u001b[0m",
            "\u001b[0;31mTypeError\u001b[0m                                 Traceback (most recent call last)",
            "\u001b[0;32m<ipython-input-8-394b5aacfe16>\u001b[0m in \u001b[0;36m<cell line: 2>\u001b[0;34m()\u001b[0m\n\u001b[1;32m      1\u001b[0m \u001b[0;31m#mutable keys (lists)lead to Errors:\u001b[0m\u001b[0;34m\u001b[0m\u001b[0;34m\u001b[0m\u001b[0m\n\u001b[0;32m----> 2\u001b[0;31m \u001b[0mmy_dict\u001b[0m \u001b[0;34m=\u001b[0m \u001b[0;34m{\u001b[0m\u001b[0;34m[\u001b[0m\u001b[0;36m1\u001b[0m\u001b[0;34m,\u001b[0m \u001b[0;36m2\u001b[0m\u001b[0;34m]\u001b[0m\u001b[0;34m:\u001b[0m \u001b[0;34m'value1'\u001b[0m\u001b[0;34m,\u001b[0m \u001b[0;34m[\u001b[0m\u001b[0;36m3\u001b[0m\u001b[0;34m,\u001b[0m \u001b[0;36m4\u001b[0m\u001b[0;34m]\u001b[0m\u001b[0;34m:\u001b[0m \u001b[0;34m'value2'\u001b[0m\u001b[0;34m}\u001b[0m\u001b[0;34m\u001b[0m\u001b[0;34m\u001b[0m\u001b[0m\n\u001b[0m\u001b[1;32m      3\u001b[0m \u001b[0;31m#\u001b[0m\u001b[0;34m\u001b[0m\u001b[0;34m\u001b[0m\u001b[0m\n",
            "\u001b[0;31mTypeError\u001b[0m: unhashable type: 'list'"
          ]
        }
      ]
    },
    {
      "cell_type": "code",
      "source": [
        "#Strings and integers are immutable and work as keys:\n",
        "my_dict = {'key1': 'value1', 'key2': 'value2'}\n",
        "print(my_dict['key1'])"
      ],
      "metadata": {
        "colab": {
          "base_uri": "https://localhost:8080/"
        },
        "id": "6U14Wi3B_Wvl",
        "outputId": "bf74bf27-6fd1-4b02-8dc0-211aa9058640"
      },
      "execution_count": null,
      "outputs": [
        {
          "output_type": "stream",
          "name": "stdout",
          "text": [
            "value1\n"
          ]
        }
      ]
    },
    {
      "cell_type": "markdown",
      "source": [
        "In Short, Immutable dictionary keys ensure uniqueness, consistent hash values, and dictionary integrity.Always use ummutable types like tuples,strings,or integers as dictionary keys."
      ],
      "metadata": {
        "id": "cZDg2ApD_x93"
      }
    },
    {
      "cell_type": "code",
      "source": [],
      "metadata": {
        "id": "Ovdt5LHG_UkD"
      },
      "execution_count": null,
      "outputs": []
    }
  ]
}