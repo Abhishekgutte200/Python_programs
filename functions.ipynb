{
  "nbformat": 4,
  "nbformat_minor": 0,
  "metadata": {
    "colab": {
      "provenance": [],
      "authorship_tag": "ABX9TyOBMEVQqkEtOfpyARMBNwcZ",
      "include_colab_link": true
    },
    "kernelspec": {
      "name": "python3",
      "display_name": "Python 3"
    },
    "language_info": {
      "name": "python"
    }
  },
  "cells": [
    {
      "cell_type": "markdown",
      "metadata": {
        "id": "view-in-github",
        "colab_type": "text"
      },
      "source": [
        "<a href=\"https://colab.research.google.com/github/Abhishekgutte200/Python_programs/blob/main/functions.ipynb\" target=\"_parent\"><img src=\"https://colab.research.google.com/assets/colab-badge.svg\" alt=\"Open In Colab\"/></a>"
      ]
    },
    {
      "cell_type": "markdown",
      "source": [
        "# 1.What is the difference between a function and a method in python?"
      ],
      "metadata": {
        "id": "IcL6jQl6zbo0"
      }
    },
    {
      "cell_type": "markdown",
      "source": [
        "Functions:\n",
        "\n",
        "1. Independent blocks of code.\n",
        "2. Defined outside classes.\n",
        "3. Called directly by their name.\n",
        "4. Don't have access to a specific object's attributes.\n",
        "\n",
        "\n",
        "\n",
        "\n"
      ],
      "metadata": {
        "id": "TGwzxtMR06_H"
      }
    },
    {
      "cell_type": "code",
      "source": [
        "#Example:\n",
        "\n",
        "def greet(name):\n",
        "    print(f\"Hello, {name}!\")\n",
        "\n",
        "greet(\"John\")"
      ],
      "metadata": {
        "colab": {
          "base_uri": "https://localhost:8080/"
        },
        "id": "N9MiuKIhzuaC",
        "outputId": "b913fcbc-ff9b-4db6-89a5-1382ffd9dec0"
      },
      "execution_count": null,
      "outputs": [
        {
          "output_type": "stream",
          "name": "stdout",
          "text": [
            "Hello, John!\n"
          ]
        }
      ]
    },
    {
      "cell_type": "markdown",
      "source": [
        "Methods:\n",
        "\n",
        "1. Defined inside classes.\n",
        "2. Belong to a specific object or class.\n",
        "3. Called using the object's name followed by the method name.\n",
        "4. Have access to the object's attributes.\n",
        "\n",
        "\n",
        "\n",
        "\n",
        "\n"
      ],
      "metadata": {
        "id": "OQOrSCjj18AZ"
      }
    },
    {
      "cell_type": "code",
      "source": [
        "#Example:\n",
        "\n",
        "class Person:\n",
        "    def __init__(self, name):\n",
        "        self.name = name\n",
        "\n",
        "    def greet(self):\n",
        "        print(f\"Hello, my name is {self.name}!\")\n",
        "\n",
        "person = Person(\"John\")\n",
        "person.greet()"
      ],
      "metadata": {
        "colab": {
          "base_uri": "https://localhost:8080/"
        },
        "id": "DJZU9THq1pSh",
        "outputId": "936ca0ee-dfdf-4a40-869e-713c8b89207c"
      },
      "execution_count": null,
      "outputs": [
        {
          "output_type": "stream",
          "name": "stdout",
          "text": [
            "Hello, my name is John!\n"
          ]
        }
      ]
    },
    {
      "cell_type": "markdown",
      "source": [
        "Key differences:\n",
        "\n",
        "\n",
        "- Context: Functions are standalone, while methods are part of a class.\n",
        "- Access: Methods can access object attributes; functions cannot.\n",
        "- Calling: Functions are called directly; methods are called using an object.\n"
      ],
      "metadata": {
        "id": "_FVJ7xk62EFH"
      }
    },
    {
      "cell_type": "markdown",
      "source": [
        "# 2.Explain the concept of function arguments and parameters in python."
      ],
      "metadata": {
        "id": "B0VaWX-D2fnI"
      }
    },
    {
      "cell_type": "markdown",
      "source": [
        "In Python, parameters are the variables listed inside the parentheses in the function definition.\n",
        "\n",
        "Arguments are the values that are sent to the function when it is called.\n",
        "\n",
        "For example, in your code:\n"
      ],
      "metadata": {
        "id": "esL9N0GI3JDG"
      }
    },
    {
      "source": [
        "def greet(name):\n",
        "    print(f\"Hello, {name}!\")\n",
        "\n",
        "greet(\"John\")"
      ],
      "cell_type": "code",
      "metadata": {
        "colab": {
          "base_uri": "https://localhost:8080/"
        },
        "id": "MuQIH7ZD3IG3",
        "outputId": "2d9b1009-40bc-4567-b11d-240a950cd968"
      },
      "execution_count": null,
      "outputs": [
        {
          "output_type": "stream",
          "name": "stdout",
          "text": [
            "Hello, John!\n"
          ]
        }
      ]
    },
    {
      "cell_type": "markdown",
      "source": [
        "name is the parameter and \"John\" is the argument."
      ],
      "metadata": {
        "id": "QupNV2Qm3aYo"
      }
    },
    {
      "cell_type": "markdown",
      "source": [
        "# 3.What are the different ways to define and call a function in python?"
      ],
      "metadata": {
        "id": "ymmdQ48r33IH"
      }
    },
    {
      "cell_type": "markdown",
      "source": [
        "**Defining a Function**\n",
        "\n",
        "***Standard Function*** : Use the def keyword followed by the function name, parentheses for parameters, and a colon."
      ],
      "metadata": {
        "id": "o_MYOVLQ5j08"
      }
    },
    {
      "source": [
        "\n",
        "def greet(name):\n",
        "    print(f\"Hello, {name}!\")\n",
        "\n"
      ],
      "cell_type": "code",
      "metadata": {
        "id": "m_LZNhWg5UJN"
      },
      "execution_count": null,
      "outputs": []
    },
    {
      "cell_type": "markdown",
      "source": [
        "***Lambda Function***: Create small, anonymous functions using the lambda keyword."
      ],
      "metadata": {
        "id": "HkbyeBOB5qk8"
      }
    },
    {
      "source": [
        "add = lambda x, y: x + y"
      ],
      "cell_type": "code",
      "metadata": {
        "id": "G-ULX_Mh5Utt"
      },
      "execution_count": null,
      "outputs": []
    },
    {
      "cell_type": "markdown",
      "source": [
        "**Calling a Function**\n",
        "\n",
        "***Direct Call ***: Use the function name followed by parentheses."
      ],
      "metadata": {
        "id": "4rpQHTEY51M0"
      }
    },
    {
      "source": [
        "def my_function(arg1 ,arg2):\n",
        "       result = my_function(arg1, arg2)\n",
        "       print(result)"
      ],
      "cell_type": "code",
      "metadata": {
        "id": "yJ0w3vaX5Vat"
      },
      "execution_count": null,
      "outputs": []
    },
    {
      "cell_type": "markdown",
      "source": [
        "Call within a Function: Functions can call other functions."
      ],
      "metadata": {
        "id": "ZiT916mE6H4d"
      }
    },
    {
      "cell_type": "code",
      "source": [
        "def outer_function():\n",
        "    def inner_function():\n",
        "        print(\"Inner function\")\n",
        "    inner_function()\n",
        "\n",
        "outer_function()"
      ],
      "metadata": {
        "colab": {
          "base_uri": "https://localhost:8080/"
        },
        "id": "0MvN8GR79TgY",
        "outputId": "c66c32df-ce94-4870-f39b-4f15b6a10d78"
      },
      "execution_count": null,
      "outputs": [
        {
          "output_type": "stream",
          "name": "stdout",
          "text": [
            "Inner function\n"
          ]
        }
      ]
    },
    {
      "cell_type": "markdown",
      "source": [
        "Call using a Variable: If a function is assigned to a variable, call it using the variable name."
      ],
      "metadata": {
        "id": "cN6agsxN60XT"
      }
    },
    {
      "source": [
        "def my_function():\n",
        "    print(\"Hello, World!\")\n",
        "\n",
        "my_function()"
      ],
      "cell_type": "code",
      "metadata": {
        "colab": {
          "base_uri": "https://localhost:8080/"
        },
        "id": "gG1tEBlw5aX9",
        "outputId": "4eefdb7f-81b8-4d19-8623-8d92abe8454b"
      },
      "execution_count": null,
      "outputs": [
        {
          "output_type": "stream",
          "name": "stdout",
          "text": [
            "Hello, World!\n"
          ]
        }
      ]
    },
    {
      "cell_type": "markdown",
      "source": [
        "# 4.What is the purpose of the 'return' statement in a python function?"
      ],
      "metadata": {
        "id": "OuVWRY02-imv"
      }
    },
    {
      "cell_type": "markdown",
      "source": [
        "In Python, a 'return' statement is used to specify the value that a function should output. When a return statement is encountered within a function, the function's execution immediately stops, and the specified value is passed back to the caller of the function."
      ],
      "metadata": {
        "id": "OxyeTAXVAqUF"
      }
    },
    {
      "source": [
        "def add(x, y):\n",
        "  return x + y\n",
        "\n",
        "result = add(5, 3)\n",
        "print(result)\n"
      ],
      "cell_type": "code",
      "metadata": {
        "colab": {
          "base_uri": "https://localhost:8080/"
        },
        "id": "JsOxX54LA7wn",
        "outputId": "56636ce4-90d8-4bf8-bd41-1985fb0c91ef"
      },
      "execution_count": null,
      "outputs": [
        {
          "output_type": "stream",
          "name": "stdout",
          "text": [
            "8\n"
          ]
        }
      ]
    },
    {
      "cell_type": "markdown",
      "source": [
        "# 5.What are iterators in python and how do they differ from iterables?"
      ],
      "metadata": {
        "id": "uKOYT1dJA_d9"
      }
    },
    {
      "cell_type": "markdown",
      "source": [
        "In Python, iterables are objects that you can iterate over, like lists, tuples, and strings. Iterators are objects that allow you to traverse through an iterable, returning one element at a time.\n",
        "\n",
        "Iterables have the __iter__() method, which returns an iterator object. Iterators have the __next__() method which returns the next element in the sequence.\n",
        "\n",
        "For example:"
      ],
      "metadata": {
        "id": "bF4LbHJUBz_-"
      }
    },
    {
      "source": [
        "my_list = [1, 2, 3] #This is an iterable\n",
        "my_iterator = iter(my_list) # This returns an iterator\n",
        "\n",
        "print(next(my_iterator))\n",
        "print(next(my_iterator))\n",
        "print(next(my_iterator))"
      ],
      "cell_type": "code",
      "metadata": {
        "colab": {
          "base_uri": "https://localhost:8080/"
        },
        "id": "klVNf8JvBv6F",
        "outputId": "0fcc166a-4731-4e72-fc5c-334154a2fcf5"
      },
      "execution_count": null,
      "outputs": [
        {
          "output_type": "stream",
          "name": "stdout",
          "text": [
            "1\n",
            "2\n",
            "3\n"
          ]
        }
      ]
    },
    {
      "cell_type": "markdown",
      "source": [
        "# 6.Explain the concept of generators in python and how they are defined."
      ],
      "metadata": {
        "id": "iZa8RXXcCN_E"
      }
    },
    {
      "cell_type": "markdown",
      "source": [],
      "metadata": {
        "id": "XI0rCe3cDZ2Y"
      }
    },
    {
      "cell_type": "markdown",
      "source": [
        "Generators are special functions that produce a sequence of values using the yield keyword. When called, they don't return a single value, but an iterator. This iterator can be used to generate values on demand, which is memory-efficient, especially for large datasets.\n",
        "\n",
        "Here's how you define a generator:"
      ],
      "metadata": {
        "id": "4qxo5SVdCokk"
      }
    },
    {
      "source": [
        "def my_generator(n):\n",
        "  for i in range(n):\n",
        "    yield i"
      ],
      "cell_type": "code",
      "metadata": {
        "id": "kx8tZAMTCmrN"
      },
      "execution_count": null,
      "outputs": []
    },
    {
      "cell_type": "markdown",
      "source": [
        "This code defines a generator my_generator that yields numbers from 0 to n-1. The yield keyword pauses the function and returns a value. When you call next() on the generator's iterator, it resumes from where it left off and yields the next value."
      ],
      "metadata": {
        "id": "vKBn1VT8Cqpz"
      }
    },
    {
      "cell_type": "markdown",
      "source": [
        "# 7.What are the advantages of using generators over regular functions?"
      ],
      "metadata": {
        "id": "6hhqrFffCzgj"
      }
    },
    {
      "cell_type": "markdown",
      "source": [
        "\n",
        "Generators have several advantages over regular functions:\n",
        "\n",
        "***Memory Efficiency:*** Generators yield one value at a time, so they don't store the entire sequence in memory. This is useful for large datasets.\n",
        "\n",
        "***Lazy Evaluation***:Values are generated only when needed, improving performance.\n",
        "\n",
        "***Infinite Sequences:*** Generators can represent infinite sequences without consuming infinite memory.\n",
        "\n",
        "***Readability:*** Generators can simplify code for tasks like generating sequences.\n",
        "\n",
        "For example, if you need to process a large file, a generator can read and process it line by line without loading the whole file into memory."
      ],
      "metadata": {
        "id": "ubylgfTJDcg0"
      }
    },
    {
      "cell_type": "markdown",
      "source": [
        "# 8.What is a lambda function in python and when is it typically used?"
      ],
      "metadata": {
        "id": "UtlsKh-5EeQy"
      }
    },
    {
      "cell_type": "markdown",
      "source": [
        "\n",
        "\n",
        "Lambda functions are small, anonymous functions defined using the lambda keyword. They are typically used when you need a simple function for a short period and don't want to define a full function using def.\n",
        "\n",
        "For example:"
      ],
      "metadata": {
        "id": "aZ1B4qksE6Za"
      }
    },
    {
      "source": [
        "add = lambda x, y: x + y"
      ],
      "cell_type": "code",
      "metadata": {
        "id": "-HaybrqbE5bb"
      },
      "execution_count": null,
      "outputs": []
    },
    {
      "cell_type": "markdown",
      "source": [
        "This code defines a lambda function that takes two arguments and returns their sum. It's often used with functions like map, filter, and reduce."
      ],
      "metadata": {
        "id": "7WGEMNuLE8Da"
      }
    },
    {
      "cell_type": "markdown",
      "source": [
        "# 9.Explain the purpose and usage of the 'map()' function in python."
      ],
      "metadata": {
        "id": "aYzG7yvoFLuC"
      }
    },
    {
      "cell_type": "markdown",
      "source": [
        "The map() function applies a given function to each item in an iterable (like a list or tuple) and returns an iterator with the results.\n",
        "\n",
        "**1.Define a function:** This function will be applied to each element of the iterable."
      ],
      "metadata": {
        "id": "x5l44JuFG6GY"
      }
    },
    {
      "source": [
        "def square(x):\n",
        "       return x * x"
      ],
      "cell_type": "code",
      "metadata": {
        "id": "ufTlB59FG4Px"
      },
      "execution_count": null,
      "outputs": []
    },
    {
      "cell_type": "markdown",
      "source": [
        "**2.Create an iterable:** This could be a list, tuple, etc."
      ],
      "metadata": {
        "id": "xEwEgmRUG9hQ"
      }
    },
    {
      "source": [
        "numbers = [1, 2, 3, 4, 5]"
      ],
      "cell_type": "code",
      "metadata": {
        "id": "3MVljNWzHCJ4"
      },
      "execution_count": null,
      "outputs": []
    },
    {
      "cell_type": "markdown",
      "source": [
        "**3.Use the map() function**: Pass the function and the iterable as arguments to map()."
      ],
      "metadata": {
        "id": "umF-1mnBHDOP"
      }
    },
    {
      "source": [
        "squared_numbers = map(square, numbers)"
      ],
      "cell_type": "code",
      "metadata": {
        "id": "SzJorH_aHHQA"
      },
      "execution_count": null,
      "outputs": []
    },
    {
      "cell_type": "markdown",
      "source": [
        "**4.Convert to a list (or another iterable):** The map() function returns an iterator. To see the results, convert it to a list."
      ],
      "metadata": {
        "id": "sLOYwtiVHJQv"
      }
    },
    {
      "source": [
        "squared_numbers_list = list(squared_numbers)"
      ],
      "cell_type": "code",
      "metadata": {
        "id": "7pLyS_2OHLyI"
      },
      "execution_count": null,
      "outputs": []
    },
    {
      "cell_type": "markdown",
      "source": [
        "Execute the code yourself to see the output.\n",
        "\n",
        "When to use map():\n",
        "\n",
        "When you need to apply the same operation to every item in an iterable.\n",
        "When you want to transform the elements of an iterable.\n",
        "Instead of using map(), you can achieve the same results using list comprehension which might be more efficient."
      ],
      "metadata": {
        "id": "iR8YWMfLHPkf"
      }
    },
    {
      "cell_type": "markdown",
      "source": [
        "# 10.What is the difference between 'map()','reduce()'and 'filter()' functions in python?"
      ],
      "metadata": {
        "id": "5B-ijU4vH7u3"
      }
    },
    {
      "cell_type": "markdown",
      "source": [
        "\n",
        "\n",
        "Here's the difference between map(), reduce(), and filter():\n",
        "\n",
        "**map()**: This function applies a given function to each item in an iterable (like a list) and returns an iterator with the results.\n",
        "\n",
        "**reduce()**: This function applies a given function to the elements of an iterable in a cumulative way, reducing them to a single value.\n",
        "\n",
        "**filter()** : This function creates an iterator with elements from an iterable that pass a certain condition.\n",
        "Here's a simple example to illustrate the differences:"
      ],
      "metadata": {
        "id": "QrMxm-JaI5D1"
      }
    },
    {
      "source": [
        "# Define functions for map, reduce, and filter\n",
        "def square(x):\n",
        "  return x * x\n",
        "\n",
        "def add(x, y):\n",
        "  return x + y\n",
        "\n",
        "def is_even(x):\n",
        "  return x % 2 == 0\n",
        "\n",
        "# Create a list\n",
        "numbers = [1, 2, 3, 4, 5]\n",
        "\n",
        "# Use map to square each number\n",
        "squared_numbers = map(square, numbers)\n",
        "\n",
        "# Use reduce to add all numbers\n",
        "from functools import reduce\n",
        "sum_of_numbers = reduce(add, numbers)\n",
        "\n",
        "# Use filter to get even numbers\n",
        "even_numbers = filter(is_even, numbers)\n",
        "\n",
        "# Convert the results to lists to see the output\n",
        "squared_numbers_list = list(squared_numbers)\n",
        "even_numbers_list = list(even_numbers)\n",
        "\n",
        "print(squared_numbers_list)\n",
        "print(sum_of_numbers)\n",
        "print(even_numbers_list)"
      ],
      "cell_type": "code",
      "metadata": {
        "colab": {
          "base_uri": "https://localhost:8080/"
        },
        "id": "1VZBcDiYI38X",
        "outputId": "7a16595c-40a6-48c1-b47f-26723614a7bd"
      },
      "execution_count": null,
      "outputs": [
        {
          "output_type": "stream",
          "name": "stdout",
          "text": [
            "[1, 4, 9, 16, 25]\n",
            "15\n",
            "[2, 4]\n"
          ]
        }
      ]
    },
    {
      "cell_type": "markdown",
      "source": [
        "# 11.Using pen and paper write the internal mechanism for sum operation using reduce function on this given list[47,11,42,13];\n",
        "\n"
      ],
      "metadata": {
        "id": "YvgBeDj3JVEG"
      }
    },
    {
      "cell_type": "markdown",
      "source": [
        "Steps\n",
        "\n",
        "**1.reduce(add, [47, 11, 42, 13])**\n",
        "\n",
        "The reduce function is called with the add function (which performs addition) and the list.\n",
        "\n",
        "**2.add(47, 11)**\n",
        "\n",
        "reduce takes the first two elements (47 and 11) and applies the add function to them.\n",
        "Result: 58\n",
        "\n",
        "**3.add(58, 42)**\n",
        "\n",
        "reduce takes the previous result (58) and the next element (42) and applies add.\n",
        "Result: 100\n",
        "\n",
        "**4.add(100, 13)**\n",
        "\n",
        "reduce takes the previous result (100) and the last element (13) and applies add.\n",
        "Result: 113\n",
        "\n",
        "**5.113**\n",
        "\n",
        "reduce has processed all elements and returns the final result: 113\n",
        "Sources\n",
        "Rate this answer\n"
      ],
      "metadata": {
        "id": "TdYSQo2FLAPc"
      }
    },
    {
      "cell_type": "markdown",
      "source": [
        "12."
      ],
      "metadata": {
        "id": "yWUknJuFMjJa"
      }
    },
    {
      "cell_type": "markdown",
      "source": [
        "# **PRACTICAL QUESTIONS**"
      ],
      "metadata": {
        "id": "pRwD-IviNigx"
      }
    },
    {
      "cell_type": "markdown",
      "source": [
        "# 1.Write a python function that takes a list of numbers as input and returns the sum of all even numbers in the list."
      ],
      "metadata": {
        "id": "CGG9I57KNyFi"
      }
    },
    {
      "source": [
        "def sum_even_numbers(numbers):\n",
        "  \"\"\"\n",
        "  This function takes a list of numbers and returns the sum of all even numbers.\n",
        "  \"\"\"\n",
        "  sum = 0\n",
        "  for number in numbers:\n",
        "    if number % 2 == 0:\n",
        "      sum += number\n",
        "  return sum\n",
        "\n",
        "# Example usage\n",
        "numbers = [1, 2, 3, 4, 5, 6]\n",
        "even_sum = sum_even_numbers(numbers)\n",
        "print(f\"The sum of even numbers is: {even_sum}\")"
      ],
      "cell_type": "code",
      "metadata": {
        "colab": {
          "base_uri": "https://localhost:8080/"
        },
        "id": "taRunKCGT9Xm",
        "outputId": "4fc036fa-25c0-4a6c-e2f0-c60f9f884919"
      },
      "execution_count": null,
      "outputs": [
        {
          "output_type": "stream",
          "name": "stdout",
          "text": [
            "The sum of even numbers is: 12\n"
          ]
        }
      ]
    },
    {
      "cell_type": "markdown",
      "source": [
        "# 2.Create a python function that accepts a string and returns the reverse of that string."
      ],
      "metadata": {
        "id": "9gEwUlsaUEej"
      }
    },
    {
      "source": [
        "def reverse_string(s):\n",
        "  return s[::-1]\n",
        "\n",
        "# Example usage\n",
        "string = \"Hello, World!\"\n",
        "reversed_string = reverse_string(string)\n",
        "print(f\"Reversed string: {reversed_string}\")"
      ],
      "cell_type": "code",
      "metadata": {
        "colab": {
          "base_uri": "https://localhost:8080/"
        },
        "id": "qn2qoDN1UeZs",
        "outputId": "e399411e-be9e-4d15-9fed-e8cf4978d6f2"
      },
      "execution_count": null,
      "outputs": [
        {
          "output_type": "stream",
          "name": "stdout",
          "text": [
            "Reversed string: !dlroW ,olleH\n"
          ]
        }
      ]
    },
    {
      "cell_type": "markdown",
      "source": [
        "# 3.Implement a python function that takes a list of integers and returns a new list containing the square of each number."
      ],
      "metadata": {
        "id": "cDDmK2VMUtAC"
      }
    },
    {
      "source": [
        "def square_list(numbers):\n",
        "  \"\"\"\n",
        "  This function takes a list of integers and returns a new list containing the square of each number.\n",
        "  \"\"\"\n",
        "  squared_numbers = [number**2 for number in numbers]\n",
        "  return squared_numbers\n",
        "\n",
        "# Example usage\n",
        "numbers = [1, 2, 3, 4, 5]\n",
        "squared_numbers = square_list(numbers)\n",
        "print(f\"Squared numbers: {squared_numbers}\")"
      ],
      "cell_type": "code",
      "metadata": {
        "colab": {
          "base_uri": "https://localhost:8080/"
        },
        "id": "DvTcji83l5MO",
        "outputId": "d625360d-7c01-4714-c976-77fbb1ddee84"
      },
      "execution_count": null,
      "outputs": [
        {
          "output_type": "stream",
          "name": "stdout",
          "text": [
            "Squared numbers: [1, 4, 9, 16, 25]\n"
          ]
        }
      ]
    },
    {
      "cell_type": "markdown",
      "source": [
        "# 4.Write a python function that checks if a given number is prime or not from 1 to 200"
      ],
      "metadata": {
        "id": "rVEpmhjqmC8s"
      }
    },
    {
      "source": [
        "def is_prime(n):\n",
        "  \"\"\"\n",
        "  This function checks if a number is prime or not.\n",
        "  \"\"\"\n",
        "  if n <= 1:\n",
        "    return False\n",
        "  if n <= 3:\n",
        "    return True\n",
        "  if n % 2 == 0 or n % 3 == 0:\n",
        "    return False\n",
        "  i = 5\n",
        "  while i * i <= n:\n",
        "    if n % i == 0 or n % (i + 2) == 0:\n",
        "      return False\n",
        "    i += 6\n",
        "  return True\n",
        "\n",
        "# Example usage\n",
        "for num in range(1, 201):\n",
        "    if is_prime(num):\n",
        "        print(f\"{num} is a prime number\")"
      ],
      "cell_type": "code",
      "metadata": {
        "colab": {
          "base_uri": "https://localhost:8080/"
        },
        "id": "1xo1kOYqmv7m",
        "outputId": "27ab4fa3-28ac-43bf-cc85-827b3ce50a64"
      },
      "execution_count": null,
      "outputs": [
        {
          "output_type": "stream",
          "name": "stdout",
          "text": [
            "2 is a prime number\n",
            "3 is a prime number\n",
            "5 is a prime number\n",
            "7 is a prime number\n",
            "11 is a prime number\n",
            "13 is a prime number\n",
            "17 is a prime number\n",
            "19 is a prime number\n",
            "23 is a prime number\n",
            "29 is a prime number\n",
            "31 is a prime number\n",
            "37 is a prime number\n",
            "41 is a prime number\n",
            "43 is a prime number\n",
            "47 is a prime number\n",
            "53 is a prime number\n",
            "59 is a prime number\n",
            "61 is a prime number\n",
            "67 is a prime number\n",
            "71 is a prime number\n",
            "73 is a prime number\n",
            "79 is a prime number\n",
            "83 is a prime number\n",
            "89 is a prime number\n",
            "97 is a prime number\n",
            "101 is a prime number\n",
            "103 is a prime number\n",
            "107 is a prime number\n",
            "109 is a prime number\n",
            "113 is a prime number\n",
            "127 is a prime number\n",
            "131 is a prime number\n",
            "137 is a prime number\n",
            "139 is a prime number\n",
            "149 is a prime number\n",
            "151 is a prime number\n",
            "157 is a prime number\n",
            "163 is a prime number\n",
            "167 is a prime number\n",
            "173 is a prime number\n",
            "179 is a prime number\n",
            "181 is a prime number\n",
            "191 is a prime number\n",
            "193 is a prime number\n",
            "197 is a prime number\n",
            "199 is a prime number\n"
          ]
        }
      ]
    },
    {
      "cell_type": "markdown",
      "source": [
        "# 5.Create a iterator class in python that generates the Fibonacci sequence up to a specified number of terms."
      ],
      "metadata": {
        "id": "81BBVHTCoNm7"
      }
    },
    {
      "source": [
        "class FibonacciIterator:\n",
        "    def __init__(self, max_terms):\n",
        "        self.max_terms = max_terms\n",
        "        self.count = 0\n",
        "        self.a = 0\n",
        "        self.b = 1\n",
        "\n",
        "    def __iter__(self):\n",
        "        return self\n",
        "\n",
        "    def __next__(self):\n",
        "        if self.count < self.max_terms:\n",
        "            fib = self.a\n",
        "            self.a, self.b = self.b, self.a + self.b\n",
        "            self.count += 1\n",
        "            return fib\n",
        "        else:\n",
        "            raise StopIteration\n",
        "\n",
        "# Example usage:\n",
        "fib_gen = FibonacciIterator(10)\n",
        "for num in fib_gen:\n",
        "    print(num)"
      ],
      "cell_type": "code",
      "metadata": {
        "colab": {
          "base_uri": "https://localhost:8080/"
        },
        "id": "rIFZ1cgAntcl",
        "outputId": "d9752970-76d8-4f31-fcad-ffcceee3fcaf"
      },
      "execution_count": null,
      "outputs": [
        {
          "output_type": "stream",
          "name": "stdout",
          "text": [
            "0\n",
            "1\n",
            "1\n",
            "2\n",
            "3\n",
            "5\n",
            "8\n",
            "13\n",
            "21\n",
            "34\n"
          ]
        }
      ]
    },
    {
      "cell_type": "markdown",
      "source": [
        "# 6.Write a generator function in python that yields the power of 2 up to a given exponent."
      ],
      "metadata": {
        "id": "404m02jrp0hA"
      }
    },
    {
      "source": [
        "def powers_of_two(exponent):\n",
        "  \"\"\"Yields the power of 2 up to a given exponent.\"\"\"\n",
        "  for i in range(exponent + 1):\n",
        "    yield 2 ** i\n",
        "\n",
        "# Example usage\n",
        "for power in powers_of_two(5):\n",
        "  print(power)"
      ],
      "cell_type": "code",
      "metadata": {
        "colab": {
          "base_uri": "https://localhost:8080/"
        },
        "id": "-MrNLSw-qsW7",
        "outputId": "553b7156-46ba-478f-f6c3-56df5c578a02"
      },
      "execution_count": null,
      "outputs": [
        {
          "output_type": "stream",
          "name": "stdout",
          "text": [
            "1\n",
            "2\n",
            "4\n",
            "8\n",
            "16\n",
            "32\n"
          ]
        }
      ]
    },
    {
      "cell_type": "markdown",
      "source": [
        "# 7.Implement a generator function that reads a file line by line and yields each line as a string."
      ],
      "metadata": {
        "id": "X3f1U25Uqv5Y"
      }
    },
    {
      "cell_type": "code",
      "source": [
        "def read_file_line_by_line(file_path):\n",
        "    \"\"\"\n",
        "    Generator function to read a file line by line.\n",
        "\n",
        "    Args:\n",
        "        file_path (str): Path to the file.\n",
        "\n",
        "    Yields:\n",
        "        str: Next line in the file.\n",
        "    \"\"\"\n",
        "    try:\n",
        "        with open(file_path, 'r') as file:\n",
        "            for line in file:\n",
        "                yield line.strip()  # Remove leading/trailing whitespace\n",
        "    except FileNotFoundError:\n",
        "        print(f\"File not found: {file_path}\")\n",
        "        return\n",
        "\n",
        "\n",
        "# Example usage:\n",
        "file_path = 'example.txt'\n",
        "for line in read_file_line_by_line(file_path):\n",
        "    print(line)\n"
      ],
      "metadata": {
        "colab": {
          "base_uri": "https://localhost:8080/"
        },
        "id": "MLqB3UoMsV2O",
        "outputId": "e239893a-4312-4f9c-a723-2664fd23a244"
      },
      "execution_count": null,
      "outputs": [
        {
          "output_type": "stream",
          "name": "stdout",
          "text": [
            "File not found: example.txt\n"
          ]
        }
      ]
    },
    {
      "cell_type": "markdown",
      "source": [
        "# 8.Use a lambda function in python to sort a list of tuples based on the second element of each tuple."
      ],
      "metadata": {
        "id": "PncFEllqs-QF"
      }
    },
    {
      "source": [
        "tuples = [(1, 5), (3, 2), (2, 8)]\n",
        "sorted_tuples = sorted(tuples, key=lambda x: x[1])\n",
        "print(sorted_tuples)"
      ],
      "cell_type": "code",
      "metadata": {
        "colab": {
          "base_uri": "https://localhost:8080/"
        },
        "id": "WpJLJ7A4tgE5",
        "outputId": "774d9be6-a873-4c03-bced-a470e230eb3f"
      },
      "execution_count": null,
      "outputs": [
        {
          "output_type": "stream",
          "name": "stdout",
          "text": [
            "[(3, 2), (1, 5), (2, 8)]\n"
          ]
        }
      ]
    },
    {
      "cell_type": "markdown",
      "source": [
        "# 9.Write a python program that uses 'map()' to convert a list of temperatures from celsius to fahrenheit."
      ],
      "metadata": {
        "id": "BUpWemS1tsx7"
      }
    },
    {
      "source": [
        "celsius_temperatures = [0, 10, 20, 30, 40]\n",
        "\n",
        "fahrenheit_temperatures = list(map(lambda c: (9/5) * c + 32, celsius_temperatures))\n",
        "\n",
        "print(fahrenheit_temperatures)"
      ],
      "cell_type": "code",
      "metadata": {
        "colab": {
          "base_uri": "https://localhost:8080/"
        },
        "id": "4of5Uh5aufbg",
        "outputId": "84dfbfc8-e6f2-4d37-fa92-ac54d8422af8"
      },
      "execution_count": null,
      "outputs": [
        {
          "output_type": "stream",
          "name": "stdout",
          "text": [
            "[32.0, 50.0, 68.0, 86.0, 104.0]\n"
          ]
        }
      ]
    },
    {
      "cell_type": "markdown",
      "source": [
        "# 10.Create a python program that uses 'filter()' to remove all the vowels from a given string."
      ],
      "metadata": {
        "id": "GdVhqvGyuney"
      }
    },
    {
      "source": [
        "vowels = ['a', 'e', 'i', 'o', 'u', 'A', 'E', 'I', 'O', 'U']\n",
        "string = \"Hello, World!\"\n",
        "result = ''.join(filter(lambda char: char not in vowels, string))\n",
        "print(result)"
      ],
      "cell_type": "code",
      "metadata": {
        "colab": {
          "base_uri": "https://localhost:8080/"
        },
        "id": "bIieVBTCvP9p",
        "outputId": "79b7ace3-13f5-4f78-e526-076ea58263e6"
      },
      "execution_count": null,
      "outputs": [
        {
          "output_type": "stream",
          "name": "stdout",
          "text": [
            "Hll, Wrld!\n"
          ]
        }
      ]
    },
    {
      "cell_type": "markdown",
      "source": [
        "# 11.Imagine an accounting routime used in a book shop. It works on a list with sublists, which look like this;"
      ],
      "metadata": {
        "id": "aPnDQRgbyTv4"
      }
    },
    {
      "cell_type": "markdown",
      "source": [
        "![WhatsApp Image 2024-09-22 at 18.19.59.jpeg](data:image/jpeg;base64,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)"
      ],
      "metadata": {
        "id": "IH8uMpKTzGZS"
      }
    },
    {
      "cell_type": "markdown",
      "source": [
        "Write a python program, which returns a list with 2-tuples.Each tuple consists of the order number and the product of the price per item and the quantity. The product should be increased by 10,-$ if the value of the order is smaller than 100,00.\n",
        "\n",
        "Write a python program unsing lambda and map"
      ],
      "metadata": {
        "id": "IqIpW1qI1LRY"
      }
    },
    {
      "source": [
        "orders = [ [1, 10.00, 5], [2, 20.00, 3], [3, 5.00, 10] ]\n",
        "\n",
        "result = list(map(lambda order: (order[0], order[1] * order[2] + 10 if order[1] * order[2] < 100 else order[1] * order[2]), orders))\n",
        "\n",
        "print(result)"
      ],
      "cell_type": "code",
      "metadata": {
        "colab": {
          "base_uri": "https://localhost:8080/"
        },
        "id": "A6ss_A413TxL",
        "outputId": "fbb30239-01aa-410c-9f14-bbbe79ee16cb"
      },
      "execution_count": null,
      "outputs": [
        {
          "output_type": "stream",
          "name": "stdout",
          "text": [
            "[(1, 60.0), (2, 70.0), (3, 60.0)]\n"
          ]
        }
      ]
    },
    {
      "cell_type": "code",
      "source": [],
      "metadata": {
        "id": "CoaQknUo3xbP"
      },
      "execution_count": null,
      "outputs": []
    }
  ]
}