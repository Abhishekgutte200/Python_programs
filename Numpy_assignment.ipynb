{
  "cells": [
    {
      "cell_type": "markdown",
      "metadata": {
        "id": "view-in-github",
        "colab_type": "text"
      },
      "source": [
        "<a href=\"https://colab.research.google.com/github/Abhishekgutte200/Python_programs/blob/main/Numpy_assignment.ipynb\" target=\"_parent\"><img src=\"https://colab.research.google.com/assets/colab-badge.svg\" alt=\"Open In Colab\"/></a>"
      ]
    },
    {
      "cell_type": "code",
      "execution_count": null,
      "metadata": {
        "id": "s9u84-FlE0Fx"
      },
      "outputs": [],
      "source": []
    },
    {
      "cell_type": "markdown",
      "metadata": {
        "id": "T1x1vgYhHrcC"
      },
      "source": [
        "# 1. Explain the purpose and advantages of NumPy in scientific computing and data analysis. How does it enhance Python's capabilities for numerical operations?"
      ]
    },
    {
      "cell_type": "markdown",
      "metadata": {
        "id": "PrE1cPtMG4s0"
      },
      "source": [
        "NumPy (Numerical Python) is a library for working with arrays and mathematical operations in Python. Its primary purpose is to provide support for large, multi-dimensional arrays and matrices, along with a wide range of high-performance mathematical functions to manipulate them.\n",
        "\n",
        "**Purpose:**\n",
        "\n",
        "1. Efficient numerical computation\n",
        "2. Multi-dimensional array operations\n",
        "3. Matrix operations\n",
        "4. Statistical analysis\n",
        "5. Data analysis\n",
        "\n",
        "**Advantages:**\n",
        "\n",
        "1. Speed: NumPy operations are significantly faster than Python's built-in data structures.\n",
        "2. Memory efficiency: NumPy arrays store data in a compact, contiguous block of memory.\n",
        "3. Vectorized operations: Perform operations on entire arrays at once, reducing loop overhead.\n",
        "4. Broadcasting: Automatically aligns arrays for operations, eliminating manual indexing.\n",
        "5. Integration: Seamlessly integrates with other popular scientific computing libraries (e.g., SciPy, Pandas, Matplotlib).\n",
        "\n",
        "**Enhancing Python's capabilities:**\n",
        "\n",
        "1. Overcomes Python's limitations in numerical computations.\n",
        "2. Provides optimized, C-based implementations for critical operations.\n",
        "3. Supports advanced mathematical functions (e.g., linear algebra, random number generation).\n",
        "4. Enables efficient data analysis and visualization.\n"
      ]
    },
    {
      "cell_type": "markdown",
      "metadata": {
        "id": "8XzU1UdaJkGx"
      },
      "source": [
        "# 2.Compare and contrast np.mean() and np.average() functions in NumPy. When would you use one over the other ?\n",
        "\n",
        "let's compare and contrast `np.mean()` and `np.average()` in NumPy:\n",
        "\n",
        "**Similarities:**\n",
        "\n",
        "Both functions calculate the average (or mean) of elements in an array. When used without additional arguments, they produce the same result, which is the arithmetic mean.\n",
        "\n",
        "**Differences:**\n",
        "\n",
        "The key difference lies in the handling of weights:\n",
        "\n",
        "`np.mean()`: Calculates the arithmetic mean of all elements in the array. It does not consider weights.\n",
        "`np.average()`: Can calculate both the arithmetic mean and the weighted average. If the weights parameter is provided, it computes the weighted average, where each element's contribution is weighted according to the corresponding weight.\n",
        "When to Use Which\n",
        "\n",
        "Use `np.mean()`: When you need to calculate the simple arithmetic mean of an array without considering weights.\n",
        "Use `np.average()`: When you need to calculate a weighted average, where different elements have different importance or contributions.\n",
        "In Summary\n",
        "\n",
        "`np.mean()` is a simpler function for calculating the arithmetic mean, while `np.average()` offers more flexibility by allowing for weighted averages. Choose the function that best suits your specific needs based on whether you need to consider weights in your calculation. Let me know if you have another question."
      ]
    },
    {
      "cell_type": "markdown",
      "metadata": {
        "id": "QU0VLExJITxb"
      },
      "source": []
    },
    {
      "cell_type": "markdown",
      "metadata": {
        "id": "n2ixvPlkPtQE"
      },
      "source": []
    },
    {
      "cell_type": "markdown",
      "metadata": {
        "id": "hXLM-v9nPws0"
      },
      "source": [
        "# 3. Describe the methods for reversing a NumPy array along different axes. Provide examples for 1D and 2D arrays."
      ]
    },
    {
      "cell_type": "markdown",
      "metadata": {
        "id": "m84l4AX6Pktn"
      },
      "source": [
        "Reversing NumPy Arrays\n",
        "\n",
        "NumPy provides several methods to reverse arrays along different axes.\n",
        "\n",
        "1. `np.flip()`\n",
        "\n",
        "Reverses the entire array.\n",
        "\n",
        "2. `np.flipud()`\n",
        "\n",
        "Reverses the array along the 0th axis (up-down).\n",
        "\n",
        "3. `np.fliplr()`\n",
        "\n",
        "Reverses the array along the 1st axis (left-right).\n",
        "\n",
        "4. Slicing\n",
        "\n",
        "Using slicing with a step of `-1` reverses the array.\n",
        "\n",
        "\n",
        "<br>**1D Arrays :**\n",
        "\n",
        "\n"
      ]
    },
    {
      "cell_type": "code",
      "source": [
        "import numpy as np\n",
        "\n",
        "# Create a 1D array\n",
        "arr = np.array([1, 2, 3, 4, 5])\n",
        "\n",
        "# Using np.flip()\n",
        "print(np.flip(arr))"
      ],
      "metadata": {
        "colab": {
          "base_uri": "https://localhost:8080/"
        },
        "id": "eZKg2OLYUci_",
        "outputId": "57653b18-8c8f-43c6-f511-d983e39a4075"
      },
      "execution_count": null,
      "outputs": [
        {
          "output_type": "stream",
          "name": "stdout",
          "text": [
            "[5 4 3 2 1]\n"
          ]
        }
      ]
    },
    {
      "cell_type": "code",
      "source": [
        "# Using np.flipud()\n",
        "print(np.flipud(arr))"
      ],
      "metadata": {
        "colab": {
          "base_uri": "https://localhost:8080/"
        },
        "id": "Ygwt3-RoUd_b",
        "outputId": "1482d77e-cafd-40c6-e500-f4ae0d438985"
      },
      "execution_count": null,
      "outputs": [
        {
          "output_type": "stream",
          "name": "stdout",
          "text": [
            "[[4 5 6]\n",
            " [1 2 3]]\n"
          ]
        }
      ]
    },
    {
      "cell_type": "code",
      "source": [
        "# Using slicing\n",
        "print(arr[::-1])"
      ],
      "metadata": {
        "colab": {
          "base_uri": "https://localhost:8080/"
        },
        "id": "DIu1sk3NUcUf",
        "outputId": "eeb8b096-b74a-492a-acf7-209e58b78294"
      },
      "execution_count": null,
      "outputs": [
        {
          "output_type": "stream",
          "name": "stdout",
          "text": [
            "[[4 5 6]\n",
            " [1 2 3]]\n"
          ]
        }
      ]
    },
    {
      "cell_type": "markdown",
      "source": [
        "**2D Arrays :**"
      ],
      "metadata": {
        "id": "5L39NPnbWCN1"
      }
    },
    {
      "cell_type": "code",
      "execution_count": null,
      "metadata": {
        "colab": {
          "base_uri": "https://localhost:8080/"
        },
        "id": "c5QdGxeTRE4X",
        "outputId": "121e24a3-2d7e-4d15-8757-58bf7ea72e53"
      },
      "outputs": [
        {
          "output_type": "stream",
          "name": "stdout",
          "text": [
            "[[4 5 6]\n",
            " [1 2 3]]\n"
          ]
        }
      ],
      "source": [
        "# Create a 2D array\n",
        "import numpy as np\n",
        "\n",
        "arr = np.array([[1, 2, 3], [4, 5, 6]])\n",
        "\n",
        "# Reverse along 0th axis (up-down)\n",
        "print(np.flipud(arr))"
      ]
    },
    {
      "cell_type": "code",
      "source": [
        "# Using np.flipud()\n",
        "print(np.flipud(arr))"
      ],
      "metadata": {
        "colab": {
          "base_uri": "https://localhost:8080/"
        },
        "id": "YomAjnEZS9Mb",
        "outputId": "0635a24b-a479-43c1-e26d-d5b0021d4a64"
      },
      "execution_count": null,
      "outputs": [
        {
          "output_type": "stream",
          "name": "stdout",
          "text": [
            "[[4 5 6]\n",
            " [1 2 3]]\n"
          ]
        }
      ]
    },
    {
      "cell_type": "code",
      "execution_count": null,
      "metadata": {
        "id": "W7Mk47v4Rn73",
        "colab": {
          "base_uri": "https://localhost:8080/"
        },
        "outputId": "857eee6f-8a3e-4c9c-af8a-c6c9676be3f9"
      },
      "outputs": [
        {
          "output_type": "stream",
          "name": "stdout",
          "text": [
            "[[3 2 1]\n",
            " [6 5 4]]\n"
          ]
        }
      ],
      "source": [
        "# Reverse along 1st axis (left-right)\n",
        "print(np.fliplr(arr))"
      ]
    },
    {
      "cell_type": "code",
      "source": [
        "# Reverse entire array\n",
        "print(np.flip(arr))"
      ],
      "metadata": {
        "colab": {
          "base_uri": "https://localhost:8080/"
        },
        "id": "Lr00aNc5Sq0S",
        "outputId": "fe370004-42a6-4384-c0be-001c6ff27588"
      },
      "execution_count": null,
      "outputs": [
        {
          "output_type": "stream",
          "name": "stdout",
          "text": [
            "[[6 5 4]\n",
            " [3 2 1]]\n"
          ]
        }
      ]
    },
    {
      "cell_type": "markdown",
      "source": [
        "# 4. How can you determine the data type of elements in a NumPy array? Discuss the importance of data types in memory management and performance."
      ],
      "metadata": {
        "id": "DJMd8SloN0l0"
      }
    },
    {
      "cell_type": "markdown",
      "source": [
        "**Determining Data Type:**\n",
        "\n",
        "`dtype` **attribute :**"
      ],
      "metadata": {
        "id": "RpJFIW5nWZ-D"
      }
    },
    {
      "source": [
        "import numpy as np\n",
        "arr = np.array([1, 2, 3])\n",
        "print(arr.dtype)"
      ],
      "cell_type": "code",
      "metadata": {
        "colab": {
          "base_uri": "https://localhost:8080/"
        },
        "id": "yo89S_7eRP3N",
        "outputId": "342de1aa-e3f1-4f6b-e8bc-37643d884855"
      },
      "execution_count": null,
      "outputs": [
        {
          "output_type": "stream",
          "name": "stdout",
          "text": [
            "int64\n"
          ]
        }
      ]
    },
    {
      "cell_type": "markdown",
      "source": [
        "The `dtype` attribute of a NumPy array directly provides the data type of its elements."
      ],
      "metadata": {
        "id": "bZvqxg-ARQl0"
      }
    },
    {
      "cell_type": "markdown",
      "source": [
        "2.`type` **function :**"
      ],
      "metadata": {
        "id": "GWZY_nKDRXmM"
      }
    },
    {
      "source": [
        "print(type(arr))\n",
        "\n",
        "print(type(arr[0]))"
      ],
      "cell_type": "code",
      "metadata": {
        "colab": {
          "base_uri": "https://localhost:8080/"
        },
        "id": "rbetACjcRofJ",
        "outputId": "b25d8995-fe83-461f-c69d-d8d26276787d"
      },
      "execution_count": null,
      "outputs": [
        {
          "output_type": "stream",
          "name": "stdout",
          "text": [
            "<class 'numpy.ndarray'>\n",
            "<class 'numpy.int64'>\n"
          ]
        }
      ]
    },
    {
      "cell_type": "markdown",
      "source": [
        "This provides the data type of the array. To get the type of an element in the array, index into the array like `arr[0]` and check the type of it."
      ],
      "metadata": {
        "id": "YEfbbj3bRqbh"
      }
    },
    {
      "cell_type": "markdown",
      "source": [
        "**1. Memory Management :**"
      ],
      "metadata": {
        "id": "JiMgne1iR-8k"
      }
    },
    {
      "cell_type": "markdown",
      "source": [
        "**1. Memory Management:**\n",
        "\n",
        "\n",
        "* **Efficient Memory Allocation:** NumPy arrays with homogeneous data types (all elements of the same type) allow for contiguous memory allocation, reducing memory usage compared to Python lists, which can store heterogeneous data types.\n",
        "\n",
        "* **Reduced Memory Fragmentation:**  Contiguous memory allocation minimizes memory fragmentation, leading to better memory utilization.\n",
        "\n",
        "**2. Performance:**\n",
        "\n",
        "* **Faster Computations:** Operations on NumPy arrays are optimized for specific data types, resulting in faster computations.\n",
        "\n",
        "* **Vectorized Operations:** NumPy's ability to perform operations on entire arrays (vectorization) leverages CPU capabilities and significantly improves performance compared to element-wise operations using loops."
      ],
      "metadata": {
        "id": "qyq9ks65SSgE"
      }
    },
    {
      "cell_type": "markdown",
      "source": [
        "# 5. Define ndarrays in NumPy and explain their key features. How do they differ from standard Python lists?"
      ],
      "metadata": {
        "id": "3zvGmRd4UVAN"
      }
    },
    {
      "cell_type": "markdown",
      "source": [
        "let's define ndarrays and outline their key features and fifferences from Python lists :"
      ],
      "metadata": {
        "id": "T-YgaZ0MUYCV"
      }
    },
    {
      "cell_type": "markdown",
      "source": [
        "**Definition of ndarray :**\n",
        "\n",
        "In NumPy ,an andarray (n-dimensional array) is a multidimensional, homogeneous data structure that stores a collection of elements of the same data type. These elements are arranged in a grid-like structure with a fixed size in each dimension.\n",
        "\n",
        "**Key Features of ndarrays:**\n",
        "\n",
        " **1.Gomogeneous Data :** All elements within an ndarray have the same data type, enabling efficient storage and operations.\n",
        "\n",
        " **2.Multidimensional:** ndarrays can have one or more dimensions, allowing them to represent vectors, matrices, and higher-dimensional data.\n",
        "\n",
        "**3.Fixed Size:** Once created, the size of an ndarray is fixed, which contributes to its performance and memory efficiency.\n",
        "\n",
        "**4.Element-wise Operations:** NumPy provides a wide range of functions and operators that can be applied element-wise to ndarrays, enabling vectorized computations.\n",
        "\n",
        "**5.Broadcasting:** NumPy's broadcasting rules allow for operations between arrays of different shapes, simplifying arithmetic and other operations.\n",
        "\n",
        "**Differences from Python Lists:**\n",
        "\n",
        "**1.Data Type:** ndarrays store elements of the same data type, while Python lists can store elements of different data types.\n",
        "\n",
        "**2.Memory Efficiency:** ndarrays are more memory-efficient than Python lists, especially for large datasets, due to their contiguous memory allocation and homogeneous data type.\n",
        "\n",
        "**3.Performance:** NumPy operations on ndarrays are significantly faster than equivalent operations on Python lists, thanks to vectorization and optimized implementations.\n",
        "\n",
        "**4.Functionality:** NumPy provides a vast collection of mathematical and array manipulation functions specifically designed for ndarrays, which are not readily available for Python lists."
      ],
      "metadata": {
        "id": "0SNadeteUxH8"
      }
    },
    {
      "cell_type": "markdown",
      "source": [
        "# 6.Analyze the performance benefits of NumPy arrays over Python lists for large-scale numerical operations."
      ],
      "metadata": {
        "id": "MEmYjoetZ7z-"
      }
    },
    {
      "cell_type": "markdown",
      "source": [
        "Analyzing the performance benefits of NumPy arrays over Python lists for large-scale numerical operations :\n",
        "\n",
        "**Performance Benefits of NumPy Arrays:**\n",
        "\n",
        "**1.Vectorized Operations:** NumPy arrays enable vectorized operations, where operations are applied to entire arrays at once, rather than element-by-element using loops. This leverages optimized, low-level implementations (often written in C or Fortran) that significantly speed up computations, especially for large datasets.\n",
        "\n",
        "**2.Contiguous Memory Allocation:** NumPy arrays store elements in a contiguous block of memory, allowing for faster access and manipulation compared to Python lists, which store elements in scattered memory locations. This contiguous memory layout is crucial for efficient cache utilization and data transfer within the CPU.\n",
        "\n",
        "**3.Data Type Optimization:** NumPy arrays enforce a homogeneous data type, enabling optimized storage and operations tailored to the specific data type. This contrasts with Python lists, which can store elements of different data types, leading to overhead in type checking and data conversion during operations.\n",
        "\n",
        "**4.Broadcasting:** NumPy's broadcasting rules allow for operations between arrays of different shapes, simplifying arithmetic and other operations. This eliminates the need for explicit loops and manual indexing, further improving performance."
      ],
      "metadata": {
        "id": "F5pJ7FBhX9ud"
      }
    },
    {
      "cell_type": "markdown",
      "source": [
        "# 7. Compare vstack() and hstack() functions in NumPy. Provide examples demonstrating their usage and output."
      ],
      "metadata": {
        "id": "O_ZjY61raajG"
      }
    },
    {
      "cell_type": "markdown",
      "source": [
        "let's compare `vstack()` and `hstack()` in NumPy with examples:\n",
        "\n",
        "`vstack()`(Vertical Stack)\n",
        "\n",
        "* **Purpose:** Stacks arrays vertically (row-wise), creating a new array with increased number of rows.\n",
        "\n",
        "* **Input:** Takes a sequence of arrays as input, which must have the same number of columns.\n",
        "\n",
        "* **Output:** Return a new array with the input arrays stacked verically.\n",
        "\n",
        "**Example:**"
      ],
      "metadata": {
        "id": "lavnzEFCasGG"
      }
    },
    {
      "source": [
        "import numpy as np\n",
        "\n",
        "a = np.array([1, 2, 3])\n",
        "b = np.array([4, 5, 6])\n",
        "\n",
        "stacked_array = np.vstack((a, b))\n",
        "stacked_array\n"
      ],
      "cell_type": "code",
      "metadata": {
        "colab": {
          "base_uri": "https://localhost:8080/"
        },
        "id": "QnCtkjKEb1j_",
        "outputId": "6903f31c-cb69-4c6a-c0b5-9d52f580f02b"
      },
      "execution_count": null,
      "outputs": [
        {
          "output_type": "execute_result",
          "data": {
            "text/plain": [
              "array([[1, 2, 3],\n",
              "       [4, 5, 6]])"
            ]
          },
          "metadata": {},
          "execution_count": 20
        }
      ]
    },
    {
      "cell_type": "markdown",
      "source": [
        "`hstack()` **(Horixontal Stack)**\n",
        "\n",
        "* **Purpose:** Stack arrays horixontally (column-wise), creating a new array with increased number of columns.\n",
        "\n",
        "* **Input:** Takes a sewuence of arrays as input, which must have the same number of rows.\n",
        "\n",
        "* **Output:** Reurns a new array with the input arrays stacked horizontally.\n",
        "\n",
        "**Example:**"
      ],
      "metadata": {
        "id": "921xfDbcc5QP"
      }
    },
    {
      "source": [
        "import numpy as np\n",
        "\n",
        "a = np.array([[1], [2], [3]])\n",
        "b = np.array([[4], [5], [6]])\n",
        "\n",
        "stacked_array = np.hstack((a, b))\n",
        "stacked_array\n"
      ],
      "cell_type": "code",
      "metadata": {
        "colab": {
          "base_uri": "https://localhost:8080/"
        },
        "id": "t-f5UYtLdxII",
        "outputId": "d997898d-5471-4d37-be42-fc8ac58bb209"
      },
      "execution_count": null,
      "outputs": [
        {
          "output_type": "execute_result",
          "data": {
            "text/plain": [
              "array([[1, 4],\n",
              "       [2, 5],\n",
              "       [3, 6]])"
            ]
          },
          "metadata": {},
          "execution_count": 19
        }
      ]
    },
    {
      "cell_type": "markdown",
      "source": [
        "**In Summary:**\n",
        "\n",
        "* `vstack()` stacks arrays vertically, increasing the number of rows.\n",
        "* `hstack()`stack arrays horizontally,increasing the number of columns.\n",
        "\n",
        "Both the functions require the input arrays to have compatible shapes along the stacking dimension. Choose the function based on the desired stacking direction. I hope this clarifies the usage and output of `vstack()` and `hstack()`.\n"
      ],
      "metadata": {
        "id": "ONeenAY4eBWv"
      }
    },
    {
      "cell_type": "markdown",
      "source": [
        "# 8. Explain the differences between fliplr() and flipud() methods in NumPy, including their effects on various array dimensions."
      ],
      "metadata": {
        "id": "NNCKZ1kafUPP"
      }
    },
    {
      "cell_type": "markdown",
      "source": [
        "Here's the differences between `fliplr()` and `flipud()` in NumPy.\n",
        "\n",
        "`fliplr()` (Flip left-Right)\n",
        "\n",
        "* **Purpose:** Reverses the elements of an array along the horizontal axis (axis1), effectivey flipping the array from left to right.\n",
        "\n",
        "* **Effect on Dimensions:**\n",
        "\n",
        "    * 1D arrys: Reverses the order of elements.\n",
        "    * 2D arrays : Flips the columns, preserving the rows.\n",
        "    * Higher-dimensional arrays : Flips along axis 1."
      ],
      "metadata": {
        "id": "E0LN7ttDfa9f"
      }
    },
    {
      "source": [
        "import numpy as np\n",
        "\n",
        "arr = np.array([[1, 2, 3], [4, 5, 6]])\n",
        "flipped_arr = np.fliplr(arr)\n",
        "flipped_arr"
      ],
      "cell_type": "code",
      "metadata": {
        "colab": {
          "base_uri": "https://localhost:8080/"
        },
        "id": "H_F_v0T1gvIV",
        "outputId": "535ef498-f1db-4e20-a303-40fa82a7ae9c"
      },
      "execution_count": null,
      "outputs": [
        {
          "output_type": "execute_result",
          "data": {
            "text/plain": [
              "array([[3, 2, 1],\n",
              "       [6, 5, 4]])"
            ]
          },
          "metadata": {},
          "execution_count": 22
        }
      ]
    },
    {
      "cell_type": "markdown",
      "source": [
        "`flipud()`(Flip Up-Down)\n",
        "\n",
        "* **Purpose:** Reverses the elements of an array along the vericla axis (axis 0), effectively flipping the array from top to bottom.\n",
        "\n",
        "* **Effect on Dimensions:**\n",
        "\n",
        "    * 1D arrays: Reverses the order of elements (same as `fliplr()` for 1D).\n",
        "    * 2Darrays: Flips the rows, preserving the columns.\n",
        "    * Higher-dimensional arrys: Flips along axis 0\n",
        "\n",
        "**Example:**"
      ],
      "metadata": {
        "id": "2vNRTI7Pg2A8"
      }
    },
    {
      "source": [
        "import numpy as np\n",
        "\n",
        "arr = np.array([[1, 2, 3], [4, 5, 6]])\n",
        "flipped_arr = np.flipud(arr)\n",
        "# Execute the code yourself to see the output"
      ],
      "cell_type": "code",
      "metadata": {
        "id": "3sACT5ppiEN4"
      },
      "execution_count": null,
      "outputs": []
    },
    {
      "cell_type": "markdown",
      "source": [
        "**In Summary:**\n",
        "\n",
        "* `Fliplr()` flips an array horizontally (left-right).\n",
        "* `flipud()` flips an array vertically(up-down).\n",
        "\n",
        "For 1D arrys , both functions produce the same result. For higher-dimensional arrays ,they flip along different axes , resulting in different transformations. I hope this clarifies the differences between `fliplr()` and `flipud()` and their effects on array dimensions. Let me know if you have any other questions."
      ],
      "metadata": {
        "id": "Pu0D3Lk9iHlA"
      }
    },
    {
      "cell_type": "markdown",
      "source": [
        "# 9. Discuss the functionality of the array_split() method in NumPy. How does it handle uneven splits?"
      ],
      "metadata": {
        "id": "MmmrfuTKjRg9"
      }
    },
    {
      "cell_type": "markdown",
      "source": [
        "Following is the functionality of `array_aplit()` in NumPy:\n",
        "\n",
        "**Functionality of `Array_split()`**\n",
        "\n",
        "* **Purpose:**Splits an array into multiple sub-arrys along a specified axis.\n",
        "* **Arguments:**\n",
        "\n",
        "    * `ary`: The input array to be split.\n",
        "    * `indices_or_sectionns`: If an integer, N, The array willl be divided into N equal arrays along axis. If a 1D array of sorted integers, the entries indicate where along `axis` the array is split.\n",
        "    * `axis`: The axos along which to split the array(default is 0).\n",
        "* **Output:** Returns a list of sub-arrays.\n",
        "\n",
        "**Handling Uneven Splits**\n",
        "\n",
        "When the array cnnot be divided evenly into the specified number of sub-arrays,`array_split()` handles it as follows:\n",
        "\n",
        "1.**Uneven Splits:** If the array sixe is not divisible by the number of sections, `array_split()` creates sub-arrays of roughly equal size.\n",
        "\n",
        "**2.Extra Elements:**Any extra elements are distributed among the initial sub-arrays, making ehem slightly larer than teh others.\n",
        "\n",
        "**3.Example**"
      ],
      "metadata": {
        "id": "EdLOD_ZVjUPX"
      }
    },
    {
      "source": [
        "import numpy as np\n",
        "\n",
        "arr = np.arange(8)  # Create an array with 8 elements\n",
        "sub_arrays = np.array_split(arr, 3)  # Split into 3 sub-arrays\n",
        "# Execute the code yourself to see the output"
      ],
      "cell_type": "code",
      "metadata": {
        "id": "jWscaJHlmuYR"
      },
      "execution_count": null,
      "outputs": []
    },
    {
      "cell_type": "markdown",
      "source": [
        "# 1. Create a 3x3 NumPy array with random integers between 1 and 100. Then, interchange its rows and columns."
      ],
      "metadata": {
        "id": "oh2ZtuXCtxIi"
      }
    },
    {
      "source": [
        "import numpy as np\n",
        "\n",
        "# Create a 3x3 array with random integers between 1 and 100\n",
        "array = np.random.randint(1, 101, size=(3, 3))\n"
      ],
      "cell_type": "code",
      "metadata": {
        "id": "clYDI4WHt2aS"
      },
      "execution_count": 2,
      "outputs": []
    },
    {
      "cell_type": "markdown",
      "source": [
        "# 2. Generate a 1D NumPy array with 10 elements. Reshape it into a 2x5 array, then into a 5x2 array"
      ],
      "metadata": {
        "id": "0vTof6_dt0kC"
      }
    },
    {
      "cell_type": "markdown",
      "source": [
        "**1.Generate the 1D array:**"
      ],
      "metadata": {
        "id": "xM2noVV9uPFi"
      }
    },
    {
      "source": [
        "import numpy as np\n",
        "\n",
        "# Create a 1D array with 10 elements\n",
        "array_1d = np.arange(10)"
      ],
      "cell_type": "code",
      "metadata": {
        "id": "PLBw8KbNuZz5"
      },
      "execution_count": null,
      "outputs": []
    },
    {
      "cell_type": "markdown",
      "source": [
        "**2. Reshape into 2x5:**"
      ],
      "metadata": {
        "id": "lq5R4iNpubyR"
      }
    },
    {
      "source": [
        "# Reshape into a 2x5 array\n",
        "array_2x5 = array_1d.reshape(2, 5)"
      ],
      "cell_type": "code",
      "metadata": {
        "id": "AXjL68UYukyh"
      },
      "execution_count": null,
      "outputs": []
    },
    {
      "cell_type": "markdown",
      "source": [
        "**2. Reshape into 5x2:**"
      ],
      "metadata": {
        "id": "BnzHNoBRupOB"
      }
    },
    {
      "source": [
        "# Reshape into a 5x2 array\n",
        "array_5x2 = array_1d.reshape(5, 2)"
      ],
      "cell_type": "code",
      "metadata": {
        "id": "A-d4Un7suxQR"
      },
      "execution_count": 4,
      "outputs": []
    },
    {
      "cell_type": "markdown",
      "source": [
        "# 3. Describe the methods for reversing a NumPy array along different axes. Provide examples for 1D and 2Darrays."
      ],
      "metadata": {
        "id": "9WqjYQ-pvQoB"
      }
    },
    {
      "source": [
        "import numpy as np\n",
        "\n",
        "arr_1d = np.array([1, 2, 3, 4, 5])\n",
        "\n",
        "# Using np.flip()\n",
        "reversed_arr = np.flip(arr_1d)\n",
        "\n",
        "# Using slicing\n",
        "reversed_arr = arr_1d[::-1]"
      ],
      "cell_type": "code",
      "metadata": {
        "id": "KLcWAbKVvemo"
      },
      "execution_count": null,
      "outputs": []
    },
    {
      "source": [
        "import numpy as np\n",
        "\n",
        "arr_2d = np.array([[1, 2, 3], [4, 5, 6]])\n",
        "\n",
        "# Reverse along axis 0 (up/down)\n",
        "reversed_arr = np.flipud(arr_2d)\n",
        "\n",
        "# Reverse along axis 1 (left/right)\n",
        "reversed_arr = np.fliplr(arr_2d)\n",
        "\n",
        "# Reverse along both axes\n",
        "reversed_arr = np.flip(arr_2d)"
      ],
      "cell_type": "code",
      "metadata": {
        "id": "zcoLfX3TvfMY"
      },
      "execution_count": null,
      "outputs": []
    },
    {
      "cell_type": "markdown",
      "source": [
        "# 4. How can you determine the data type of elements in a NumPy array? Discuss the importance of data types in memory management and performance."
      ],
      "metadata": {
        "id": "9HJ4tg84vhC4"
      }
    },
    {
      "source": [
        "import numpy as np\n",
        "\n",
        "    arr = np.array([1, 2, 3])\n",
        "    data_type = arr.dtype"
      ],
      "cell_type": "code",
      "metadata": {
        "id": "QQaxNL12vq5I"
      },
      "execution_count": null,
      "outputs": []
    },
    {
      "cell_type": "markdown",
      "source": [
        "Importance of Data Types\n",
        "\n",
        "**1. Memory Management:**\n",
        "\n",
        "Efficient Storage: NumPy arrays store elements of the same data type contiguously in memory, leading to efficient memory usage. Choosing the appropriate data type (e.g., int8, float32) can significantly reduce memory footprint.\n",
        "\n",
        "**2. Performance:**\n",
        "\n",
        "Optimized Operations: NumPy operations are optimized for specific data types. Using the correct data type can result in faster computations, as the underlying algorithms can leverage the data type's properties for optimization.\n",
        "Vectorization: NumPy's ability to perform vectorized operations (operations on entire arrays at once) is more efficient when elements have the same data type. This avoids the need for type checking and conversions during operations."
      ],
      "metadata": {
        "id": "4A8Qf_mOv2x3"
      }
    },
    {
      "cell_type": "markdown",
      "source": [
        "# 5. Define ndarrays in NumPy and explain their key features. How do they differ from standard Python lists?"
      ],
      "metadata": {
        "id": "KSiyDSHJv_Lv"
      }
    },
    {
      "cell_type": "markdown",
      "source": [
        "here's a definition of ndarrays in NumPy, their key features, and how they differ from Python lists:\n",
        "\n",
        "**Definition of ndarray**\n",
        "\n",
        "In NumPy, an ndarray (n-dimensional array) is a multidimensional, homogeneous data structure that stores a collection of elements of the same data type. These elements are arranged in a grid-like structure with a fixed size in each dimension.\n",
        "\n",
        "**Key Features of ndarrays**\n",
        "\n",
        "Homogeneous Data: All elements within an ndarray have the same data type, enabling efficient storage and operations.\n",
        "Multidimensional: ndarrays can have one or more dimensions, allowing them to represent vectors, matrices, and higher-dimensional data.\n",
        "Fixed Size: Once created, the size of an ndarray is fixed, which contributes to its performance and memory efficiency.\n",
        "Element-wise Operations: NumPy provides functions and operators for element-wise operations on ndarrays, enabling vectorized computations.\n",
        "Broadcasting: NumPy's broadcasting rules allow for operations between arrays of different shapes, simplifying arithmetic and other operations.\n",
        "Differences from Python Lists\n",
        "\n",
        "Data Type: ndarrays store elements of the same data type, while Python lists can store elements of different data types.\n",
        "Memory Efficiency: ndarrays are more memory-efficient due to their contiguous memory allocation and homogeneous data type.\n",
        "Performance: NumPy operations on ndarrays are significantly faster due to vectorization and optimized implementations.\n",
        "Functionality: NumPy provides specialized functions for mathematical and array manipulation on ndarrays, which are not readily available for Python lists."
      ],
      "metadata": {
        "id": "hqywWPEYwNIn"
      }
    },
    {
      "cell_type": "markdown",
      "source": [
        "# 6. Analyze the performance benefits of NumPy arrays over Python lists for large-scale numerical operations."
      ],
      "metadata": {
        "id": "IpnJZMPawiu-"
      }
    },
    {
      "cell_type": "markdown",
      "source": [
        "here's an analysis of the performance benefits of NumPy arrays over Python lists for large-scale numerical operations:\n",
        "\n",
        "**Performance Benefits of NumPy Arrays**\n",
        "\n",
        "Vectorized Operations: NumPy arrays enable vectorized operations, where operations are applied to entire arrays at once, rather than element-by-element using loops. This leverages optimized, low-level implementations that significantly speed up computations, especially for large datasets.\n",
        "Contiguous Memory Allocation: NumPy arrays store elements in a contiguous block of memory, allowing for faster access and manipulation compared to Python lists, which store elements in scattered memory locations. This contiguous memory layout is crucial for efficient cache utilization and data transfer within the CPU.\n",
        "\n",
        "**Data Type Optimization**:\n",
        "\n",
        " NumPy arrays enforce a homogeneous data type, enabling optimized storage and operations tailored to the specific data type. This contrasts with Python lists, which can store elements of different data types, leading to overhead in type checking and data conversion during operations.\n",
        "Broadcasting: NumPy's broadcasting rules allow for operations between arrays of different shapes, simplifying arithmetic and other operations. This eliminates the need for explicit loops and manual indexing, further improving performance."
      ],
      "metadata": {
        "id": "W56xuasdworG"
      }
    },
    {
      "cell_type": "markdown",
      "source": [],
      "metadata": {
        "id": "BXCfKqVXw9N1"
      }
    },
    {
      "cell_type": "markdown",
      "source": [
        "# 7. Compare vstack() and hstack() functions in NumPy. Provide examples demonstrating their usage and output."
      ],
      "metadata": {
        "id": "O-4vWX7NxA4l"
      }
    },
    {
      "source": [
        "import numpy as np\n",
        "\n",
        "a = np.array([1, 2, 3])\n",
        "b = np.array([4, 5, 6])\n",
        "\n",
        "stacked_array = np.vstack((a, b))"
      ],
      "cell_type": "code",
      "metadata": {
        "id": "ZdGNk5rkxOvG"
      },
      "execution_count": null,
      "outputs": []
    },
    {
      "source": [
        "import numpy as np\n",
        "\n",
        "a = np.array([[1], [2], [3]])\n",
        "b = np.array([[4], [5], [6]])\n",
        "\n",
        "stacked_array = np.hstack((a, b))"
      ],
      "cell_type": "code",
      "metadata": {
        "id": "nJwJCQL6xPi9"
      },
      "execution_count": null,
      "outputs": []
    },
    {
      "cell_type": "markdown",
      "source": [],
      "metadata": {
        "id": "GgMF6f_NxRt1"
      }
    },
    {
      "cell_type": "code",
      "source": [],
      "metadata": {
        "id": "sO8a_odswnzW"
      },
      "execution_count": null,
      "outputs": []
    }
  ],
  "metadata": {
    "colab": {
      "provenance": [],
      "authorship_tag": "ABX9TyNOawzwYmaygIikNINX4umH",
      "include_colab_link": true
    },
    "kernelspec": {
      "display_name": "Python 3",
      "name": "python3"
    },
    "language_info": {
      "name": "python"
    }
  },
  "nbformat": 4,
  "nbformat_minor": 0
}