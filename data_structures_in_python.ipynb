{
  "nbformat": 4,
  "nbformat_minor": 0,
  "metadata": {
    "colab": {
      "provenance": [],
      "authorship_tag": "ABX9TyOch57g837KfdRPfRJEa96k",
      "include_colab_link": true
    },
    "kernelspec": {
      "name": "python3",
      "display_name": "Python 3"
    },
    "language_info": {
      "name": "python"
    }
  },
  "cells": [
    {
      "cell_type": "markdown",
      "metadata": {
        "id": "view-in-github",
        "colab_type": "text"
      },
      "source": [
        "<a href=\"https://colab.research.google.com/github/Abhishekgutte200/Python_programs/blob/main/data_structures_in_python.ipynb\" target=\"_parent\"><img src=\"https://colab.research.google.com/assets/colab-badge.svg\" alt=\"Open In Colab\"/></a>"
      ]
    },
    {
      "cell_type": "markdown",
      "source": [
        "# 1.Write a code to reverse a string."
      ],
      "metadata": {
        "id": "mA86R_X3yavs"
      }
    },
    {
      "cell_type": "code",
      "execution_count": null,
      "metadata": {
        "colab": {
          "base_uri": "https://localhost:8080/"
        },
        "id": "Xkmh_eysx0i-",
        "outputId": "2469795d-5e04-43ab-c8ea-68a0e4168f7e"
      },
      "outputs": [
        {
          "output_type": "stream",
          "name": "stdout",
          "text": [
            "kehsihbA\n"
          ]
        }
      ],
      "source": [
        "a = \"Abhishek\"\n",
        "\n",
        "print(a[::-1])\n"
      ]
    },
    {
      "cell_type": "code",
      "source": [],
      "metadata": {
        "id": "BqgATSqHz6P0"
      },
      "execution_count": null,
      "outputs": []
    },
    {
      "cell_type": "markdown",
      "source": [
        "# 2.Write a code to count the number of vowels in string."
      ],
      "metadata": {
        "id": "U76C5aGBiJrN"
      }
    },
    {
      "cell_type": "code",
      "source": [
        "a = \"India is my country, all indians are my brothers and sisters.\"\n",
        "vowels = \"aeiouAEIOU\"\n",
        "count = (sum(a.count(vowel) for vowel in vowels))\n",
        "print(count)\n"
      ],
      "metadata": {
        "colab": {
          "base_uri": "https://localhost:8080/"
        },
        "id": "QaEaaTeMioOb",
        "outputId": "14338c24-14e0-4a2d-ef60-7603040d16d5"
      },
      "execution_count": null,
      "outputs": [
        {
          "output_type": "stream",
          "name": "stdout",
          "text": [
            "17\n"
          ]
        }
      ]
    },
    {
      "cell_type": "markdown",
      "source": [
        "# 3.Write a code to check if a given string is palindrome or not."
      ],
      "metadata": {
        "id": "h2WeObBumkxW"
      }
    },
    {
      "cell_type": "code",
      "source": [
        "original_string = input(\"Enter a word:\")\n",
        "case_folded_string = original_string.casefold()\n",
        "if (case_folded_string==case_folded_string[::-1]):\n",
        "    print(\"The given word is Palindrome\")\n",
        "else:\n",
        "    print(\"The given word is not Palindrome\")\n"
      ],
      "metadata": {
        "colab": {
          "base_uri": "https://localhost:8080/"
        },
        "id": "XlYPNBbWjD4p",
        "outputId": "18d33747-32f6-4f3c-be7d-305a238aec92"
      },
      "execution_count": null,
      "outputs": [
        {
          "output_type": "stream",
          "name": "stdout",
          "text": [
            "Enter a word:Refer\n",
            "The given word is Palindrome\n"
          ]
        }
      ]
    },
    {
      "cell_type": "markdown",
      "source": [
        "# 4.Write a code to check if two given strings are anagrams of each other."
      ],
      "metadata": {
        "id": "Wt08K5tPEwYw"
      }
    },
    {
      "cell_type": "code",
      "source": [
        "\n",
        "def check(s1, s2):\n",
        "\n",
        "   if (sorted(s1)== sorted(s2)):\n",
        "        print(\"The strings are anargams\")\n",
        "   else:\n",
        "        print(\"The strings are not anargms\")\n",
        "\n",
        "s1 = \"listen\"\n",
        "s2 = \"silent\"\n",
        "check(s1, s2)"
      ],
      "metadata": {
        "id": "IC1kgfIdswK5",
        "colab": {
          "base_uri": "https://localhost:8080/"
        },
        "outputId": "7670d34e-0764-44a6-b141-12943ce1923a"
      },
      "execution_count": null,
      "outputs": [
        {
          "output_type": "stream",
          "name": "stdout",
          "text": [
            "The strings are anargams\n"
          ]
        }
      ]
    },
    {
      "cell_type": "code",
      "source": [],
      "metadata": {
        "id": "CB6QHpQtKmOq"
      },
      "execution_count": null,
      "outputs": []
    },
    {
      "cell_type": "markdown",
      "source": [
        "# 5.Write a code to find all occurrences of a given substring within another string."
      ],
      "metadata": {
        "id": "Ydbbqsn1NW2o"
      }
    },
    {
      "source": [
        "string = \"India is my country ,all indians are my brothers and sisters.\"\n",
        "\n",
        "substring = \"sisters\"\n",
        "\n",
        "if substring in string:\n",
        "  print(\"The substring is present in the string\")\n",
        "else:\n",
        "  print(\"The substring is not present in the string\")"
      ],
      "cell_type": "code",
      "metadata": {
        "colab": {
          "base_uri": "https://localhost:8080/"
        },
        "id": "kan1JBLrrio3",
        "outputId": "ee1ca7f3-278e-419a-fa73-eb52a984ad3b"
      },
      "execution_count": null,
      "outputs": [
        {
          "output_type": "stream",
          "name": "stdout",
          "text": [
            "The substring is present in the string\n"
          ]
        }
      ]
    },
    {
      "cell_type": "markdown",
      "source": [
        "# 6.Write a code to perform basic string compression using the counts of repeated characters."
      ],
      "metadata": {
        "id": "Xm6eakqBtbVj"
      }
    },
    {
      "cell_type": "code",
      "source": [
        "string = input(\"Enter a string:\" )\n",
        "lst = []\n",
        "for data in string:\n",
        "    if data not in lst:\n",
        "        lst.append(data)\n",
        "        print(data, string.count(data), end =\" \")"
      ],
      "metadata": {
        "colab": {
          "base_uri": "https://localhost:8080/"
        },
        "id": "1aED7oXL0mDm",
        "outputId": "99ddc840-28cd-440e-f33a-eac3e3b65eed"
      },
      "execution_count": null,
      "outputs": [
        {
          "output_type": "stream",
          "name": "stdout",
          "text": [
            "Enter a string:abhishek\n",
            "a 1 b 1 h 2 i 1 s 1 e 1 k 1 "
          ]
        }
      ]
    },
    {
      "cell_type": "markdown",
      "source": [
        "# 7.Write a code to determine if a string has all unique characters."
      ],
      "metadata": {
        "id": "zTFZj7822Bq0"
      }
    },
    {
      "source": [
        "def is_unique(s):\n",
        "  return len(set(s)) == len(s)\n",
        "\n",
        "string = \"Abhiskek\"\n",
        "if is_unique(string):\n",
        "  print(\"The string has all unique characters\")\n",
        "else:\n",
        "  print(\"The string does not have all unique characters\")"
      ],
      "cell_type": "code",
      "metadata": {
        "colab": {
          "base_uri": "https://localhost:8080/"
        },
        "id": "fTiL4Z_tthlk",
        "outputId": "15f109f2-6f82-451a-e8f5-5a0c34304b56"
      },
      "execution_count": null,
      "outputs": [
        {
          "output_type": "stream",
          "name": "stdout",
          "text": [
            "The string does not have all unique characters\n"
          ]
        }
      ]
    },
    {
      "cell_type": "markdown",
      "source": [
        "# 8.Write a code to convert a given string to uppercase or lowercase."
      ],
      "metadata": {
        "id": "u_G7zN1k4JdA"
      }
    },
    {
      "cell_type": "code",
      "source": [
        "a = \"Abhishek\"\n",
        "print(a.upper())\n",
        "print(a.lower())"
      ],
      "metadata": {
        "colab": {
          "base_uri": "https://localhost:8080/"
        },
        "id": "Joa0ae3H4xKF",
        "outputId": "0bf766e8-0df7-4193-e05b-2425cbc0fc7f"
      },
      "execution_count": null,
      "outputs": [
        {
          "output_type": "stream",
          "name": "stdout",
          "text": [
            "ABHISHEK\n",
            "abhishek\n"
          ]
        }
      ]
    },
    {
      "cell_type": "markdown",
      "source": [
        "# 9.Write a code to count the number of words in a string."
      ],
      "metadata": {
        "id": "VbA8vDaI5J2P"
      }
    },
    {
      "cell_type": "code",
      "source": [
        "a = \"India is my country ,all indians are my brothers and sisters.\"\n",
        "len(a.split())\n",
        "print(len(a.split()))"
      ],
      "metadata": {
        "colab": {
          "base_uri": "https://localhost:8080/"
        },
        "id": "_U_e6vnB4-yJ",
        "outputId": "e0a879d0-963a-4d8d-f148-e495540486eb"
      },
      "execution_count": null,
      "outputs": [
        {
          "output_type": "stream",
          "name": "stdout",
          "text": [
            "11\n"
          ]
        }
      ]
    },
    {
      "cell_type": "markdown",
      "source": [
        "# 10.Write a code to concatenate two strings without using the + operator."
      ],
      "metadata": {
        "id": "pD6qNS4f6-2m"
      }
    },
    {
      "cell_type": "code",
      "source": [
        "str1 = \"Abhishek\"\n",
        "str2 = \"Gutte\"\n",
        "result =\"\".join([str1,str2])\n",
        "print(result)\n"
      ],
      "metadata": {
        "colab": {
          "base_uri": "https://localhost:8080/"
        },
        "id": "1L8R32Y47Ya6",
        "outputId": "9bbfd16a-7dd4-42e2-9aac-989f29028285"
      },
      "execution_count": null,
      "outputs": [
        {
          "output_type": "stream",
          "name": "stdout",
          "text": [
            "AbhishekGutte\n"
          ]
        }
      ]
    },
    {
      "cell_type": "markdown",
      "source": [
        "# 11.Write a code to remove all occurences of a specific element from a list."
      ],
      "metadata": {
        "id": "5dnzvqFf-6aK"
      }
    },
    {
      "cell_type": "code",
      "source": [
        "lst = [\"a\",\"b\",\"c\",\"d\",\"e\",\"b\",\"c\"]\n",
        "while \"b\" in lst:\n",
        " lst.remove(\"b\")\n",
        "print(lst)"
      ],
      "metadata": {
        "id": "cw0t2pBe8pxb",
        "colab": {
          "base_uri": "https://localhost:8080/"
        },
        "outputId": "18adecb9-6bea-49b5-9271-5ae1cfdceb1c"
      },
      "execution_count": null,
      "outputs": [
        {
          "output_type": "stream",
          "name": "stdout",
          "text": [
            "['a', 'c', 'd', 'e', 'c']\n"
          ]
        }
      ]
    },
    {
      "cell_type": "markdown",
      "source": [
        "# 12.Implement a code to find the second largest number in a given list of integers."
      ],
      "metadata": {
        "id": "NuRhTbqSsLTA"
      }
    },
    {
      "source": [
        "lst = [1,2,3,4,4,5,6,7,18,1,10]\n",
        "\n",
        "lst.sort()\n",
        "second_largest = lst[-2]\n",
        "\n",
        "print(second_largest)\n"
      ],
      "cell_type": "code",
      "metadata": {
        "colab": {
          "base_uri": "https://localhost:8080/"
        },
        "id": "Xd3xlfVgfd-M",
        "outputId": "32907e00-96ea-4e03-b926-1809f89d9b8d"
      },
      "execution_count": null,
      "outputs": [
        {
          "output_type": "stream",
          "name": "stdout",
          "text": [
            "10\n"
          ]
        }
      ]
    },
    {
      "cell_type": "markdown",
      "source": [
        "# 13.Create a code to count the occurrences of each element of list and return a dictionary with elements as keys and their counts as values."
      ],
      "metadata": {
        "id": "sckomE2zstzi"
      }
    },
    {
      "cell_type": "code",
      "source": [
        "numbers = [1,2,3,3,4,4,5,5]\n",
        "count = {}\n",
        "for num in numbers:\n",
        "    if num in count:\n",
        "        count[num] += 1\n",
        "    else:\n",
        "        count[num] = 1\n",
        "print(count)\n"
      ],
      "metadata": {
        "id": "1R1KZUAWu1MK",
        "colab": {
          "base_uri": "https://localhost:8080/"
        },
        "outputId": "10a8a86c-79b4-4d5b-d016-cb295a2c81f2"
      },
      "execution_count": null,
      "outputs": [
        {
          "output_type": "stream",
          "name": "stdout",
          "text": [
            "{1: 1, 2: 1, 3: 2, 4: 2, 5: 2}\n"
          ]
        }
      ]
    },
    {
      "cell_type": "markdown",
      "source": [
        "# 14.Write a code to reverse a list in-place without using any built-in reverse function."
      ],
      "metadata": {
        "id": "qWUVMVNIUV7G"
      }
    },
    {
      "cell_type": "code",
      "source": [
        "lst = [1,2,3,4,5,6,7,8,9,10]\n",
        "print(lst[::-1])"
      ],
      "metadata": {
        "colab": {
          "base_uri": "https://localhost:8080/"
        },
        "id": "J6ivzvYiTFdv",
        "outputId": "52510479-ff67-4fab-c0bc-d34029ae1225"
      },
      "execution_count": null,
      "outputs": [
        {
          "output_type": "stream",
          "name": "stdout",
          "text": [
            "[10, 9, 8, 7, 6, 5, 4, 3, 2, 1]\n"
          ]
        }
      ]
    },
    {
      "cell_type": "markdown",
      "source": [
        "# 15.Implement a code to find and remove duplicates from a list while preserving the original order of elements.  "
      ],
      "metadata": {
        "id": "5GLg0Fw2XMCq"
      }
    },
    {
      "source": [
        "lst = [1,2,2,4,5,6,7,8,9,10]\n",
        "new_list = []\n",
        "for i in lst:\n",
        "  if i not in new_list:\n",
        "    new_list.append(i)\n",
        "print(new_list)"
      ],
      "cell_type": "code",
      "metadata": {
        "colab": {
          "base_uri": "https://localhost:8080/"
        },
        "id": "MxnQSAkZaDtI",
        "outputId": "718ccb2d-0a7f-47f0-fc4b-42d35d3be2f9"
      },
      "execution_count": null,
      "outputs": [
        {
          "output_type": "stream",
          "name": "stdout",
          "text": [
            "[1, 2, 4, 5, 6, 7, 8, 9, 10]\n"
          ]
        }
      ]
    },
    {
      "cell_type": "markdown",
      "source": [
        "# 16.Create a code to check if a given list is sorted (either in ascending or descending order)or not."
      ],
      "metadata": {
        "id": "D9fBm9pBgP-c"
      }
    },
    {
      "cell_type": "code",
      "source": [
        "lst = [1,2,3,4,5,6,9,8,9,10]\n",
        "if lst == sorted(lst):\n",
        "    print(\"The list is sorted in ascending order\")\n",
        "elif lst == sorted(lst, reverse = True):\n",
        "    print(\"The list is sorted in descending order\")\n",
        "else:\n",
        "    print(\"The list is not sorted\")"
      ],
      "metadata": {
        "colab": {
          "base_uri": "https://localhost:8080/"
        },
        "id": "D1TRXnM_fgHO",
        "outputId": "1299e7a4-0658-45bc-916a-bfb742e05ba1"
      },
      "execution_count": null,
      "outputs": [
        {
          "output_type": "stream",
          "name": "stdout",
          "text": [
            "The list is not sorted\n"
          ]
        }
      ]
    },
    {
      "cell_type": "markdown",
      "source": [
        "# 17.Write a code to merge two sorted lists into a single sorted list."
      ],
      "metadata": {
        "id": "VbfkreZiaHYQ"
      }
    },
    {
      "source": [
        "lst1 = [1,2,3,4,5,6,7,8,9,10]\n",
        "lst2 = [11,12,13,14,15,16,17,18,19,20]\n",
        "merged_list = sorted(lst1 + lst2)\n",
        "print(merged_list)"
      ],
      "cell_type": "code",
      "metadata": {
        "colab": {
          "base_uri": "https://localhost:8080/"
        },
        "id": "mXrJ57NybQV3",
        "outputId": "33a338f7-1f6e-473c-cbd1-b0cd32545b0b"
      },
      "execution_count": null,
      "outputs": [
        {
          "output_type": "stream",
          "name": "stdout",
          "text": [
            "[1, 2, 3, 4, 5, 6, 7, 8, 9, 10, 11, 12, 13, 14, 15, 16, 17, 18, 19, 20]\n"
          ]
        }
      ]
    },
    {
      "cell_type": "markdown",
      "source": [
        "# 18.Implement a code to find the intersection of two given lists."
      ],
      "metadata": {
        "id": "3nLYIqADdVrM"
      }
    },
    {
      "cell_type": "markdown",
      "source": [],
      "metadata": {
        "id": "aeJr5cP3blP_"
      }
    },
    {
      "source": [
        "lst1 = [1, 2, 3, 4, 5]\n",
        "lst2 = [4, 5, 6, 7, 8]\n",
        "\n",
        "intersection = list(set(lst1) & set(lst2))\n",
        "print(intersection)"
      ],
      "cell_type": "code",
      "metadata": {
        "colab": {
          "base_uri": "https://localhost:8080/"
        },
        "id": "eRDkqdYJffGz",
        "outputId": "977fe5fc-1f40-44e3-af97-a1aa4668c924"
      },
      "execution_count": null,
      "outputs": [
        {
          "output_type": "stream",
          "name": "stdout",
          "text": [
            "[4, 5]\n"
          ]
        }
      ]
    },
    {
      "cell_type": "markdown",
      "source": [
        "# 19.Create a code to find the union of two lists without duplicates"
      ],
      "metadata": {
        "id": "wOnbCKb7gJop"
      }
    },
    {
      "cell_type": "code",
      "source": [
        "lst1 = [1, 2, 3, 4, 5]\n",
        "lst2 = [4, 5, 6, 7, 8]\n",
        "\n",
        "union = list(set(lst1) | set(lst2))\n",
        "print(union)"
      ],
      "metadata": {
        "colab": {
          "base_uri": "https://localhost:8080/"
        },
        "id": "_yUOjeKmbXvX",
        "outputId": "2c9603f0-b128-4ff5-c8c9-19c674a96624"
      },
      "execution_count": null,
      "outputs": [
        {
          "output_type": "stream",
          "name": "stdout",
          "text": [
            "[1, 2, 3, 4, 5, 6, 7, 8]\n"
          ]
        }
      ]
    },
    {
      "cell_type": "markdown",
      "source": [
        "# 20.Write a code to shuffle a given list randomly without using any built-in shuffle functions."
      ],
      "metadata": {
        "id": "ewo8BUoxiMrX"
      }
    },
    {
      "cell_type": "code",
      "source": [
        "lst = [1,2,3,4,5,6,7,8,9,10]\n"
      ],
      "metadata": {
        "id": "J5Lt7NrYhfJo"
      },
      "execution_count": null,
      "outputs": []
    },
    {
      "source": [
        "import random\n",
        "lst = [1,2,3,4,5,6,7,8,9,10]\n",
        "for i in range(len(lst)-1, 0, -1):\n",
        "    j = random.randint(0, i)\n",
        "    lst[i], lst[j] = lst[j], lst[i]\n",
        "print(lst)"
      ],
      "cell_type": "code",
      "metadata": {
        "colab": {
          "base_uri": "https://localhost:8080/"
        },
        "id": "P2lkbcLTjvAu",
        "outputId": "026829a8-b150-4296-835f-93ce4a100231"
      },
      "execution_count": null,
      "outputs": [
        {
          "output_type": "stream",
          "name": "stdout",
          "text": [
            "[5, 8, 6, 9, 2, 1, 4, 7, 3, 10]\n"
          ]
        }
      ]
    },
    {
      "cell_type": "markdown",
      "source": [
        "# 21.Write a code that takes two tuples as input and returns a new tuple containing elements that are common to both tuples"
      ],
      "metadata": {
        "id": "w5GsidWOljXc"
      }
    },
    {
      "cell_type": "code",
      "source": [
        "\n"
      ],
      "metadata": {
        "id": "_0PddsuBkT81"
      },
      "execution_count": null,
      "outputs": []
    },
    {
      "source": [
        "tuple1 = (1, 2, 3, 4, 5)\n",
        "tuple2 = (4, 5, 6, 7, 8)\n",
        "\n",
        "common_elements = tuple(set(tuple1) & set(tuple2))\n",
        "\n",
        "print(common_elements)"
      ],
      "cell_type": "code",
      "metadata": {
        "colab": {
          "base_uri": "https://localhost:8080/"
        },
        "id": "CtiTo2QAmolk",
        "outputId": "80cbff7b-c8fb-4cde-c62a-63be7335dc8d"
      },
      "execution_count": null,
      "outputs": [
        {
          "output_type": "stream",
          "name": "stdout",
          "text": [
            "(4, 5)\n"
          ]
        }
      ]
    },
    {
      "cell_type": "markdown",
      "source": [
        "# 22.Create a code that prompts the user to enter two sets of integers separated by commas.Then, print the intersection of these two sets."
      ],
      "metadata": {
        "id": "Z_nQf2A9m0Dz"
      }
    },
    {
      "cell_type": "code",
      "source": [
        "set"
      ],
      "metadata": {
        "id": "9Oqn6wjMmCMD"
      },
      "execution_count": null,
      "outputs": []
    },
    {
      "source": [
        "set1 = set(map(int, input(\"Enter the first set of integers separated by commas: \").split(\",\")))\n",
        "set2 = set(map(int, input(\"Enter the second set of integers separated by commas: \").split(\",\")))\n",
        "\n",
        "intersection = set1 & set2\n",
        "\n",
        "print(\"Intersection:\", intersection)"
      ],
      "cell_type": "code",
      "metadata": {
        "colab": {
          "base_uri": "https://localhost:8080/"
        },
        "id": "qbz8Qx1Xpth5",
        "outputId": "58639666-11f7-44da-b625-6f99cb86ec42"
      },
      "execution_count": null,
      "outputs": [
        {
          "output_type": "stream",
          "name": "stdout",
          "text": [
            "Enter the first set of integers separated by commas: 1,2,5,4,85\n",
            "Enter the second set of integers separated by commas: 2,14,0,1\n",
            "Intersection: {1, 2}\n"
          ]
        }
      ]
    },
    {
      "cell_type": "markdown",
      "source": [
        "# 23.Write a code to concatenate two tuples. The function should take two tuples as input and return a new tuple containing elements from both input tuples."
      ],
      "metadata": {
        "id": "YsHlq53AsqwN"
      }
    },
    {
      "cell_type": "code",
      "source": [
        "tuple1 = (1, 2, 3, 4, 5)\n",
        "tuple2 = (6, 7, 8, 9, 10)\n",
        "\n",
        "concatenated_tuple = tuple1 + tuple2\n",
        "\n",
        "print(concatenated_tuple)"
      ],
      "metadata": {
        "colab": {
          "base_uri": "https://localhost:8080/"
        },
        "id": "L4-pgU0ntQms",
        "outputId": "647d9fd0-74aa-42fa-9575-1ffef737703f"
      },
      "execution_count": null,
      "outputs": [
        {
          "output_type": "stream",
          "name": "stdout",
          "text": [
            "(1, 2, 3, 4, 5, 6, 7, 8, 9, 10)\n"
          ]
        }
      ]
    },
    {
      "cell_type": "markdown",
      "source": [
        "# 24.Develop a code that prompts the user to input two sets of strings.Then, print the elements that are present in the first set but not in the second set."
      ],
      "metadata": {
        "id": "lYk4v6wwuF9c"
      }
    },
    {
      "cell_type": "code",
      "source": [
        "set1 = set(input(\"Enter the first set of strings separated by commas: \").split(\",\"))\n",
        "set2 = set(input(\"Enter the second set of strings separated by commas: \").split(\",\"))\n",
        "\n",
        "difference = set1 - set2\n",
        "\n",
        "print(\"Elements in the first set but not in the second set:\", difference)"
      ],
      "metadata": {
        "colab": {
          "base_uri": "https://localhost:8080/"
        },
        "id": "ZmAdkUeat9c8",
        "outputId": "95a8e6ca-39c0-41b8-aece-0a2c4e4155ef"
      },
      "execution_count": null,
      "outputs": [
        {
          "output_type": "stream",
          "name": "stdout",
          "text": [
            "Enter the first set of strings separated by commas: 1,2,3\n",
            "Enter the second set of strings separated by commas: 4,5,6\n",
            "Elements in the first set but not in the second set: {'3', '2', '1'}\n"
          ]
        }
      ]
    },
    {
      "cell_type": "markdown",
      "source": [
        "# 25.Create a code that takes a tuple and two integers as input. The function should return a new tuple containing elements from the original tuple within the specified range of indices."
      ],
      "metadata": {
        "id": "6g8mG-bhwkcB"
      }
    },
    {
      "cell_type": "code",
      "source": [],
      "metadata": {
        "id": "wXR4n-VywA8y"
      },
      "execution_count": null,
      "outputs": []
    },
    {
      "source": [
        "def slice_tuple(original_tuple, start_index, end_index):\n",
        "  new_tuple = original_tuple[start_index:end_index]\n",
        "  return new_tuple\n",
        "\n",
        "# Example usage\n",
        "tuple1 = (1, 2, 3, 4, 5)\n",
        "start_index = 1\n",
        "end_index = 4\n",
        "sliced_tuple = slice_tuple(tuple1, start_index, end_index)\n",
        "print(sliced_tuple)"
      ],
      "cell_type": "code",
      "metadata": {
        "colab": {
          "base_uri": "https://localhost:8080/"
        },
        "id": "cocCV906x3gZ",
        "outputId": "0ee1d43d-8630-43ba-efc5-483af92c3501"
      },
      "execution_count": null,
      "outputs": [
        {
          "output_type": "stream",
          "name": "stdout",
          "text": [
            "(2, 3, 4)\n"
          ]
        }
      ]
    },
    {
      "cell_type": "markdown",
      "source": [
        "# 26.Write a code that prompts the user to input two sets of characters. Then ,print the union of these two sets."
      ],
      "metadata": {
        "id": "cIh3rpk8zgsG"
      }
    },
    {
      "cell_type": "code",
      "source": [
        "set1 = set(input(\"Enter the first set of characters separated by commas: \").split(\",\"))\n",
        "set2 = set(input(\"Enter the second set of characters separated by commas: \").split(\",\"))\n",
        "\n",
        "union = set1 | set2\n",
        "\n",
        "print(\"Union:\", union)"
      ],
      "metadata": {
        "colab": {
          "base_uri": "https://localhost:8080/"
        },
        "id": "yDREI_4bzA4f",
        "outputId": "8002a63a-f97a-46bf-b98a-0b6d00b8182e"
      },
      "execution_count": null,
      "outputs": [
        {
          "output_type": "stream",
          "name": "stdout",
          "text": [
            "Enter the first set of characters separated by commas: a,b,c,d,e\n",
            "Enter the second set of characters separated by commas: e,g,h,h,i\n",
            "Union: {'d', 'b', 'i', 'g', 'h', 'e', 'c', 'a'}\n"
          ]
        }
      ]
    },
    {
      "cell_type": "markdown",
      "source": [
        "# 27.Develop a code that takes a tuple of integers as input. The function should return the maximum and mimimum values from the tuple using tuple unpacking."
      ],
      "metadata": {
        "id": "rw5GhqM02L3c"
      }
    },
    {
      "source": [
        "def find_max_min(numbers):\n",
        "  max_value, min_value = max(numbers), min(numbers)\n",
        "  return max_value, min_value\n",
        "\n",
        "# Example usage\n",
        "numbers = (1, 2, 3, 4, 5)\n",
        "max_value, min_value = find_max_min(numbers)\n",
        "print(\"Maximum:\", max_value)\n",
        "print(\"Minimum:\", min_value)"
      ],
      "cell_type": "code",
      "metadata": {
        "colab": {
          "base_uri": "https://localhost:8080/"
        },
        "id": "prbzEYl_VWiN",
        "outputId": "5cad360a-a9d4-410b-a98d-c6fe522a0201"
      },
      "execution_count": null,
      "outputs": [
        {
          "output_type": "stream",
          "name": "stdout",
          "text": [
            "Maximum: 5\n",
            "Minimum: 1\n"
          ]
        }
      ]
    },
    {
      "cell_type": "markdown",
      "source": [
        "# 28.Create a code that defines two sets of integers.Then, print the union, intersection, and differences of these two sets."
      ],
      "metadata": {
        "id": "OTYuVwkjW-IY"
      }
    },
    {
      "cell_type": "code",
      "source": [
        "set1 = {1, 2, 3, 4, 5}\n",
        "set2 = {4, 5, 6, 7, 8}\n",
        "\n",
        "union = set1 | set2\n",
        "intersection = set1 & set2\n",
        "difference1 = set1 - set2\n",
        "difference2 = set2 - set1\n",
        "\n",
        "print(\"Union:\", union)\n",
        "print(\"Intersection:\", intersection)\n",
        "print(\"Difference (set1 - set2):\", difference1)\n",
        "print(\"Difference (set2 - set1):\", difference2)\n"
      ],
      "metadata": {
        "colab": {
          "base_uri": "https://localhost:8080/"
        },
        "id": "fY1nCgI3Xu_I",
        "outputId": "fd2171a9-d755-493b-ac03-84e4d508eb9f"
      },
      "execution_count": null,
      "outputs": [
        {
          "output_type": "stream",
          "name": "stdout",
          "text": [
            "Union: {1, 2, 3, 4, 5, 6, 7, 8}\n",
            "Intersection: {4, 5}\n",
            "Difference (set1 - set2): {1, 2, 3}\n",
            "Difference (set2 - set1): {8, 6, 7}\n"
          ]
        }
      ]
    },
    {
      "cell_type": "markdown",
      "source": [
        "# 29.Write a code that takes a tuple and an element as input.The function should return the count of occurrences of the given element in the tuple."
      ],
      "metadata": {
        "id": "iaMSs2xvYbmQ"
      }
    },
    {
      "source": [
        "def count_occurrences(tuple1, element):\n",
        "  count = tuple1.count(element)\n",
        "  return count\n",
        "\n",
        "# Example usage\n",
        "tuple1 = (1, 2, 2, 3, 4, 2)\n",
        "element = 2\n",
        "occurrences = count_occurrences(tuple1, element)\n",
        "print(\"Occurrences:\", occurrences)"
      ],
      "cell_type": "code",
      "metadata": {
        "colab": {
          "base_uri": "https://localhost:8080/"
        },
        "id": "OsGSK73cZlLw",
        "outputId": "7ef1c3be-8014-43ea-cd0a-6761d52d8565"
      },
      "execution_count": null,
      "outputs": [
        {
          "output_type": "stream",
          "name": "stdout",
          "text": [
            "Occurrences: 3\n"
          ]
        }
      ]
    },
    {
      "cell_type": "markdown",
      "source": [
        "# 30.Develop a code that prompts the user to input two sets of strings. Then, print the symmetric difference of these two sets."
      ],
      "metadata": {
        "id": "caq8pb0TZ0g_"
      }
    },
    {
      "cell_type": "code",
      "source": [],
      "metadata": {
        "id": "n4hdr6ATZqWP"
      },
      "execution_count": null,
      "outputs": []
    },
    {
      "source": [
        "set1 = set(input(\"Enter the first set of strings separated by commas: \").split(\",\"))\n",
        "set2 = set(input(\"Enter the second set of strings separated by commas: \").split(\",\"))\n",
        "\n",
        "symmetric_difference = set1 ^ set2\n",
        "\n",
        "print(\"Symmetric difference:\", symmetric_difference)"
      ],
      "cell_type": "code",
      "metadata": {
        "colab": {
          "base_uri": "https://localhost:8080/"
        },
        "id": "Qxtgy9Bca7lE",
        "outputId": "663f1808-1770-45f3-fc5c-ef54b157fd95"
      },
      "execution_count": null,
      "outputs": [
        {
          "output_type": "stream",
          "name": "stdout",
          "text": [
            "Enter the first set of strings separated by commas: a,b,h,s,h,e,k\n",
            "Enter the second set of strings separated by commas: a,k,s,h,a,y\n",
            "Symmetric difference: {'y', 'b', 'e'}\n"
          ]
        }
      ]
    },
    {
      "cell_type": "markdown",
      "source": [
        "# 31.Write a code that takes a list of words as input and returns a dictionary where the keys are unique words and the values are the frequencies of those words in the input list."
      ],
      "metadata": {
        "id": "0W0DqHM0bb8l"
      }
    },
    {
      "source": [
        "def word_frequencies(words):\n",
        "  frequency = {}\n",
        "  for word in words:\n",
        "    if word in frequency:\n",
        "      frequency[word] += 1\n",
        "    else:\n",
        "      frequency[word] = 1\n",
        "  return frequency\n",
        "\n",
        "words = [\"apple\", \"banana\", \"apple\", \"cherry\", \"banana\", \"apple\"]\n",
        "result = word_frequencies(words)\n",
        "print(result)"
      ],
      "cell_type": "code",
      "metadata": {
        "id": "k9mY8zjHgXrY",
        "colab": {
          "base_uri": "https://localhost:8080/"
        },
        "outputId": "02c0df46-1b7a-461a-f5a2-3aa692a11427"
      },
      "execution_count": null,
      "outputs": [
        {
          "output_type": "stream",
          "name": "stdout",
          "text": [
            "{'apple': 3, 'banana': 2, 'cherry': 1}\n"
          ]
        }
      ]
    },
    {
      "cell_type": "code",
      "source": [],
      "metadata": {
        "id": "eXQiASGdgTHw"
      },
      "execution_count": null,
      "outputs": []
    },
    {
      "cell_type": "markdown",
      "source": [
        "# 32.Write a code that takes two dictionaries as input and merges them into a single dictionary. If there are common keys, the values should be added together."
      ],
      "metadata": {
        "id": "uyg0sYvFcwfr"
      }
    },
    {
      "cell_type": "code",
      "source": [
        "dict1 = {\"a\": 1, \"b\": 2, \"c\": 3}\n",
        "dict2 = {\"b\": 4, \"c\": 5, \"d\": 6}\n",
        "\n",
        "for key in dict2:\n",
        "    if key in dict1:\n",
        "        dict2[key] = dict2[key] + dict1[key]\n",
        "\n",
        "merged_dict = {**dict1, **dict2}\n",
        "print(merged_dict)"
      ],
      "metadata": {
        "id": "elHJV7aOgl7i",
        "colab": {
          "base_uri": "https://localhost:8080/"
        },
        "outputId": "35ef46a2-7468-4e13-a18c-e70bb58e2dd2"
      },
      "execution_count": null,
      "outputs": [
        {
          "output_type": "stream",
          "name": "stdout",
          "text": [
            "{'a': 1, 'b': 6, 'c': 8, 'd': 6}\n"
          ]
        }
      ]
    },
    {
      "cell_type": "markdown",
      "source": [
        "# 33.Write a code to access a value in a nested dictionary. The function should take the dictionary and a list of keys as input, and return the corresponding value. If any of the keys do not ezist in the dictionary, the function should return None."
      ],
      "metadata": {
        "id": "LNnse1bUeXCH"
      }
    },
    {
      "source": [
        "def get_value(nested_dict, keys):\n",
        "  current_level = nested_dict\n",
        "  for key in keys:\n",
        "    if isinstance(current_level, dict) and key in current_level:\n",
        "      current_level = current_level[key]\n",
        "    else:\n",
        "      return None\n",
        "  return current_level\n",
        "\n",
        "# Example usage\n",
        "nested_dict = {\"a\": {\"b\": {\"c\": 10}}}\n",
        "keys = [\"a\", \"b\", \"c\"]\n",
        "value = get_value(nested_dict, keys)\n",
        "print(value)"
      ],
      "cell_type": "code",
      "metadata": {
        "colab": {
          "base_uri": "https://localhost:8080/"
        },
        "id": "3YQQQ5B8Q3Ct",
        "outputId": "ee7788b7-aa72-4bc2-f651-9f7832ce8947"
      },
      "execution_count": null,
      "outputs": [
        {
          "output_type": "stream",
          "name": "stdout",
          "text": [
            "10\n"
          ]
        }
      ]
    },
    {
      "cell_type": "markdown",
      "source": [
        "# 34.Write a code that takes a dictionary as input and returns a sorted version of it based on the values. You can choose whether to sort in ascending or descending order."
      ],
      "metadata": {
        "id": "qbFxBEpcRJyf"
      }
    },
    {
      "source": [
        "my_dict = {'apple': 3, 'banana': 1, 'cherry': 2}\n",
        "\n",
        "# Sort in ascending order\n",
        "sorted_dict_asc = dict(sorted(my_dict.items(), key=lambda item: item[1]))\n",
        "\n",
        "# Sort in descending order\n",
        "sorted_dict_desc = dict(sorted(my_dict.items(), key=lambda item: item[1], reverse=True))\n",
        "\n",
        "print(\"Ascending:\", sorted_dict_asc)\n",
        "print(\"Descending:\", sorted_dict_desc)"
      ],
      "cell_type": "code",
      "metadata": {
        "colab": {
          "base_uri": "https://localhost:8080/"
        },
        "id": "DckZfc5SSDHU",
        "outputId": "36aaeb6f-76b0-4dd0-ae2b-e69e00daf563"
      },
      "execution_count": null,
      "outputs": [
        {
          "output_type": "stream",
          "name": "stdout",
          "text": [
            "Ascending: {'banana': 1, 'cherry': 2, 'apple': 3}\n",
            "Descending: {'apple': 3, 'cherry': 2, 'banana': 1}\n"
          ]
        }
      ]
    },
    {
      "cell_type": "markdown",
      "source": [
        "# 35.Write a code that inverts a doctionary. Swapping  keys and values. Ensure that the inverted dictionary correctly handles cases where multiple keys have the some value by storing the keys as a list inthe inverted dictionary."
      ],
      "metadata": {
        "id": "9KYGIpq0Supz"
      }
    },
    {
      "cell_type": "code",
      "source": [],
      "metadata": {
        "id": "PU1VaShRgjLZ"
      },
      "execution_count": null,
      "outputs": []
    },
    {
      "source": [
        "my_dict = {'apple': 3, 'banana': 1, 'cherry': 2, 'date': 1}\n",
        "\n",
        "inverted_dict = {}\n",
        "for key, value in my_dict.items():\n",
        "  if value not in inverted_dict:\n",
        "    inverted_dict[value] = [key]\n",
        "  else:\n",
        "    inverted_dict[value].append(key)\n",
        "\n",
        "print(inverted_dict)\n"
      ],
      "cell_type": "code",
      "metadata": {
        "colab": {
          "base_uri": "https://localhost:8080/"
        },
        "id": "BvND59S6U-qq",
        "outputId": "fc365074-9c7c-41e6-b280-3dfbaba75019"
      },
      "execution_count": null,
      "outputs": [
        {
          "output_type": "stream",
          "name": "stdout",
          "text": [
            "{3: ['apple'], 1: ['banana', 'date'], 2: ['cherry']}\n"
          ]
        }
      ]
    },
    {
      "cell_type": "markdown",
      "source": [],
      "metadata": {
        "id": "SO5Yc9amcs_T"
      }
    }
  ]
}