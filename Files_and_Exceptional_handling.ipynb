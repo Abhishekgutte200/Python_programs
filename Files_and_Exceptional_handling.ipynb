{
  "nbformat": 4,
  "nbformat_minor": 0,
  "metadata": {
    "colab": {
      "provenance": [],
      "authorship_tag": "ABX9TyOAIOodT+s61WyupTmn+QIA",
      "include_colab_link": true
    },
    "kernelspec": {
      "name": "python3",
      "display_name": "Python 3"
    },
    "language_info": {
      "name": "python"
    }
  },
  "cells": [
    {
      "cell_type": "markdown",
      "metadata": {
        "id": "view-in-github",
        "colab_type": "text"
      },
      "source": [
        "<a href=\"https://colab.research.google.com/github/Abhishekgutte200/Python_programs/blob/main/Files_and_Exceptional_handling.ipynb\" target=\"_parent\"><img src=\"https://colab.research.google.com/assets/colab-badge.svg\" alt=\"Open In Colab\"/></a>"
      ]
    },
    {
      "cell_type": "markdown",
      "source": [
        "# 1. Discuss the scenarios where multithreading is preferable to multiprocessing and scenarios where multiprocessing is a better choice."
      ],
      "metadata": {
        "id": "viTDOOSi0XYu"
      }
    },
    {
      "cell_type": "markdown",
      "source": [
        " Here's a discussion of scenarios where multithreading and multiprocessing are preferred:\n",
        "\n",
        "**Multithreading**\n",
        "\n",
        "* **I/O-Bound Tasks:**\n",
        "Multithreading is preferable for tasks that spend a lot of time waiting for input or output operations, such as reading from a file or network connection. Because threads share the same memory space, they can easily communicate and share data, which can be useful for these types of tasks.\n",
        "\n",
        "* **GUI Programming:**\n",
        "Multithreading is often used in GUI programming to keep the user interface responsive while other tasks are running in the background. This prevents the UI from freezing or becoming unresponsive.\n",
        "* **Tasks with Shared Resources:** If tasks need to share resources, such as a database connection or a memory cache, multithreading can be a good choice because it allows threads to access these resources without the overhead of creating and managing separate processes.\n",
        "\n",
        "**Multiprocessing**\n",
        "\n",
        "* **CPU-Bound Tasks:**\n",
        "Multiprocessing is preferable for tasks that are computationally intensive and require a lot of CPU time. Because processes have their own memory space, they can run in parallel on multiple CPU cores, which can significantly speed up the execution of these tasks.\n",
        "* **Tasks that Need Isolation:** Multiprocessing is a good choice for tasks that need to be isolated from each other, such as running untrusted code or preventing one task from crashing the entire application.\n",
        "* **Tasks with Large Datasets:** Multiprocessing can be useful for tasks that involve processing large datasets because it allows the data to be divided into smaller chunks and processed in parallel by different processes.\n",
        "\n",
        "**Example**\n",
        "\n",
        "* A web server that needs to handle multiple requests concurrently would likely use multithreading to handle each request in a separate thread. This would allow the server to remain responsive while processing requests.\n",
        "* A scientific computing application that needs to perform complex calculations would likely use multiprocessing to distribute the calculations across multiple CPU cores. This would significantly speed up the execution of the application."
      ],
      "metadata": {
        "id": "8MrM-2kO3DM0"
      }
    },
    {
      "cell_type": "markdown",
      "source": [
        "# 2. Describe what a process pool is and how it helps in managing multiple processes efficiently."
      ],
      "metadata": {
        "id": "z2CYJ3886Al1"
      }
    },
    {
      "cell_type": "markdown",
      "source": [
        "**process pool:**\n",
        "\n",
        "A process pool is a programming pattern for managing a pool of worker processes to efficiently execute tasks concurrently.\n",
        "\n",
        "Here's how it works and the benefits:\n",
        "\n",
        "**How It Works**\n",
        "\n",
        "1.  **Creation:** A process pool is created with a specific number of worker processes. These processes are kept ready to perform tasks.\n",
        "2. **Task Submission:** When you have a task to execute, you submit it to the pool.\n",
        "2. **Task Assignment:** The pool automatically assigns the task to an available worker process.\n",
        "2. **Execution:** The worker process executes the task in parallel with other tasks.\n",
        "2. **Result Retrieval:** Once the task is completed, you can retrieve the results from the pool.\n",
        "**Benefits of Using a Process Pool**\n",
        "\n",
        "* **Efficiency:** By reusing worker processes, a process pool reduces the overhead of creating and destroying processes for each task, resulting in improved efficiency.\n",
        "* **Resource Management:** It provides a way to control the number of active processes, preventing your system from becoming overloaded.\n",
        "* **Simplified Concurrency:** It simplifies the process of managing multiple processes, making it easier to write parallel code.\n",
        "* **Improved Performance:** By executing tasks concurrently, a process pool can significantly speed up the overall execution time of your program, especially for CPU-bound tasks.\n",
        "\n",
        "**Example in Python (using `multiprocessing` library) :**"
      ],
      "metadata": {
        "id": "cn5lptlo7mjm"
      }
    },
    {
      "source": [
        "from multiprocessing import Pool\n",
        "\n",
        "def my_function(x):\n",
        "  # Perform some task here\n",
        "  return x * x\n",
        "\n",
        "if __name__ == '__main__':\n",
        "  with Pool(processes=4) as pool:  # Create a pool of 4 worker processes\n",
        "    results = pool.map(my_function, [1, 2, 3, 4, 5])  # Apply the function to a list of values\n",
        "    print(results)  # Print the results"
      ],
      "cell_type": "code",
      "metadata": {
        "colab": {
          "base_uri": "https://localhost:8080/"
        },
        "id": "nCY6LSnN-O__",
        "outputId": "57917d6f-4576-4415-f7b2-8c3a920c127a"
      },
      "execution_count": null,
      "outputs": [
        {
          "output_type": "stream",
          "name": "stdout",
          "text": [
            "[1, 4, 9, 16, 25]\n"
          ]
        }
      ]
    },
    {
      "cell_type": "markdown",
      "source": [
        "In the above example, the `Pool` object represents the process pool. The `map` function applies the `my_function` to each element of the input list in parallel, utilizing the worker processes in the pool. `results` will contain the results of the calculations."
      ],
      "metadata": {
        "id": "tD02hnt8-XY2"
      }
    },
    {
      "cell_type": "markdown",
      "source": [
        "# 3. Explain what multiprocessing is and why it is used in Python programs."
      ],
      "metadata": {
        "id": "ZHI13IZJ-u7n"
      }
    },
    {
      "cell_type": "markdown",
      "source": [
        " **Multiprocessing in Python:**\n",
        "\n",
        "Multiprocessing is a programming technique that allows you to run multiple processes concurrently, each with its own memory space. These processes can execute different parts of your program simultaneously, potentially utilizing multiple CPU cores to achieve true parallelism and speed up execution.\n",
        "\n",
        "**Why is Multiprocessing Used in Python?**\n",
        "\n",
        "Multiprocessing is employed for several reasons:\n",
        "\n",
        "1. **Overcoming the GIL:** Python's Global Interpreter Lock (GIL) limits the execution of true parallelism within a single process, even with multithreading. Multiprocessing bypasses this limitation by using separate processes that can run on different cores.\n",
        "2. **Improving Performance:** By utilizing multiple CPU cores, multiprocessing can significantly enhance the performance of CPU-bound tasks, enabling substantial speed improvements.\n",
        "3. **Enhanced Responsiveness:** For applications that require significant processing, multiprocessing can help maintain responsiveness by offloading computationally intensive operations to separate processes.\n",
        "4. **Robustness and Isolation:** If one process crashes, it won't affect other processes in a multiprocessing setup, ensuring robustness and isolation.\n",
        "**Example :**"
      ],
      "metadata": {
        "id": "_dYjC-n2_CrX"
      }
    },
    {
      "source": [
        "from multiprocessing import Process\n",
        "\n",
        "def my_function(name):\n",
        "    print(f\"Hello, {name} from process {os.getpid()}\")\n",
        "\n",
        "if __name__ == '__main__':\n",
        "    p1 = Process(target=my_function, args=('Bob',))\n",
        "    p2 = Process(target=my_function, args=('Alice',))\n",
        "    p1.start()\n",
        "    p2.start()\n",
        "    p1.join()\n",
        "    p2.join()"
      ],
      "cell_type": "code",
      "metadata": {
        "colab": {
          "base_uri": "https://localhost:8080/"
        },
        "id": "bR05X575GQeA",
        "outputId": "fc99e959-53fb-479c-fbff-05d11ad22e34"
      },
      "execution_count": null,
      "outputs": [
        {
          "output_type": "stream",
          "name": "stderr",
          "text": [
            "Process Process-5:\n",
            "Process Process-6:\n",
            "Traceback (most recent call last):\n",
            "Traceback (most recent call last):\n",
            "  File \"/usr/lib/python3.10/multiprocessing/process.py\", line 314, in _bootstrap\n",
            "    self.run()\n",
            "  File \"/usr/lib/python3.10/multiprocessing/process.py\", line 108, in run\n",
            "    self._target(*self._args, **self._kwargs)\n",
            "  File \"<ipython-input-2-de6ef1ccd683>\", line 4, in my_function\n",
            "    print(f\"Hello, {name} from process {os.getpid()}\")\n",
            "NameError: name 'os' is not defined\n",
            "  File \"/usr/lib/python3.10/multiprocessing/process.py\", line 314, in _bootstrap\n",
            "    self.run()\n",
            "  File \"/usr/lib/python3.10/multiprocessing/process.py\", line 108, in run\n",
            "    self._target(*self._args, **self._kwargs)\n",
            "  File \"<ipython-input-2-de6ef1ccd683>\", line 4, in my_function\n",
            "    print(f\"Hello, {name} from process {os.getpid()}\")\n",
            "NameError: name 'os' is not defined\n"
          ]
        }
      ]
    },
    {
      "cell_type": "markdown",
      "source": [
        "In the above example, two processes are created, each running the `my_function` with different arguments. These processes will execute in parallel, printing greetings from their respective process IDs."
      ],
      "metadata": {
        "id": "gPTTdO51IuFp"
      }
    },
    {
      "cell_type": "markdown",
      "source": [
        "# 4. Write a Python program using multithreading where one thread adds numbers to a list, and another thread removes numbers from the list. Implement a mechanism to avoid race conditions using (threading.Lock)."
      ],
      "metadata": {
        "id": "prdCDL7gJFCI"
      }
    },
    {
      "cell_type": "markdown",
      "source": [
        "Here's a Python program using multithreading with one thread adding numbers and another removing numbers, protected by `threading.Lock` to avoid race conditions"
      ],
      "metadata": {
        "id": "fRDbfJS0Jd55"
      }
    },
    {
      "source": [
        "import threading\n",
        "import time\n",
        "import random\n",
        "\n",
        "class ThreadSafeList:\n",
        "    def __init__(self):\n",
        "        self.list = []\n",
        "        self.lock = threading.Lock()\n",
        "\n",
        "    def add_number(self, number):\n",
        "        with self.lock:  # Acquire the lock before accessing the shared list\n",
        "            self.list.append(number)\n",
        "            print(f\"Added: {number}, List: {self.list}\")\n",
        "            time.sleep(0.5)  # Simulate some work\n",
        "\n",
        "    def remove_number(self):\n",
        "        with self.lock:  # Acquire the lock before accessing the shared list\n",
        "            if self.list:\n",
        "                number = self.list.pop()\n",
        "                print(f\"Removed: {number}, List: {self.list}\")\n",
        "            else:\n",
        "                print(\"List is empty\")\n",
        "            time.sleep(0.5)  # Simulate some work\n",
        "\n",
        "def add_numbers_task(safe_list):\n",
        "    for i in range(5):\n",
        "        safe_list.add_number(random.randint(1, 10))\n",
        "\n",
        "def remove_numbers_task(safe_list):\n",
        "    for i in range(5):\n",
        "        safe_list.remove_number()\n",
        "\n",
        "if __name__ == \"__main__\":\n",
        "    safe_list = ThreadSafeList()\n",
        "\n",
        "    add_thread = threading.Thread(target=add_numbers_task, args=(safe_list,))\n",
        "    remove_thread = threading.Thread(target=remove_numbers_task, args=(safe_list,))\n",
        "\n",
        "    add_thread.start()\n",
        "    remove_thread.start()\n",
        "\n",
        "    add_thread.join()\n",
        "    remove_thread.join()\n",
        "\n",
        "    print(\"Program finished\")"
      ],
      "cell_type": "code",
      "metadata": {
        "colab": {
          "base_uri": "https://localhost:8080/"
        },
        "id": "1OK7W6RkJn_J",
        "outputId": "02450960-c3bb-4a17-9fc9-095aa315e459"
      },
      "execution_count": null,
      "outputs": [
        {
          "output_type": "stream",
          "name": "stdout",
          "text": [
            "Added: 4, List: [4]\n",
            "Removed: 4, List: []\n",
            "List is empty\n",
            "List is empty\n",
            "List is empty\n",
            "Added: 3, List: [3]\n",
            "Added: 6, List: [3, 6]\n",
            "Added: 8, List: [3, 6, 8]\n",
            "Added: 5, List: [3, 6, 8, 5]\n",
            "Removed: 5, List: [3, 6, 8]\n",
            "Program finished\n"
          ]
        }
      ]
    },
    {
      "cell_type": "markdown",
      "source": [
        "**How it Works**\n",
        "\n",
        "1. `ThreadSafeList:`A class is created to encapsulate the list and the lock. The `add_number` and `remove_number` methods acquire the lock using `with self.lock:` before accessing the list, ensuring that only one thread can modify it at a time.\n",
        "2. `add_numbers_task and remove_numbers_task:` These functions define the tasks for the threads, adding and removing numbers, respectively.\n",
        "2. `main block:` Creates two threads, starts them, and waits for them to complete using join().\n",
        "2. `threading.Lock:` The lock object is used to synchronize access to the shared list, preventing race conditions."
      ],
      "metadata": {
        "id": "5AfNFqb8J1jB"
      }
    },
    {
      "cell_type": "markdown",
      "source": [
        "# 5. Describe the methods and tools available in Python for safely sharing data between threads and processes."
      ],
      "metadata": {
        "id": "AKPEUC5LKrUx"
      }
    },
    {
      "cell_type": "markdown",
      "source": [
        "Here's a description of methods and tools available in Python for safely sharing data between threads and processes:\n",
        "\n",
        "**Threads**\n",
        "\n",
        "* **threading.Lock:** This is a basic synchronization primitive that allows only one thread to hold the lock at a time. This can be used to protect shared resources from race conditions.\n",
        "* **threading.RLock:** This is a reentrant lock, which means that the same thread can acquire the lock multiple times without blocking.\n",
        "* **threading.Condition:** This is a more advanced synchronization primitive that allows threads to wait for a certain condition to be met before continuing execution.\n",
        "* **queue.Queue:** This is a thread-safe queue that can be used to pass data between threads.\n",
        "* **collections.deque:** A double-ended queue, efficient for appending and popping elements. Thread-safe if used correctly with locks.\n",
        "\n",
        "**Processes**\n",
        "\n",
        "* **multiprocessing.Lock:** Similar to threading.Lock, but for processes.\n",
        "* **multiprocessing.RLock:** Similar to threading.RLock, but for processes.\n",
        "* **multiprocessing.Condition:** Similar to threading.Condition, but for processes.\n",
        "* **multiprocessing.Queue:** Similar to queue.Queue, but for processes.\n",
        "* **multiprocessing.Pipe:** Allows two processes to communicate with each other using a pipe.\n",
        "* **multiprocessing.Manager:** Provides a way to share Python objects between processes using proxies.\n",
        "* **multiprocessing.shared_memory:** For sharing raw memory segments between processes.\n",
        "\n",
        "**Reasoning**\n",
        "\n",
        "* Locks are used to prevent multiple threads or processes from accessing a shared resource simultaneously, thus preventing race conditions.\n",
        "* Queues provide a way to pass data between threads or processes in a safe and organized manner.\n",
        "* Pipes provide a direct channel for communication between two processes.\n",
        "Managers offer a way to share Python objects across processes, which is helpful for more complex data structures.\n",
        "* Shared memory enables sharing memory directly between processes, offering the fastest communication method."
      ],
      "metadata": {
        "id": "o6oUf9RqqW3D"
      }
    },
    {
      "cell_type": "markdown",
      "source": [
        "# 6. Discuss why it's crucial to handle exceptions in concurrent programs and the techniques available for doing so."
      ],
      "metadata": {
        "id": "z5gtE64ex3xp"
      }
    },
    {
      "cell_type": "markdown",
      "source": [
        "Here's a discussion on the importance of exception handling in concurrent programs and techniques to handle them:\n",
        "\n",
        "**Why Exception Handling is Crucial in Concurrent Programs**\n",
        "\n",
        "In concurrent programs, multiple threads or processes execute simultaneously, often sharing resources and interacting with each other. This introduces complexities that can lead to unexpected errors and exceptions. Here's why handling exceptions is particularly crucial in such environments:\n",
        "1. **Preventing Program Crashes:** Unhandled exceptions in one thread or process can bring down the entire application, disrupting other concurrent tasks and potentially leading to data corruption or loss. Proper exception handling ensures that errors are contained and the program can continue running.\n",
        "\n",
        "2. **Maintaining Data Integrity:** Concurrent access to shared resources can lead to race conditions, where data can be corrupted if exceptions are not handled correctly. Exception handling mechanisms allow you to implement strategies like rollback or retry to maintain data consistency in the face of errors.\n",
        "\n",
        "3. **Isolating Errors:** In concurrent programs, an error in one thread or process should not necessarily affect others. Exception handling helps isolate errors to their respective threads or processes, preventing cascading failures and ensuring that other parts of the application can continue functioning.\n",
        "\n",
        "4. **Debugging and Diagnostics:** When exceptions occur in concurrent programs, it can be difficult to pinpoint the source of the problem. Proper exception handling with logging and error reporting mechanisms can greatly aid in debugging and diagnosing issues, making it easier to identify and fix bugs.\n",
        "\n",
        "**Techniques for Handling Exceptions in Concurrent Programs**\n",
        "\n",
        "1. **try-except Blocks:** Similar to single-threaded programs, use try-except blocks within threads or processes to catch and handle specific exceptions. This allows you to handle errors gracefully and prevent them from propagating.\n",
        "\n",
        "1. **Global Exception Handlers:** In Python's threading module, you can use threading.excepthook to set a global exception handler for uncaught exceptions in threads. This provides a central place to log or handle errors that were not caught within individual threads.\n",
        "\n",
        "1. **Process Signals:** For multiprocessing, you can use signals to handle exceptions in child processes. For example, you can register a signal handler for SIGTERM or SIGKILL to perform cleanup or logging when a child process terminates unexpectedly.\n",
        "\n",
        "1. **Queue-Based Error Reporting:** In multiprocessing, you can use queues to communicate errors from child processes to the parent process. Child processes can put exceptions or error messages into the queue, and the parent process can monitor the queue to handle them.\n",
        "\n",
        "1. **Logging:** Implement robust logging mechanisms to record exceptions and relevant information, such as timestamps, thread or process IDs, and stack traces. This can be invaluable for debugging and understanding the behavior of concurrent programs.\n",
        "\n",
        "1. **Timeout Mechanisms:** For tasks that might hang or take too long, consider using timeout mechanisms to interrupt them and raise exceptions. This can prevent deadlocks or other issues that might arise from long-running tasks.\n",
        "\n",
        "Remember to choose the appropriate exception handling techniques based on the specific concurrency model (multithreading or multiprocessing) and the nature of your application. By carefully handling exceptions, you can create more robust and reliable concurrent programs that are better equipped to deal with unexpected errors."
      ],
      "metadata": {
        "id": "9yMh9Q_dySQA"
      }
    },
    {
      "cell_type": "markdown",
      "source": [
        "# 7. Create a program that uses a thread pool to calculate thefactorial of numbers from 1 to 10 concurrently. Use concurrent.futures ThreadPoolExecutor to manage the threads."
      ],
      "metadata": {
        "id": "V0Uudt-eMnqB"
      }
    },
    {
      "cell_type": "markdown",
      "source": [
        "Following is the Python program that uses a thread pool to calculate the factorial of numbers from 1 to 10 concurrently using `concurrent.futures.ThreadPoolExecutor:`"
      ],
      "metadata": {
        "id": "zAdUkEDsM9R5"
      }
    },
    {
      "source": [
        "import concurrent.futures\n",
        "import math\n",
        "\n",
        "def factorial(n):\n",
        "    \"\"\"Calculates the factorial of a number.\"\"\"\n",
        "    return math.factorial(n)\n",
        "\n",
        "def main():\n",
        "    \"\"\"Calculates factorials concurrently using a thread pool.\"\"\"\n",
        "    numbers = range(1, 11)  # Numbers from 1 to 10\n",
        "\n",
        "    with concurrent.futures.ThreadPoolExecutor() as executor:\n",
        "        # Submit tasks to the thread pool\n",
        "        results = executor.map(factorial, numbers)\n",
        "\n",
        "    # Print the results\n",
        "    for num, fact in zip(numbers, results):\n",
        "        print(f\"The factorial of {num} is {fact}\")\n",
        "\n",
        "if __name__ == \"__main__\":\n",
        "    main()"
      ],
      "cell_type": "code",
      "metadata": {
        "colab": {
          "base_uri": "https://localhost:8080/",
          "height": 0
        },
        "id": "lz4QIWpyNFcR",
        "outputId": "3bc4c6de-8fba-45a1-b3b8-81b0c6f7a1b4"
      },
      "execution_count": 1,
      "outputs": [
        {
          "output_type": "stream",
          "name": "stdout",
          "text": [
            "The factorial of 1 is 1\n",
            "The factorial of 2 is 2\n",
            "The factorial of 3 is 6\n",
            "The factorial of 4 is 24\n",
            "The factorial of 5 is 120\n",
            "The factorial of 6 is 720\n",
            "The factorial of 7 is 5040\n",
            "The factorial of 8 is 40320\n",
            "The factorial of 9 is 362880\n",
            "The factorial of 10 is 3628800\n"
          ]
        }
      ]
    },
    {
      "cell_type": "markdown",
      "source": [
        "**How it works**\n",
        "\n",
        "1. **Import necessary modules:** `concurrent.futures` for thread pool and `math` for factorial calculation.\n",
        "2. **Define `factorial` function:** Calculates the factorial of a given number using `math.factorial`.\n",
        "3. **Define `main` function:**\n",
        "\n",
        " * Creates a list of numbers from 1 to 10.\n",
        " * Creates a `ThreadPoolExecutor` to manage the threads.\n",
        " * Uses `executor.map` to submit factorial calculations for each number to the thread pool. This returns an iterator of results.\n",
        " * Iterates through the results and prints the factorial of each number.\n",
        "4. **Run the `main` function when the script is executed.**\n",
        "\n",
        "This program demonstrates how to use a thread pool for concurrent execution of tasks, in this case, calculating factorials. The `ThreadPoolExecutor` efficiently manages the threads, allowing you to leverage multiple cores for faster processing."
      ],
      "metadata": {
        "id": "Y10aY0RVNpk6"
      }
    },
    {
      "cell_type": "markdown",
      "source": [],
      "metadata": {
        "id": "m3IiGhLWNkxC"
      }
    },
    {
      "cell_type": "markdown",
      "source": [
        "# 8. Create a Python program that uses multiprocessing.Pool to compute the square of numbers from 1 to 10 in parallel Measure the time taken to perform this computation using a pool of different sizes (e.g., 2, 4, 8 processes)."
      ],
      "metadata": {
        "id": "L_Rp5kaNPZ85"
      }
    },
    {
      "cell_type": "markdown",
      "source": [
        "Here's a Python program that uses `multiprocessing.Pool` to compute the square of numbers from 1 to 10 in parallel and measures the execution time for different pool sizes:"
      ],
      "metadata": {
        "id": "6IZvCYjDPsBw"
      }
    },
    {
      "source": [
        "import multiprocessing\n",
        "import time\n",
        "\n",
        "def square(n):\n",
        "    \"\"\"Calculates the square of a number.\"\"\"\n",
        "    return n * n\n",
        "\n",
        "def main():\n",
        "    \"\"\"Computes squares in parallel using multiprocessing.Pool and measures time.\"\"\"\n",
        "    numbers = range(1, 11)  # Numbers from 1 to 10\n",
        "    pool_sizes = [2, 4, 8]  # Different pool sizes to test\n",
        "\n",
        "    for pool_size in pool_sizes:\n",
        "        start_time = time.time()\n",
        "\n",
        "        with multiprocessing.Pool(processes=pool_size) as pool:\n",
        "            results = pool.map(square, numbers)\n",
        "\n",
        "        end_time = time.time()\n",
        "        execution_time = end_time - start_time\n",
        "\n",
        "        print(f\"Pool size: {pool_size}, Execution time: {execution_time:.4f} seconds\")\n",
        "\n",
        "if __name__ == \"__main__\":\n",
        "    main()"
      ],
      "cell_type": "code",
      "metadata": {
        "colab": {
          "base_uri": "https://localhost:8080/",
          "height": 0
        },
        "id": "TX8pTr92P0-h",
        "outputId": "fd86f13f-4042-4908-b86b-2d5b877da6aa"
      },
      "execution_count": 2,
      "outputs": [
        {
          "output_type": "stream",
          "name": "stdout",
          "text": [
            "Pool size: 2, Execution time: 0.0452 seconds\n",
            "Pool size: 4, Execution time: 0.0534 seconds\n",
            "Pool size: 8, Execution time: 0.0908 seconds\n"
          ]
        }
      ]
    },
    {
      "cell_type": "markdown",
      "source": [
        "**How it Works**\n",
        "\n",
        "1. Import necessary modules: `multiprocessing` for process pool and time for `time` measurement.\n",
        "1. Define `square` function: Calculates the square of a given number.\n",
        "1. Define `main` function:\n",
        " * Creates a list of numbers from 1 to 10.\n",
        " * Defines a list of pool sizes to test (2, 4, 8).\n",
        " * Iterates through the pool sizes:\n",
        "    * Records the start time.\n",
        "    * Creates a `multiprocessing.Pool` with the current pool size.\n",
        "    * Uses `pool.map` to submit square calculations for each number to the process pool.\n",
        "    * Records the end time and calculates the execution time.\n",
        "    * Prints the pool size and execution time.\n",
        "4. Run the `main` function when the script is executed.\n",
        "This program demonstrates the use of `multiprocessing.Pool` for parallel computation and measures the execution time for different pool sizes, allowing you to observe the impact of varying the number of processes on performance. Execute the code yourself to see the output."
      ],
      "metadata": {
        "id": "lvsdtH4eP29Y"
      }
    },
    {
      "cell_type": "code",
      "source": [],
      "metadata": {
        "id": "hiaGt3IE-QQf"
      },
      "execution_count": null,
      "outputs": []
    }
  ]
}