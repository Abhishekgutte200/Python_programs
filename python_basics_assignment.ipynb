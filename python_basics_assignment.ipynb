{
  "cells": [
    {
      "cell_type": "markdown",
      "metadata": {
        "id": "view-in-github",
        "colab_type": "text"
      },
      "source": [
        "<a href=\"https://colab.research.google.com/github/Abhishekgutte200/Python_programs/blob/main/python_basics_assignment.ipynb\" target=\"_parent\"><img src=\"https://colab.research.google.com/assets/colab-badge.svg\" alt=\"Open In Colab\"/></a>"
      ]
    },
    {
      "cell_type": "markdown",
      "id": "4e9b471f-e697-489c-a2ab-9c47baa5dfeb",
      "metadata": {
        "tags": [],
        "id": "4e9b471f-e697-489c-a2ab-9c47baa5dfeb"
      },
      "source": [
        "#### 1.Explain the key features of python that make it a popular choice for programming."
      ]
    },
    {
      "cell_type": "markdown",
      "id": "f321378a-5556-4506-befc-335ce74fb034",
      "metadata": {
        "id": "f321378a-5556-4506-befc-335ce74fb034"
      },
      "source": [
        "**Ans :** Python is high level interpreted programming language that is widely used for various purposes.\n",
        "           followinga are some key features that python make it a popular choice for programming."
      ]
    },
    {
      "cell_type": "markdown",
      "id": "0b70cba5-4aad-4d04-b0b1-5d587a79efe7",
      "metadata": {
        "id": "0b70cba5-4aad-4d04-b0b1-5d587a79efe7"
      },
      "source": [
        "***1.Readiability:*** Python language is very comfordable to read and write the program fot beginners aslo."
      ]
    },
    {
      "cell_type": "markdown",
      "id": "8bbed156-c98a-47da-b9ba-1dc8a8fe74f8",
      "metadata": {
        "id": "8bbed156-c98a-47da-b9ba-1dc8a8fe74f8"
      },
      "source": [
        "***2.Dynamic Typing :*** In python no need to declare variable type so it saves our time."
      ]
    },
    {
      "cell_type": "markdown",
      "id": "c8bffebe-875c-41fe-8654-8a89e28ccf96",
      "metadata": {
        "id": "c8bffebe-875c-41fe-8654-8a89e28ccf96"
      },
      "source": [
        "***3.Crossplatform :*** We can run python on various operating systems like windows,macOS,and Linux etc."
      ]
    },
    {
      "cell_type": "markdown",
      "id": "0492930c-3027-4698-829f-e377fca8d430",
      "metadata": {
        "id": "0492930c-3027-4698-829f-e377fca8d430"
      },
      "source": [
        "***4.High level programming language :*** The python is high level programming language that means the programmer can focus on logics instead of focusing on low level details."
      ]
    },
    {
      "cell_type": "markdown",
      "id": "eeff1449-d8d1-4b54-bcef-4cdaa0463ade",
      "metadata": {
        "id": "eeff1449-d8d1-4b54-bcef-4cdaa0463ade"
      },
      "source": [
        "***5.Versatility :*** Python is very versatile language which can used in various tasks like web developing, data analysis,machine learning etc."
      ]
    },
    {
      "cell_type": "markdown",
      "id": "417f46c0-5cea-4798-95c2-dae14c3b1615",
      "metadata": {
        "id": "417f46c0-5cea-4798-95c2-dae14c3b1615"
      },
      "source": [
        "***6.Large community :*** pythan has massive and active community which means there are various resourses for learning and troubleshooting."
      ]
    },
    {
      "cell_type": "markdown",
      "id": "d307447f-f827-4434-b305-624e6f29cb11",
      "metadata": {
        "tags": [],
        "id": "d307447f-f827-4434-b305-624e6f29cb11"
      },
      "source": [
        "#### 2.Describe the role of predefined keywords in python and provede examples of how they are used in a program."
      ]
    },
    {
      "cell_type": "markdown",
      "id": "d577d1fa-0e55-4e58-ac61-8aa6e19e0db8",
      "metadata": {
        "id": "d577d1fa-0e55-4e58-ac61-8aa6e19e0db8"
      },
      "source": [
        "**Ans.**: keywords-- keywords are special reserved words that have the specific meanings and purposes .And the keywords can not be used as variable or functions or identifiers etc.\n",
        "        True, false, global these are some keywords."
      ]
    },
    {
      "cell_type": "markdown",
      "id": "87a5a1a9-89ae-4062-97c1-5ebb81821ce3",
      "metadata": {
        "id": "87a5a1a9-89ae-4062-97c1-5ebb81821ce3"
      },
      "source": [
        "For Example--1  use of operator keywords in program"
      ]
    },
    {
      "cell_type": "code",
      "execution_count": null,
      "id": "ce4b9e9a-a2e5-4c17-92e9-573212332f04",
      "metadata": {
        "id": "ce4b9e9a-a2e5-4c17-92e9-573212332f04",
        "outputId": "b4ac464c-1fee-44dc-c547-9d22f0458c8d"
      },
      "outputs": [
        {
          "name": "stdout",
          "output_type": "stream",
          "text": [
            "False\n",
            "True\n",
            "False\n"
          ]
        }
      ],
      "source": [
        "a = True\n",
        "b = False\n",
        "print (a and b)\n",
        "print (a or b)\n",
        "print (not a)\n"
      ]
    },
    {
      "cell_type": "markdown",
      "id": "c2df57c2-9d4a-4f28-8702-340dd180affb",
      "metadata": {
        "tags": [],
        "id": "c2df57c2-9d4a-4f28-8702-340dd180affb"
      },
      "source": [
        "#### 3.Compare and contrast mutable and immutable objects in python with examples."
      ]
    },
    {
      "cell_type": "markdown",
      "id": "68a657c7-b296-44db-ad29-5d3a96dab9dc",
      "metadata": {
        "id": "68a657c7-b296-44db-ad29-5d3a96dab9dc"
      },
      "source": [
        "**Ans.** python contains both objects and i.e mutable and immutable. following are some comparasions between those objects."
      ]
    },
    {
      "cell_type": "markdown",
      "id": "c661403b-e184-4e93-b0f3-6523a88d2f3c",
      "metadata": {
        "id": "c661403b-e184-4e93-b0f3-6523a88d2f3c"
      },
      "source": [
        "***Mutable objects :***"
      ]
    },
    {
      "cell_type": "markdown",
      "id": "8626db9a-8351-4a24-b887-6355724455b4",
      "metadata": {
        "id": "8626db9a-8351-4a24-b887-6355724455b4"
      },
      "source": [
        "-Anything that can be modified or changed is called as mutable. <br>-Lists, Dictonaries,sets etc. are some mutable datatypes in python.<br> -It can be modified in place that means it doesnot creat a new file on modifing."
      ]
    },
    {
      "cell_type": "markdown",
      "id": "81849ac5-8ccb-4741-ac73-8225efbe0608",
      "metadata": {
        "id": "81849ac5-8ccb-4741-ac73-8225efbe0608"
      },
      "source": [
        "***Immutable objects :***"
      ]
    },
    {
      "cell_type": "markdown",
      "id": "eb4897f8-f797-4794-82e4-126788f2fd29",
      "metadata": {
        "id": "eb4897f8-f797-4794-82e4-126788f2fd29"
      },
      "source": [
        "-Anything that can not be modified or changed is called as immutable.<br>-python has following immutable datatypes : Numbers(int,float,booleans),tuples,strings ,etc.<br>-It creats new file when modified or changed."
      ]
    },
    {
      "cell_type": "markdown",
      "id": "229356e1-1ba0-4e4a-b1df-3b972b6860cf",
      "metadata": {
        "tags": [],
        "id": "229356e1-1ba0-4e4a-b1df-3b972b6860cf"
      },
      "source": [
        "#### 4.Discuss the different types of operators in python and provide examples of how they are used."
      ]
    },
    {
      "cell_type": "markdown",
      "id": "289f31f4-3966-4cf2-b7ff-c6bd1a51f2de",
      "metadata": {
        "id": "289f31f4-3966-4cf2-b7ff-c6bd1a51f2de"
      },
      "source": [
        "**Ans.** Operators -Operators are the symbols or tokens which are used to perform specific task or operation.<br>-There are different types of operators in python which are as follows---"
      ]
    },
    {
      "cell_type": "markdown",
      "id": "7202b599-c922-464e-b7a1-bd36f0a31188",
      "metadata": {
        "id": "7202b599-c922-464e-b7a1-bd36f0a31188"
      },
      "source": [
        "***1.Arithmetic operators :***"
      ]
    },
    {
      "cell_type": "markdown",
      "id": "33d559aa-2a47-4afb-b931-c7342cf96c65",
      "metadata": {
        "id": "33d559aa-2a47-4afb-b931-c7342cf96c65"
      },
      "source": [
        "1.Addition(+).<br>2.Subtraction(-).<br>3.Multiplication(*). <br> 4.Division(/).<br>5.Modulus(%).<br>6.Exponential(**)."
      ]
    },
    {
      "cell_type": "markdown",
      "id": "f11cc274-96fa-4010-aaa4-6ef4d74d6a29",
      "metadata": {
        "id": "f11cc274-96fa-4010-aaa4-6ef4d74d6a29"
      },
      "source": [
        "***2.Comparison operators :***"
      ]
    },
    {
      "cell_type": "markdown",
      "id": "effcc7a0-863b-49cd-916e-06d043319f42",
      "metadata": {
        "id": "effcc7a0-863b-49cd-916e-06d043319f42"
      },
      "source": [
        "1.Equal(==).<br>2.Not equal(!=).<br>3.Greater than(>).<br>4.Less than(<).<br>5.Greater than or equal(>=).<br>6.Less than or equal to(<=)."
      ]
    },
    {
      "cell_type": "markdown",
      "id": "20826033-9b53-4c5e-aa7d-208d0b4253a2",
      "metadata": {
        "id": "20826033-9b53-4c5e-aa7d-208d0b4253a2"
      },
      "source": [
        "***3.Logical operators :***"
      ]
    },
    {
      "cell_type": "markdown",
      "id": "fcfaa7f4-b788-44b6-8765-fdde43097994",
      "metadata": {
        "id": "fcfaa7f4-b788-44b6-8765-fdde43097994"
      },
      "source": [
        "1.AND (and).<br>2.OR (or).<br>3.NOT (not)."
      ]
    },
    {
      "cell_type": "markdown",
      "id": "4ca9e2c2-f1aa-43ad-9436-a65a9b5b893a",
      "metadata": {
        "id": "4ca9e2c2-f1aa-43ad-9436-a65a9b5b893a"
      },
      "source": [
        "***4.Assignment operators :***"
      ]
    },
    {
      "cell_type": "markdown",
      "id": "6a704a2d-99f6-4995-a880-b12a4f4aa8ff",
      "metadata": {
        "id": "6a704a2d-99f6-4995-a880-b12a4f4aa8ff"
      },
      "source": [
        "1.Assign (==).<br>2.Add and asign (+=).<br>3.Subtract and asign (-=).<br>4.Multiply and asign (*=).<br>5.Divide and asign (/=)."
      ]
    },
    {
      "cell_type": "markdown",
      "id": "ab982f0c-4fa9-4c6c-afbb-7457af07c5ce",
      "metadata": {
        "id": "ab982f0c-4fa9-4c6c-afbb-7457af07c5ce"
      },
      "source": [
        "***5.Membership operators :***"
      ]
    },
    {
      "cell_type": "markdown",
      "id": "d4e69978-a18c-42fa-aed3-24e1b41a7ef9",
      "metadata": {
        "id": "d4e69978-a18c-42fa-aed3-24e1b41a7ef9"
      },
      "source": [
        "1.IN (in).<br>2.NOT IN (not in)."
      ]
    },
    {
      "cell_type": "markdown",
      "id": "5f07dcfa-fbc8-44ee-867d-bfebe0a05dea",
      "metadata": {
        "id": "5f07dcfa-fbc8-44ee-867d-bfebe0a05dea"
      },
      "source": [
        "***6.Identity operators :***"
      ]
    },
    {
      "cell_type": "markdown",
      "id": "b39bd3e4-e1b9-4e6d-8d82-77adee85dd2b",
      "metadata": {
        "id": "b39bd3e4-e1b9-4e6d-8d82-77adee85dd2b"
      },
      "source": [
        "1.IS (is).<br>2.IS NOT (is not)"
      ]
    },
    {
      "cell_type": "markdown",
      "id": "d23d131f-9628-4d04-a761-a5b96265e224",
      "metadata": {
        "tags": [],
        "id": "d23d131f-9628-4d04-a761-a5b96265e224"
      },
      "source": [
        "#### 5.Explain the concept of type casting in python with examples."
      ]
    },
    {
      "cell_type": "markdown",
      "id": "580daa78-5c50-485d-80ef-aeab0b053515",
      "metadata": {
        "id": "580daa78-5c50-485d-80ef-aeab0b053515"
      },
      "source": [
        "**Ans.** Type casting is nothing but process of converting the values of one datatype to another datatype ,This is also know as conversion.<br>There are two types of data casting--"
      ]
    },
    {
      "cell_type": "markdown",
      "id": "c1f08b9b-bc06-46c5-9b7d-4c68a5b64106",
      "metadata": {
        "id": "c1f08b9b-bc06-46c5-9b7d-4c68a5b64106"
      },
      "source": [
        "***1.Implicit type casting :***"
      ]
    },
    {
      "cell_type": "markdown",
      "id": "a31ec0c7-7d76-4102-a526-9ac93d9c3b04",
      "metadata": {
        "id": "a31ec0c7-7d76-4102-a526-9ac93d9c3b04"
      },
      "source": [
        "Python automatically converts a value from one datatype to another without explicit casting.<br>For example --"
      ]
    },
    {
      "cell_type": "code",
      "execution_count": null,
      "id": "f921f2b4-bbf1-4446-b002-528d018a6348",
      "metadata": {
        "id": "f921f2b4-bbf1-4446-b002-528d018a6348"
      },
      "outputs": [],
      "source": [
        "x = 5\n",
        "y = 2.5\n",
        "result = x+y\n",
        "print (result)"
      ]
    },
    {
      "cell_type": "markdown",
      "id": "2e0f892c-fe21-4157-94c6-008a62f66978",
      "metadata": {
        "id": "2e0f892c-fe21-4157-94c6-008a62f66978"
      },
      "source": [
        "7.5"
      ]
    },
    {
      "cell_type": "markdown",
      "id": "42b8c13b-b7ce-4abe-b273-12e952a7523c",
      "metadata": {
        "id": "42b8c13b-b7ce-4abe-b273-12e952a7523c"
      },
      "source": [
        "***2.Explicit type casting :***"
      ]
    },
    {
      "cell_type": "markdown",
      "id": "a3667dc0-95dc-4065-b97c-5a9366d4f661",
      "metadata": {
        "id": "a3667dc0-95dc-4065-b97c-5a9366d4f661"
      },
      "source": [
        "Here, In this type casting we use in build functons to convert a value from one datatype to another.<br>For Example--"
      ]
    },
    {
      "cell_type": "code",
      "execution_count": null,
      "id": "e3e95b52-92c5-4fba-95b2-18ed6d4a1825",
      "metadata": {
        "id": "e3e95b52-92c5-4fba-95b2-18ed6d4a1825"
      },
      "outputs": [],
      "source": [
        "x = \"5\"\n",
        "y = int(x)\n",
        "print(y)"
      ]
    },
    {
      "cell_type": "markdown",
      "id": "dbbc4a1b-6824-4f35-9965-47d94e370a7d",
      "metadata": {
        "id": "dbbc4a1b-6824-4f35-9965-47d94e370a7d"
      },
      "source": [
        "5"
      ]
    },
    {
      "cell_type": "markdown",
      "id": "cd9779b1-20d5-41d6-bc00-39cc997f7246",
      "metadata": {
        "tags": [],
        "id": "cd9779b1-20d5-41d6-bc00-39cc997f7246"
      },
      "source": [
        "#### 6.How do conditional satements work in python? Illustrate with example."
      ]
    },
    {
      "cell_type": "markdown",
      "id": "25979bf7-3fdf-4c78-8e71-7a254445c40f",
      "metadata": {
        "id": "25979bf7-3fdf-4c78-8e71-7a254445c40f"
      },
      "source": [
        "**Ans.** Conditional statements in python are used to execute different blocks of code based on specific condition.These statements are also known as decision making statements."
      ]
    },
    {
      "cell_type": "markdown",
      "id": "812e594f-bcbf-4653-9ec3-e618c1b1293f",
      "metadata": {
        "id": "812e594f-bcbf-4653-9ec3-e618c1b1293f"
      },
      "source": [
        "***Syntax :***"
      ]
    },
    {
      "cell_type": "markdown",
      "id": "f191ae8f-6685-45fc-898b-73b20a0f3e2e",
      "metadata": {
        "id": "f191ae8f-6685-45fc-898b-73b20a0f3e2e"
      },
      "source": [
        "**1.if statement :** Used to execute a block of code if a condition is true.<br> <br> if condition: ---#code executes"
      ]
    },
    {
      "cell_type": "markdown",
      "id": "539fd3f1-c221-4ac6-b8ad-e5d4fc16c738",
      "metadata": {
        "id": "539fd3f1-c221-4ac6-b8ad-e5d4fc16c738"
      },
      "source": [
        "**2.if-else statements :** Used to execute a block of code if a condition is true, and another block if its false.<bk>  <bk>"
      ]
    },
    {
      "cell_type": "markdown",
      "id": "b27d85cf-1d29-4da0-b5db-a089c47e9e74",
      "metadata": {
        "id": "b27d85cf-1d29-4da0-b5db-a089c47e9e74"
      },
      "source": [
        "if condition: ---#code executes if true <br>else:-----#code to execute if false"
      ]
    },
    {
      "cell_type": "markdown",
      "id": "1496324a-7cb7-4dce-a60d-8e4eb5e57985",
      "metadata": {
        "id": "1496324a-7cb7-4dce-a60d-8e4eb5e57985"
      },
      "source": [
        "**3.if-elif-else statement :** Used to execute different blocks of code based on multiple conditions."
      ]
    },
    {
      "cell_type": "markdown",
      "id": "670a139d-969b-4f78-8afe-892cddabb72b",
      "metadata": {
        "id": "670a139d-969b-4f78-8afe-892cddabb72b"
      },
      "source": [
        "if condition1:----#code to execute if condition1 is true.<br>elif condition2:----#code to execute if condition 2 is true. <br> else:-----#code to execute if both conditions are false."
      ]
    },
    {
      "cell_type": "markdown",
      "id": "271e2a5d-56c2-4961-919e-4a1712f273fd",
      "metadata": {
        "tags": [],
        "id": "271e2a5d-56c2-4961-919e-4a1712f273fd"
      },
      "source": [
        "#### 7.Describe the different types of loops in python and their use cases with examples."
      ]
    },
    {
      "cell_type": "markdown",
      "id": "67f786b6-0d8e-4efa-a575-3099b9fc0130",
      "metadata": {
        "id": "67f786b6-0d8e-4efa-a575-3099b9fc0130"
      },
      "source": [
        "**Ans.** Loops--loops are nothing but the programming costruct which allows to execute the blocks of code repeatedly until the condition is met.<br> There are two types of Loops--"
      ]
    },
    {
      "cell_type": "markdown",
      "id": "0e122bca-d2bf-4b00-9c86-2a6e27ae56cd",
      "metadata": {
        "id": "0e122bca-d2bf-4b00-9c86-2a6e27ae56cd"
      },
      "source": [
        "***1.For Loop***"
      ]
    },
    {
      "cell_type": "markdown",
      "id": "9bb4c2af-1267-41c9-9aee-9e3bdf29ab09",
      "metadata": {
        "id": "9bb4c2af-1267-41c9-9aee-9e3bdf29ab09"
      },
      "source": [
        "For loop is used to iterate over a sequence.such as a list,tuple,or string etc."
      ]
    },
    {
      "cell_type": "markdown",
      "id": "9fb48942-396b-4791-8f5f-5f209b76bfaa",
      "metadata": {
        "id": "9fb48942-396b-4791-8f5f-5f209b76bfaa"
      },
      "source": [
        "**Syntax**"
      ]
    },
    {
      "cell_type": "markdown",
      "id": "80137c1e-d781-4f3d-b0a0-6c2fefe4dc9f",
      "metadata": {
        "id": "80137c1e-d781-4f3d-b0a0-6c2fefe4dc9f"
      },
      "source": [
        "for cariable in sequence:-----#code to execute.<br><br>**Example-**"
      ]
    },
    {
      "cell_type": "code",
      "execution_count": null,
      "id": "122fa6e9-6af1-4672-979e-7a0572f25751",
      "metadata": {
        "id": "122fa6e9-6af1-4672-979e-7a0572f25751"
      },
      "outputs": [],
      "source": [
        "fruits = [\"Apple\",\"banana\",\"cherry\"]\n",
        "for fruit in fruits:\n",
        "print(fruit)"
      ]
    },
    {
      "cell_type": "markdown",
      "id": "a46d004d-632a-4086-9918-fec4cbccc35f",
      "metadata": {
        "id": "a46d004d-632a-4086-9918-fec4cbccc35f"
      },
      "source": [
        "Apple<br>banana<br>cherry"
      ]
    },
    {
      "cell_type": "markdown",
      "id": "c14f1d24-8ced-400d-a6f9-e408692e21a3",
      "metadata": {
        "id": "c14f1d24-8ced-400d-a6f9-e408692e21a3"
      },
      "source": [
        "***2.While Loop***"
      ]
    },
    {
      "cell_type": "markdown",
      "id": "6b0119d0-8ed9-4ec7-b639-5f69948a0211",
      "metadata": {
        "id": "6b0119d0-8ed9-4ec7-b639-5f69948a0211"
      },
      "source": [
        "While loop is used to execute a block of code as long as a certain condition is true.<br><br>**Syntax-**"
      ]
    },
    {
      "cell_type": "markdown",
      "id": "a91fdf16-3872-4478-90b0-63dcac8c506e",
      "metadata": {
        "id": "a91fdf16-3872-4478-90b0-63dcac8c506e"
      },
      "source": [
        "while condition:----#code to execute<br><br>"
      ]
    },
    {
      "cell_type": "markdown",
      "id": "b28d7b0e-354e-425c-b839-9f7a982000eb",
      "metadata": {
        "id": "b28d7b0e-354e-425c-b839-9f7a982000eb"
      },
      "source": [
        "**Example-**"
      ]
    },
    {
      "cell_type": "code",
      "execution_count": null,
      "id": "083b47a3-47b6-460a-bd16-9ed802f4139a",
      "metadata": {
        "id": "083b47a3-47b6-460a-bd16-9ed802f4139a"
      },
      "outputs": [],
      "source": [
        "i = 0\n",
        "while i < 5:\n",
        "    print(i)\n",
        "    i += 1"
      ]
    },
    {
      "cell_type": "markdown",
      "id": "7a3e7b13-9155-4974-8125-e47f7a09fb64",
      "metadata": {
        "id": "7a3e7b13-9155-4974-8125-e47f7a09fb64"
      },
      "source": [
        "0<br>1<br>2<br>3<br>4"
      ]
    },
    {
      "cell_type": "markdown",
      "id": "59180205-465a-4802-86b4-a708b20a32b1",
      "metadata": {
        "id": "59180205-465a-4802-86b4-a708b20a32b1"
      },
      "source": []
    }
  ],
  "metadata": {
    "kernelspec": {
      "display_name": "Python 3 (ipykernel)",
      "language": "python",
      "name": "python3"
    },
    "language_info": {
      "codemirror_mode": {
        "name": "ipython",
        "version": 3
      },
      "file_extension": ".py",
      "mimetype": "text/x-python",
      "name": "python",
      "nbconvert_exporter": "python",
      "pygments_lexer": "ipython3",
      "version": "3.10.8"
    },
    "colab": {
      "provenance": [],
      "include_colab_link": true
    }
  },
  "nbformat": 4,
  "nbformat_minor": 5
}