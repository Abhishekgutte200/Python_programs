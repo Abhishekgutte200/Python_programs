{
  "nbformat": 4,
  "nbformat_minor": 0,
  "metadata": {
    "colab": {
      "provenance": [],
      "authorship_tag": "ABX9TyNge7+xC6h31oIsuVKj6k1a",
      "include_colab_link": true
    },
    "kernelspec": {
      "name": "python3",
      "display_name": "Python 3"
    },
    "language_info": {
      "name": "python"
    }
  },
  "cells": [
    {
      "cell_type": "markdown",
      "metadata": {
        "id": "view-in-github",
        "colab_type": "text"
      },
      "source": [
        "<a href=\"https://colab.research.google.com/github/Abhishekgutte200/Python_programs/blob/main/Data_Toolkit_practice_questions.ipynb\" target=\"_parent\"><img src=\"https://colab.research.google.com/assets/colab-badge.svg\" alt=\"Open In Colab\"/></a>"
      ]
    },
    {
      "cell_type": "markdown",
      "source": [
        "# 1. Demonstrate three different methods for creating identical 2D arrays in NumPy. Provide the code for each method and the final output after each method."
      ],
      "metadata": {
        "id": "mwSxyrq47UtI"
      }
    },
    {
      "cell_type": "markdown",
      "source": [
        "following are three methods for creating identical 2D arrrys in Numpy, along with the code and output for each:\n",
        "\n",
        "**Method 1 : Using `np.full()`**"
      ],
      "metadata": {
        "id": "vR3QkkCP9xv7"
      }
    },
    {
      "source": [
        "import numpy as np\n",
        "\n",
        "arr1 = np.full((2, 3), 7)\n",
        "print(arr1)"
      ],
      "cell_type": "code",
      "metadata": {
        "colab": {
          "base_uri": "https://localhost:8080/"
        },
        "id": "y3z0mgtd-owj",
        "outputId": "144d1a92-043b-463c-cdfb-bbb3134f8b05"
      },
      "execution_count": null,
      "outputs": [
        {
          "output_type": "stream",
          "name": "stdout",
          "text": [
            "[[7 7 7]\n",
            " [7 7 7]]\n"
          ]
        }
      ]
    },
    {
      "cell_type": "markdown",
      "source": [
        "**Method 2 : Using `np.ones()` and multiplication**"
      ],
      "metadata": {
        "id": "nAETRZ49P5dF"
      }
    },
    {
      "source": [
        "import numpy as np\n",
        "\n",
        "arr2 = np.ones((2, 3)) * 7\n",
        "print(arr2)"
      ],
      "cell_type": "code",
      "metadata": {
        "colab": {
          "base_uri": "https://localhost:8080/"
        },
        "id": "VCjBOy9OQbQ0",
        "outputId": "9e696692-6560-469e-835f-b4d582b5bc78"
      },
      "execution_count": null,
      "outputs": [
        {
          "output_type": "stream",
          "name": "stdout",
          "text": [
            "[[7. 7. 7.]\n",
            " [7. 7. 7.]]\n"
          ]
        }
      ]
    },
    {
      "cell_type": "markdown",
      "source": [
        "**Method 3 : Using `np.array()` and nested lists**"
      ],
      "metadata": {
        "id": "OFCBbPa8Qe60"
      }
    },
    {
      "source": [
        "import numpy as np\n",
        "\n",
        "arr3 = np.array([[7, 7, 7], [7, 7, 7]])\n",
        "print(arr3)"
      ],
      "cell_type": "code",
      "metadata": {
        "colab": {
          "base_uri": "https://localhost:8080/"
        },
        "id": "BmE8IXuUQ29t",
        "outputId": "7911a80c-88b5-4eea-a923-4d055f02f952"
      },
      "execution_count": null,
      "outputs": [
        {
          "output_type": "stream",
          "name": "stdout",
          "text": [
            "[[7 7 7]\n",
            " [7 7 7]]\n"
          ]
        }
      ]
    },
    {
      "cell_type": "markdown",
      "source": [
        "# 2.Using the Numpy function, generate an array of 100 evenly spaced numbers between 1 and 10 and Reshape that 1D array into a 2D array."
      ],
      "metadata": {
        "id": "eIQiceFrRvYN"
      }
    },
    {
      "cell_type": "markdown",
      "source": [
        "Here, is the following steps to generate an array of 100 evenly spaced numbers between 1 and 10 and reshape it into a 2D array using Numpy:\n",
        "\n",
        "**Step 1 : Generate the 1D array**"
      ],
      "metadata": {
        "id": "OPyuWx5GVYmD"
      }
    },
    {
      "cell_type": "markdown",
      "source": [],
      "metadata": {
        "id": "zifFlREuQ4I2"
      }
    },
    {
      "source": [
        "import numpy as np\n",
        "\n",
        "arr_1d = np.linspace(1, 10, 100)\n",
        "arr_1d"
      ],
      "cell_type": "code",
      "metadata": {
        "colab": {
          "base_uri": "https://localhost:8080/"
        },
        "id": "YfEq9kaRV-Ic",
        "outputId": "ef27ff8c-cabd-49ba-c8ba-bdba7bf89298"
      },
      "execution_count": null,
      "outputs": [
        {
          "output_type": "execute_result",
          "data": {
            "text/plain": [
              "array([ 1.        ,  1.09090909,  1.18181818,  1.27272727,  1.36363636,\n",
              "        1.45454545,  1.54545455,  1.63636364,  1.72727273,  1.81818182,\n",
              "        1.90909091,  2.        ,  2.09090909,  2.18181818,  2.27272727,\n",
              "        2.36363636,  2.45454545,  2.54545455,  2.63636364,  2.72727273,\n",
              "        2.81818182,  2.90909091,  3.        ,  3.09090909,  3.18181818,\n",
              "        3.27272727,  3.36363636,  3.45454545,  3.54545455,  3.63636364,\n",
              "        3.72727273,  3.81818182,  3.90909091,  4.        ,  4.09090909,\n",
              "        4.18181818,  4.27272727,  4.36363636,  4.45454545,  4.54545455,\n",
              "        4.63636364,  4.72727273,  4.81818182,  4.90909091,  5.        ,\n",
              "        5.09090909,  5.18181818,  5.27272727,  5.36363636,  5.45454545,\n",
              "        5.54545455,  5.63636364,  5.72727273,  5.81818182,  5.90909091,\n",
              "        6.        ,  6.09090909,  6.18181818,  6.27272727,  6.36363636,\n",
              "        6.45454545,  6.54545455,  6.63636364,  6.72727273,  6.81818182,\n",
              "        6.90909091,  7.        ,  7.09090909,  7.18181818,  7.27272727,\n",
              "        7.36363636,  7.45454545,  7.54545455,  7.63636364,  7.72727273,\n",
              "        7.81818182,  7.90909091,  8.        ,  8.09090909,  8.18181818,\n",
              "        8.27272727,  8.36363636,  8.45454545,  8.54545455,  8.63636364,\n",
              "        8.72727273,  8.81818182,  8.90909091,  9.        ,  9.09090909,\n",
              "        9.18181818,  9.27272727,  9.36363636,  9.45454545,  9.54545455,\n",
              "        9.63636364,  9.72727273,  9.81818182,  9.90909091, 10.        ])"
            ]
          },
          "metadata": {},
          "execution_count": 4
        }
      ]
    },
    {
      "cell_type": "markdown",
      "source": [
        "**Step 2 : Reshape the array**"
      ],
      "metadata": {
        "id": "vOrK0v0pW2aj"
      }
    },
    {
      "cell_type": "code",
      "source": [],
      "metadata": {
        "id": "GgKpwx0BWEbd"
      },
      "execution_count": null,
      "outputs": []
    },
    {
      "source": [
        "arr_2d = arr_1d.reshape(10, 10)\n",
        "arr_2d"
      ],
      "cell_type": "code",
      "metadata": {
        "colab": {
          "base_uri": "https://localhost:8080/"
        },
        "id": "GICbViaZXHwc",
        "outputId": "0e837dc9-76cf-45d5-c980-efdcf94ebba6"
      },
      "execution_count": null,
      "outputs": [
        {
          "output_type": "execute_result",
          "data": {
            "text/plain": [
              "array([[ 1.        ,  1.09090909,  1.18181818,  1.27272727,  1.36363636,\n",
              "         1.45454545,  1.54545455,  1.63636364,  1.72727273,  1.81818182],\n",
              "       [ 1.90909091,  2.        ,  2.09090909,  2.18181818,  2.27272727,\n",
              "         2.36363636,  2.45454545,  2.54545455,  2.63636364,  2.72727273],\n",
              "       [ 2.81818182,  2.90909091,  3.        ,  3.09090909,  3.18181818,\n",
              "         3.27272727,  3.36363636,  3.45454545,  3.54545455,  3.63636364],\n",
              "       [ 3.72727273,  3.81818182,  3.90909091,  4.        ,  4.09090909,\n",
              "         4.18181818,  4.27272727,  4.36363636,  4.45454545,  4.54545455],\n",
              "       [ 4.63636364,  4.72727273,  4.81818182,  4.90909091,  5.        ,\n",
              "         5.09090909,  5.18181818,  5.27272727,  5.36363636,  5.45454545],\n",
              "       [ 5.54545455,  5.63636364,  5.72727273,  5.81818182,  5.90909091,\n",
              "         6.        ,  6.09090909,  6.18181818,  6.27272727,  6.36363636],\n",
              "       [ 6.45454545,  6.54545455,  6.63636364,  6.72727273,  6.81818182,\n",
              "         6.90909091,  7.        ,  7.09090909,  7.18181818,  7.27272727],\n",
              "       [ 7.36363636,  7.45454545,  7.54545455,  7.63636364,  7.72727273,\n",
              "         7.81818182,  7.90909091,  8.        ,  8.09090909,  8.18181818],\n",
              "       [ 8.27272727,  8.36363636,  8.45454545,  8.54545455,  8.63636364,\n",
              "         8.72727273,  8.81818182,  8.90909091,  9.        ,  9.09090909],\n",
              "       [ 9.18181818,  9.27272727,  9.36363636,  9.45454545,  9.54545455,\n",
              "         9.63636364,  9.72727273,  9.81818182,  9.90909091, 10.        ]])"
            ]
          },
          "metadata": {},
          "execution_count": 5
        }
      ]
    },
    {
      "cell_type": "markdown",
      "source": [
        "This line reshapes the `arr_1d` array into a 2D array with dimensions 10x10 . The `reshape()` mentod is called on the 1D array an d is passed the desired dimensions as arguments."
      ],
      "metadata": {
        "id": "aFqjc2OEXdVA"
      }
    },
    {
      "cell_type": "markdown",
      "source": [
        "# 3.Explain the following terms:\n",
        "\n",
        "1.   The difference in np.array, np.asarray and np.asanyarray.\n",
        "2.   The difference between Deep copy and shallow copy.\n",
        "\n"
      ],
      "metadata": {
        "id": "7EGvWS3dX6cL"
      }
    },
    {
      "cell_type": "markdown",
      "source": [
        "1. **Difference between np.array, np.asarray, and np.asanyarray**\n",
        "\n",
        "**np.array():**This function creates a new NumPy array from any array-like object. It always copies the input data, even if the input is already a NumPy array.\n",
        "\n",
        "**np.asarray():** This function converts an input to a NumPy array. It only creates a copy of the input data if necessary (e.g., if the input is not already a NumPy array or if the data type needs to be changed). If the input is already a NumPy array with the correct data type, np.asarray() will return a view of the original array, avoiding unnecessary copying. This can be more memory-efficient.\n",
        "\n",
        "**np.asanyarray():** This function is similar to np.asarray(), but it is more flexible and can handle subclasses of NumPy arrays, such as masked arrays. It will convert the input to a NumPy array or a subclass of NumPy array, depending on the input type. It avoids copying if possible, similar to np.asarray().\n",
        "\n",
        "**In summary:**\n",
        "\n",
        "* `np.array()` always creates a copy.\n",
        "\n",
        "* `np.asarray()` creates a copy only if necessary, otherwise returns a view.\n",
        "\n",
        "* `np.asanyarray()` is similar to `np.asarray()` but handles subclasses of NumPy arrays."
      ],
      "metadata": {
        "id": "AKGyviN5Zo9s"
      }
    },
    {
      "cell_type": "markdown",
      "source": [
        "**2.Difference between Deep copy and Shallow copy**\n",
        "* **Shallow copy :** A shallow copy creates a new object , but it does not create copies of the objects within the original object.Instead, it references the same objects as the original. This means that if you modify an object within the shallow copy, it will also be modified in the original object, and vice versa.\n",
        "* **Deep copy :** A deep copy creates a new object and recursively copies all the objects within the original object. This means that the new object and the original object are completely independent of each other.Modifications to one object will not affect the other.\n"
      ],
      "metadata": {
        "id": "FVOo-bqJbErz"
      }
    },
    {
      "cell_type": "markdown",
      "source": [
        "# 4.Generate a 3x3 array with random floating-point numbers between 5 and 20. Then, round each number the array to 2 decimal places."
      ],
      "metadata": {
        "id": "QXhC3tzJdQRL"
      }
    },
    {
      "cell_type": "markdown",
      "source": [
        "In following way we can generate a 3x3 array with random floating-point numbers between 5 and 20 and round each number to 2 decimal places:"
      ],
      "metadata": {
        "id": "fT7Orrf2mS7t"
      }
    },
    {
      "source": [
        "import numpy as np\n",
        "\n",
        "random_array = np.random.uniform(5, 20, size=(3, 3))\n",
        "\n",
        "rounded_array = np.round(random_array, 2)\n",
        "\n",
        "print(rounded_array)"
      ],
      "cell_type": "code",
      "metadata": {
        "colab": {
          "base_uri": "https://localhost:8080/"
        },
        "id": "476YP1FtmkbN",
        "outputId": "be6c6473-5aef-495b-d9fe-f339a710f163"
      },
      "execution_count": 1,
      "outputs": [
        {
          "output_type": "stream",
          "name": "stdout",
          "text": [
            "[[12.58 18.16 11.65]\n",
            " [18.62 17.18 10.58]\n",
            " [16.76  7.9   5.44]]\n"
          ]
        }
      ]
    },
    {
      "cell_type": "markdown",
      "source": [
        "**Reasoning :**\n",
        "\n",
        "1. **Import numpy:**We begin by importing the `numpy` library as `np`for numerical operations.\n",
        "2. **Generaterandom array :**\n",
        "`np.random.uniform(5,20,sixe=(3,3))` is used to generate a 3x3 array with random numbers uniformly distibuted between 5(inclusive) and 20(exclusive).\n",
        "3. **Round to 2 decimal places:**\n",
        "`np.round(random-array, 2)` to 2 decimal places.\n",
        "4. **Print :** The`print()`function displays the final`rounded_array`.\n"
      ],
      "metadata": {
        "id": "1Rlo_W6emsrt"
      }
    },
    {
      "cell_type": "markdown",
      "source": [
        "# 5.Create a Numpy array with random integers between 1 and 10 of shape(5,6). After creation the array perform the following operations:\n",
        "\n",
        "a)Extract all even integers from array.\n",
        "\n",
        "b)Extract all odd integers from array."
      ],
      "metadata": {
        "id": "8xl3lV46qBgu"
      }
    },
    {
      "cell_type": "markdown",
      "source": [
        "Here's the code to create a NumPy array with random integers, and then extract even and odd numbers:"
      ],
      "metadata": {
        "id": "2q5zeVJuskM_"
      }
    },
    {
      "source": [
        "import numpy as np\n",
        "\n",
        "random_array = np.random.randint(1, 11, size=(5, 6))\n",
        "\n",
        "even_integers = random_array[random_array % 2 == 0]\n",
        "\n",
        "odd_integers = random_array[random_array % 2 != 0]\n",
        "\n",
        "print(\"Original Array:\")\n",
        "print(random_array)\n",
        "print(\"\\nEven Integers:\")\n",
        "print(even_integers)\n",
        "print(\"\\nOdd Integers:\")\n",
        "print(odd_integers)"
      ],
      "cell_type": "code",
      "metadata": {
        "colab": {
          "base_uri": "https://localhost:8080/"
        },
        "id": "1dDoU-7lsnkn",
        "outputId": "d1bc365c-5bf1-489d-e558-eb515efd5f17"
      },
      "execution_count": 2,
      "outputs": [
        {
          "output_type": "stream",
          "name": "stdout",
          "text": [
            "Original Array:\n",
            "[[ 7  1  5  4  9  2]\n",
            " [ 1  8  7  5  2  5]\n",
            " [ 3  5  2  9  6  5]\n",
            " [ 8 10  8  1  2  4]\n",
            " [ 6  5  4  8  6  1]]\n",
            "\n",
            "Even Integers:\n",
            "[ 4  2  8  2  2  6  8 10  8  2  4  6  4  8  6]\n",
            "\n",
            "Odd Integers:\n",
            "[7 1 5 9 1 7 5 5 3 5 9 5 1 5 1]\n"
          ]
        }
      ]
    },
    {
      "cell_type": "markdown",
      "source": [
        "**Reasoning:**\n",
        "\n",
        "1. **Import numpy:** Import the numpy library for array operations.\n",
        "\n",
        "2. **Create random array:** np.random.randint(1, 11, size=(5, 6)) creates a 5x6 array with random integers between 1 (inclusive) and 11 (exclusive).\n",
        "\n",
        "2. **Extract even integers:** random_array[random_array % 2 == 0] uses boolean indexing to select elements where the remainder when divided by 2 is 0 (even numbers).\n",
        "\n",
        "2. **Extract odd integers:** random_array[random_array % 2 != 0] uses boolean indexing to select elements where the remainder when divided by 2 is not 0 (odd numbers).\n",
        "\n",
        "2. **Print:** The code prints the original array, even integers, and odd integers.\n",
        "Sources"
      ],
      "metadata": {
        "id": "E_yw4DRMsu2W"
      }
    },
    {
      "cell_type": "markdown",
      "source": [
        "# 7.Clean and transform the 'Phone' column in the smaple dataset to remove non-numeric characters and convert it to a numeric data type. Also display the table attributes and data types of each column."
      ],
      "metadata": {
        "id": "IX4hhnUrtqc_"
      }
    },
    {
      "cell_type": "code",
      "source": [
        "import pandas as pd\n",
        "import numpy as np\n",
        "import re\n",
        "\n",
        "data = {\n",
        "    'Name': ['John', 'Mary', 'David'],\n",
        "    'Phone': ['(982) 321-6829', '123-456-7890', '9876543210'],\n",
        "    'Age': [25, 31, 42]\n",
        "}\n",
        "\n",
        "df = pd.DataFrame(data)\n",
        "\n",
        "print(\"Original DataFrame:\")\n",
        "print(df)\n",
        "print(\"\\nData Types:\")\n",
        "print(df.dtypes)\n",
        "\n",
        "df['Phone'] = df['Phone'].apply(lambda x: re.sub('[^0-9]', '', x))\n",
        "df['Phone'] = pd.to_numeric(df['Phone'])\n",
        "\n",
        "print(\"\\nCleaned DataFrame:\")\n",
        "print(df)\n",
        "print(\"\\nData Types:\")\n",
        "print(df.dtypes)"
      ],
      "metadata": {
        "id": "cYKivK0yXUbc",
        "colab": {
          "base_uri": "https://localhost:8080/"
        },
        "outputId": "e6b979a7-ea87-41f3-e18a-f1b20b85c9db"
      },
      "execution_count": 3,
      "outputs": [
        {
          "output_type": "stream",
          "name": "stdout",
          "text": [
            "Original DataFrame:\n",
            "    Name           Phone  Age\n",
            "0   John  (982) 321-6829   25\n",
            "1   Mary    123-456-7890   31\n",
            "2  David      9876543210   42\n",
            "\n",
            "Data Types:\n",
            "Name     object\n",
            "Phone    object\n",
            "Age       int64\n",
            "dtype: object\n",
            "\n",
            "Cleaned DataFrame:\n",
            "    Name       Phone  Age\n",
            "0   John  9823216829   25\n",
            "1   Mary  1234567890   31\n",
            "2  David  9876543210   42\n",
            "\n",
            "Data Types:\n",
            "Name     object\n",
            "Phone     int64\n",
            "Age       int64\n",
            "dtype: object\n"
          ]
        }
      ]
    },
    {
      "cell_type": "markdown",
      "source": [
        "# 8.Perform the following tasks using people dataset:\n",
        "a)Read the 'data.csv' file using pandas,skipping the first 50 rows.\n",
        "\n",
        "b)Only read the columns:'Last Name', 'gender','Email','Phone' and 'Salary' from the file.\n",
        "\n",
        "c)Display the first 10 wors of the filtered dataset.\n",
        "\n",
        "d)Extract the 'Salary' column as a Series and display its last 5 values."
      ],
      "metadata": {
        "id": "QOF18J6fvTKv"
      }
    },
    {
      "source": [
        "import pandas as pd\n",
        "\n",
        "df = pd.read_csv('data.csv', skiprows=50)\n",
        "\n",
        "filtered_df = df[['Last Name', 'gender', 'Email', 'Phone', 'Salary']]\n",
        "\n",
        "print(\"First 10 rows of the filtered dataset:\")\n",
        "print(filtered_df.head(10))\n",
        "\n",
        "salary_series = filtered_df['Salary']\n",
        "print(\"\\nLast 5 values of the 'Salary' series:\")\n",
        "print(salary_series.tail(5))"
      ],
      "cell_type": "code",
      "metadata": {
        "id": "XgwdTECsyQRR"
      },
      "execution_count": null,
      "outputs": []
    },
    {
      "cell_type": "markdown",
      "source": [
        "**Reasoning:**\n",
        "\n",
        "1. **Import pandas:** Import the pandas library.\n",
        "\n",
        "1. **Read CSV with skiprows:** pd.read_csv('data.csv', skiprows=50) reads the CSV file, skipping the first 50 rows.\n",
        "\n",
        "1. **Select specific columns:**\n",
        "\n",
        " df[['Last Name', 'gender', 'Email', 'Phone', 'Salary']] creates a new DataFrame with only the desired columns.\n",
        "\n",
        "1. **Display first 10 rows:**\n",
        "filtered_df.head(10) displays the first 10 rows of the filtered DataFrame.\n",
        "\n",
        "1. **Extract 'Salary' series:** filtered_df['Salary'] extracts the 'Salary' column as a pandas Series.\n",
        "\n",
        "1. **Display last 5 values:** salary_series.tail(5) displays the last 5 values of the 'Salary' series.\n",
        "\n",
        "**Before running the code:**\n",
        "\n",
        "* Make sure you have the 'data.csv' file in the same directory as your notebook or provide the correct path to the file.\n",
        "\n",
        "* Install pandas: `!pip install pandas` if you haven't already."
      ],
      "metadata": {
        "id": "ZhOFYMKqzWhB"
      }
    },
    {
      "cell_type": "markdown",
      "source": [
        "# 9.Filter and select rows from the people_Dataset, where the 'Last Name' column contains the name 'Duke', 'Gender' column contains the word Female and 'Salary' should be less than 85000."
      ],
      "metadata": {
        "id": "OXR-7fGr0_rh"
      }
    },
    {
      "source": [
        "import pandas as pd\n",
        "\n",
        "# Assuming your people dataset is in a DataFrame called 'people_df'\n",
        "\n",
        "filtered_df = people_df[\n",
        "    (people_df['Last Name'].str.contains('Duke')) &\n",
        "    (people_df['Gender'].str.contains('Female')) &\n",
        "    (people_df['Salary'] < 85000)\n",
        "]\n",
        "\n",
        "print(filtered_df)"
      ],
      "cell_type": "code",
      "metadata": {
        "id": "I2Sz3zzs2EYd"
      },
      "execution_count": null,
      "outputs": []
    },
    {
      "cell_type": "markdown",
      "source": [
        "**Reasoning:**\n",
        "\n",
        "1. **Import pandas:** Import the pandas library.\n",
        "\n",
        "2. **Filtering:**\n",
        "\n",
        " * `people_df['Last Name'].str.contains('Duke')` selects rows where the 'Last Name' column contains 'Duke'.\n",
        "\n",
        " * `people_df['Gender'].str.contains('Female')` selects rows where the 'Gender' column contains 'Female'.\n",
        "\n",
        " * `people_df['Salary'] < 85000` selects rows where the 'Salary' is less than 85000.\n",
        "\n",
        " * The `&` operator combines these conditions to select rows that satisfy all three criteria.\n",
        "\n",
        "3. **Printing:** `print(filtered_df)` displays the filtered DataFrame.\n",
        "**Before running the code:**\n",
        "\n",
        "* Make sure you have the people dataset loaded into a DataFrame called `people_df`.\n",
        "\n",
        "* Replace `'Last Name'`, `'Gender'`, and `'Salary'` with the actual column names in your dataset if they are different."
      ],
      "metadata": {
        "id": "OSAz-X7U2Fft"
      }
    },
    {
      "cell_type": "markdown",
      "source": [],
      "metadata": {
        "id": "LuMhQpSU4OH5"
      }
    },
    {
      "cell_type": "markdown",
      "source": [
        "# 10.Create a 7*5 Dataframe in pandas using a series generated from 35 random integers between 1 to 6?"
      ],
      "metadata": {
        "id": "TjTguiR54RaS"
      }
    },
    {
      "source": [
        "import pandas as pd\n",
        "import numpy as np\n",
        "\n",
        "# Generate 35 random integers between 1 and 6\n",
        "random_numbers = np.random.randint(1, 7, size=35)\n",
        "\n",
        "# Create a pandas Series from the random numbers\n",
        "random_series = pd.Series(random_numbers)\n",
        "\n",
        "# Reshape the Series into a 7x5 DataFrame\n",
        "df = pd.DataFrame(random_series.values.reshape(7, 5))\n",
        "\n",
        "# Print the DataFrame\n",
        "print(df)"
      ],
      "cell_type": "code",
      "metadata": {
        "colab": {
          "base_uri": "https://localhost:8080/"
        },
        "id": "w_rSrzAa5kOb",
        "outputId": "5ffc13b2-0a97-4986-9367-96b2cc10c77c"
      },
      "execution_count": 12,
      "outputs": [
        {
          "output_type": "stream",
          "name": "stdout",
          "text": [
            "   0  1  2  3  4\n",
            "0  2  6  6  6  2\n",
            "1  4  6  2  3  3\n",
            "2  6  5  3  5  5\n",
            "3  5  1  6  2  6\n",
            "4  2  5  4  6  4\n",
            "5  2  1  1  6  3\n",
            "6  5  3  1  3  2\n"
          ]
        }
      ]
    },
    {
      "cell_type": "markdown",
      "source": [
        "# 11.Create two different Series, each of length 50,with the following criteria:\n",
        "a)The first Series should contain random numbers ranging from 10 to 50.\n",
        "\n",
        "b)The secod |Series should contain random numbers ranging from 100 to 1000.\n",
        "\n",
        "c)|Create a DataFrame by joining hese Series by column, and change the names of the columns to 'col1','col2',etc."
      ],
      "metadata": {
        "id": "JIsRkZCi5rCC"
      }
    },
    {
      "source": [
        "import pandas as pd\n",
        "import numpy as np\n",
        "\n",
        "# Create the first Series (col1)\n",
        "series1 = pd.Series(np.random.randint(10, 51, size=50))\n",
        "\n",
        "# Create the second Series (col2)\n",
        "series2 = pd.Series(np.random.randint(100, 1001, size=50))\n",
        "\n",
        "# Create a DataFrame by joining the Series\n",
        "df = pd.concat([series1, series2], axis=1)\n",
        "\n",
        "# Rename the columns\n",
        "df.columns = ['col1', 'col2']\n",
        "\n",
        "# Print the DataFrame\n",
        "print(df)"
      ],
      "cell_type": "code",
      "metadata": {
        "colab": {
          "base_uri": "https://localhost:8080/"
        },
        "id": "0gOv7Sy37CLT",
        "outputId": "8b72b004-8fdf-4532-ddf2-fff56904506d"
      },
      "execution_count": 13,
      "outputs": [
        {
          "output_type": "stream",
          "name": "stdout",
          "text": [
            "    col1  col2\n",
            "0     47   258\n",
            "1     33   987\n",
            "2     16   138\n",
            "3     13   692\n",
            "4     25   495\n",
            "5     13   589\n",
            "6     31   462\n",
            "7     38   996\n",
            "8     40   447\n",
            "9     15   674\n",
            "10    44   378\n",
            "11    40   269\n",
            "12    25   142\n",
            "13    31   363\n",
            "14    26   636\n",
            "15    10   363\n",
            "16    42   916\n",
            "17    34   701\n",
            "18    18   992\n",
            "19    18   207\n",
            "20    35   635\n",
            "21    44   420\n",
            "22    27   335\n",
            "23    11   593\n",
            "24    26   724\n",
            "25    23   573\n",
            "26    42   835\n",
            "27    50   477\n",
            "28    38   753\n",
            "29    31   657\n",
            "30    19   860\n",
            "31    19   102\n",
            "32    35   938\n",
            "33    35   266\n",
            "34    26   595\n",
            "35    16   151\n",
            "36    43   157\n",
            "37    48   212\n",
            "38    10   741\n",
            "39    36   985\n",
            "40    22   966\n",
            "41    16   823\n",
            "42    40   882\n",
            "43    30   269\n",
            "44    30   559\n",
            "45    32   282\n",
            "46    36   502\n",
            "47    20   154\n",
            "48    48   693\n",
            "49    11   313\n"
          ]
        }
      ]
    },
    {
      "cell_type": "markdown",
      "source": [
        "# 12.Perform the following operations using people data set:\n",
        "a)Delete the 'Email','Phone',and 'Date of birth' columns from the dataset.\n",
        "\n",
        "b)Delete the rows containing any missing values.\n",
        "\n",
        "c)Print the final output also."
      ],
      "metadata": {
        "id": "LFF3i_ct7Ivy"
      }
    },
    {
      "source": [
        "import pandas as pd\n",
        "\n",
        "# Assuming your people dataset is in a DataFrame called 'people_df'\n",
        "\n",
        "# a) Delete columns\n",
        "people_df = people_df.drop(['Email', 'Phone', 'Date of birth'], axis=1)\n",
        "\n",
        "# b) Delete rows with missing values\n",
        "people_df = people_df.dropna()\n",
        "\n",
        "# c) Print the final output\n",
        "print(people_df)"
      ],
      "cell_type": "code",
      "metadata": {
        "id": "LN_U0P897-_b"
      },
      "execution_count": null,
      "outputs": []
    },
    {
      "cell_type": "markdown",
      "source": [
        "\n",
        "# 13.Create two NumPy arrays,x and y, ech containing 100 random float values between 0 and 1.Perform the following tasks using Matplotlib and NumPy:\n",
        "a)Create a scatter plot using x and y , setting the color of he points to red and the maker style to'0'.\n",
        "\n",
        "b)Add a horizontal line at y = 0.5 using a dashed line style and label it as 'y = 0.5'.\n",
        "\n",
        "c)Add a verical line at x = 0.5 using a dotted line style and label it as 'x = 0.5'.\n",
        "\n",
        "d)Label the 'X-axis' and 'Y-axis'.\n",
        "\n",
        "e)Set the title of the plot as 'Adavanced Scatter Plot of Random Values'.\n",
        "\n",
        "f)Display a legend for the scatter plot, the horizontal line,and the vertical line."
      ],
      "metadata": {
        "id": "YW9-ULcI8wNk"
      }
    },
    {
      "source": [
        "import numpy as np\n",
        "import matplotlib.pyplot as plt\n",
        "\n",
        "# Create x and y arrays\n",
        "x = np.random.rand(100)\n",
        "y = np.random.rand(100)\n",
        "\n",
        "# Create scatter plot\n",
        "plt.scatter(x, y, color='red', marker='o', label='Random Data')\n",
        "\n",
        "# Add horizontal line\n",
        "plt.axhline(y=0.5, linestyle='--', color='blue', label='y = 0.5')\n",
        "\n",
        "# Add vertical line\n",
        "plt.axvline(x=0.5, linestyle=':', color='green', label='x = 0.5')\n",
        "\n",
        "# Set labels and title\n",
        "plt.xlabel('X-axis')\n",
        "plt.ylabel('Y-axis')\n",
        "plt.title('Advanced Scatter Plot of Random Values')\n",
        "\n",
        "# Display legend\n",
        "plt.legend()\n",
        "\n",
        "# Show the plot\n",
        "plt.show()"
      ],
      "cell_type": "code",
      "metadata": {
        "colab": {
          "base_uri": "https://localhost:8080/",
          "height": 472
        },
        "id": "wYgGs-Fn_emU",
        "outputId": "395b8039-3665-4216-cccf-67f7d619dcb9"
      },
      "execution_count": 18,
      "outputs": [
        {
          "output_type": "display_data",
          "data": {
            "text/plain": [
              "<Figure size 640x480 with 1 Axes>"
            ],
            "image/png": "[encoded data removed]"
          },
          "metadata": {}
        }
      ]
    },
    {
      "cell_type": "markdown",
      "source": [
        "# 14.Create a time-series dataset in a Pandas DataFrame with columns:'Date,'Temperature','Humidity'and prerform the following tasks using Matplotlib:\n",
        "a)Plot the 'Temperature' and 'Humidity' on the same plot with different y-axes (left y-axis for 'Temperature' and right y-axis for 'Humidity').\n",
        "\n",
        "b)Label the x-axis as 'Date'.\n",
        "\n",
        "c)Set the title of the plot as 'Temperature and Humidity Over Time'."
      ],
      "metadata": {
        "id": "oZtuW1Hk_oq0"
      }
    },
    {
      "source": [
        "import pandas as pd\n",
        "import numpy as np\n",
        "import matplotlib.pyplot as plt\n",
        "\n",
        "# Create sample time-series data\n",
        "dates = pd.date_range('2023-11-01', periods=30, freq='D')  # 30 days\n",
        "temperature = np.random.randint(20, 35, size=30)  # Random temperatures\n",
        "humidity = np.random.randint(60, 90, size=30)     # Random humidity\n",
        "\n",
        "# Create DataFrame\n",
        "df = pd.DataFrame({'Date': dates, 'Temperature': temperature, 'Humidity': humidity})\n",
        "\n",
        "# Plotting\n",
        "fig, ax1 = plt.subplots()\n",
        "\n",
        "# Plot Temperature on the left y-axis\n",
        "ax1.plot(df['Date'], df['Temperature'], color='red', label='Temperature')\n",
        "ax1.set_xlabel('Date')\n",
        "ax1.set_ylabel('Temperature (°C)', color='red')\n",
        "\n",
        "# Create a second y-axis for Humidity\n",
        "ax2 = ax1.twinx()\n",
        "ax2.plot(df['Date'], df['Humidity'], color='blue', label='Humidity')\n",
        "ax2.set_ylabel('Humidity (%)', color='blue')\n",
        "\n",
        "# Set title and legend\n",
        "plt.title('Temperature and Humidity Over Time')\n",
        "fig.legend(loc='upper center', bbox_to_anchor=(0.5, 1.05), ncol=2) # Adjust legend position\n",
        "\n",
        "# Show plot\n",
        "plt.show()"
      ],
      "cell_type": "code",
      "metadata": {
        "colab": {
          "base_uri": "https://localhost:8080/",
          "height": 524
        },
        "id": "V4RyLe8OBGft",
        "outputId": "d7014693-3315-4133-fd12-a67ca0e2fd07"
      },
      "execution_count": 19,
      "outputs": [
        {
          "output_type": "display_data",
          "data": {
            "text/plain": [
              "<Figure size 640x480 with 2 Axes>"
            ],
            "image/png": "[encoded data removed]"
          },
          "metadata": {}
        }
      ]
    },
    {
      "cell_type": "markdown",
      "source": [
        "# 15.Create a NumPy array data containing 1000 samples from a normal distribution.Perform the following tasks using Matplotlib:\n",
        "a)Plot a histogram of the  data with 30 bins.\n",
        "\n",
        "b)Overlay a line plot representing he normal distribution's probability density function (PDF).\n",
        "\n",
        "c)Label the X-axis as 'Value' and the Y-axis as 'Frequency/Probability'.\n"
      ],
      "metadata": {
        "id": "-1HnU_ZJBLIO"
      }
    },
    {
      "cell_type": "code",
      "source": [
        "import numpy as np\n",
        "import matplotlib.pyplot as plt\n",
        "import scipy.stats as stats\n",
        "\n",
        "# Generate data from a normal distribution\n",
        "data = np.random.normal(size=1000)\n",
        "\n",
        "# Plot histogram\n",
        "plt.hist(data, bins=30, density=True, alpha=0.6, label='Histogram')\n",
        "\n",
        "# Overlay PDF\n",
        "xmin, xmax = plt.xlim()\n",
        "x = np.linspace(xmin, xmax, 100)\n",
        "p = stats.norm.pdf(x, 0, 1)  # Mean=0, Std Dev=1\n",
        "plt.plot(x, p, 'k', linewidth=2, label='PDF')\n",
        "\n",
        "# Set labels and title\n",
        "plt.xlabel('Value')\n",
        "plt.ylabel('Frequency/Probability')\n",
        "plt.title('Histogram with PDF Overlay')  # Set the title\n",
        "\n",
        "# Display legend\n",
        "plt.legend()\n",
        "\n",
        "# Show plot\n",
        "plt.show()"
      ],
      "metadata": {
        "colab": {
          "base_uri": "https://localhost:8080/",
          "height": 472
        },
        "id": "xp3BP8QpDzzM",
        "outputId": "79a67145-e086-4e35-c737-e58785c4c7c2"
      },
      "execution_count": 25,
      "outputs": [
        {
          "output_type": "display_data",
          "data": {
            "text/plain": [
              "<Figure size 640x480 with 1 Axes>"
            ],
            "image/png": "[encoded data removed]"
          },
          "metadata": {}
        }
      ]
    },
    {
      "cell_type": "markdown",
      "source": [
        "# 16. Set the title of the plot as 'Histogram with PDF Overlay'."
      ],
      "metadata": {
        "id": "4k0Rz8l1CuAl"
      }
    },
    {
      "source": [
        "import numpy as np\n",
        "import matplotlib.pyplot as plt\n",
        "import scipy.stats as stats\n",
        "\n",
        "# Generate data from a normal distribution\n",
        "data = np.random.normal(size=1000)\n",
        "\n",
        "# Plot histogram\n",
        "plt.hist(data, bins=30, density=True, alpha=0.6, label='Histogram')\n",
        "\n",
        "# Overlay PDF\n",
        "xmin, xmax = plt.xlim()\n",
        "x = np.linspace(xmin, xmax, 100)\n",
        "p = stats.norm.pdf(x, 0, 1)  # Mean=0, Std Dev=1\n",
        "plt.plot(x, p, 'k', linewidth=2, label='PDF')\n",
        "\n",
        "# Set labels and title\n",
        "plt.xlabel('Value')\n",
        "plt.ylabel('Frequency/Probability')\n",
        "plt.title('Histogram with PDF Overlay')  # Set the title\n",
        "\n",
        "# Display legend\n",
        "plt.legend()\n",
        "\n",
        "# Show plot\n",
        "plt.show()"
      ],
      "cell_type": "code",
      "metadata": {
        "id": "8P9SfitkEPAl"
      },
      "execution_count": null,
      "outputs": []
    },
    {
      "cell_type": "markdown",
      "source": [
        "# 17.Create a Seaborn scatter plot of two random arrays, color points based on their position relative to the original (quadrants), add a legend, label the axes, and set the title as 'Quadrant-wise Scatter Plot'."
      ],
      "metadata": {
        "id": "mGt6rfKeESYV"
      }
    },
    {
      "cell_type": "code",
      "source": [],
      "metadata": {
        "id": "Qiny6ynJFKB1"
      },
      "execution_count": null,
      "outputs": []
    },
    {
      "source": [
        "import numpy as np\n",
        "import seaborn as sns\n",
        "import matplotlib.pyplot as plt\n",
        "\n",
        "# Generate random data\n",
        "x = np.random.rand(50)\n",
        "y = np.random.rand(50)\n",
        "\n",
        "# Create quadrant labels\n",
        "quadrants = []\n",
        "for i in range(len(x)):\n",
        "    if x[i] > 0.5 and y[i] > 0.5:\n",
        "        quadrants.append('Quadrant 1')\n",
        "    elif x[i] < 0.5 and y[i] > 0.5:\n",
        "        quadrants.append('Quadrant 2')\n",
        "    elif x[i] < 0.5 and y[i] < 0.5:\n",
        "        quadrants.append('Quadrant 3')\n",
        "    else:\n",
        "        quadrants.append('Quadrant 4')\n",
        "\n",
        "# Create scatter plot\n",
        "sns.scatterplot(x=x, y=y, hue=quadrants)\n",
        "\n",
        "# Set labels and title\n",
        "plt.xlabel('X-axis')\n",
        "plt.ylabel('Y-axis')\n",
        "plt.title('Quadrant-wise Scatter Plot')\n",
        "\n",
        "# Display legend\n",
        "plt.legend()\n",
        "\n",
        "# Show plot\n",
        "plt.show()"
      ],
      "cell_type": "code",
      "metadata": {
        "colab": {
          "base_uri": "https://localhost:8080/",
          "height": 472
        },
        "id": "8vFg-d59FWYu",
        "outputId": "641d579f-a703-43e0-ed51-118b0d6a8747"
      },
      "execution_count": 27,
      "outputs": [
        {
          "output_type": "display_data",
          "data": {
            "text/plain": [
              "<Figure size 640x480 with 1 Axes>"
            ],
            "image/png": "[encoded data removed]"
          },
          "metadata": {}
        }
      ]
    },
    {
      "cell_type": "markdown",
      "source": [
        "# 18.With ,plot a line chart of a sine wave function, add grid lines, label the axes, and set the title as 'Sine wave Function'."
      ],
      "metadata": {
        "id": "B39KuQ-MFZWV"
      }
    },
    {
      "source": [
        "import numpy as np\n",
        "import matplotlib.pyplot as plt\n",
        "\n",
        "# Generate x values\n",
        "x = np.linspace(0, 2 * np.pi, 100)  # 100 points from 0 to 2*pi\n",
        "\n",
        "# Calculate y values (sine wave)\n",
        "y = np.sin(x)\n",
        "\n",
        "# Plot the sine wave\n",
        "plt.plot(x, y)\n",
        "\n",
        "# Add grid lines\n",
        "plt.grid(True)\n",
        "\n",
        "# Set labels and title\n",
        "plt.xlabel('X-axis')\n",
        "plt.ylabel('Y-axis')\n",
        "plt.title('Sine Wave Function')\n",
        "\n",
        "# Show plot\n",
        "plt.show()"
      ],
      "cell_type": "code",
      "metadata": {
        "colab": {
          "base_uri": "https://localhost:8080/",
          "height": 472
        },
        "id": "_1IJmCFHGDVG",
        "outputId": "f1c4b455-f40a-4c84-de32-b942330be48c"
      },
      "execution_count": 28,
      "outputs": [
        {
          "output_type": "display_data",
          "data": {
            "text/plain": [
              "<Figure size 640x480 with 1 Axes>"
            ],
            "image/png": "[encoded data removed]"
          },
          "metadata": {}
        }
      ]
    },
    {
      "cell_type": "markdown",
      "source": [
        "# 19.Using Bokeh, generate a bar chart of randomly generated categorical data, color bars based on their values, add hover tooltips to display exact values, label the axes, and set the title as 'Random Categorical Bar Chart'."
      ],
      "metadata": {
        "id": "PG4uE8cbGFIe"
      }
    },
    {
      "cell_type": "code",
      "source": [
        "import numpy as np\n",
        "import pandas as pd\n",
        "from bokeh.plotting import figure, show\n",
        "from bokeh.models import HoverTool, ColumnDataSource\n",
        "from bokeh.transform import factor_cmap\n",
        "from bokeh.palettes import Blues8\n",
        "\n",
        "# Generate random categorical data\n",
        "np.random.seed(0)\n",
        "categories = ['A', 'B', 'C', 'D', 'E']\n",
        "values = np.random.randint(1, 100, 5)\n",
        "\n",
        "# Create DataFrame\n",
        "df = pd.DataFrame({'Category': categories, 'Value': values})\n",
        "\n",
        "# Create ColumnDataSource\n",
        "source = ColumnDataSource(data=dict(df))\n",
        "\n",
        "# Define categories for x-axis\n",
        "x_range = categories\n",
        "\n",
        "# Create figure\n",
        "p = figure(title=\"Random Categorical Bar Chart\",\n",
        "           x_axis_label='Category',\n",
        "           y_axis_label='Value',\n",
        "           x_range=x_range,\n",
        "           tools=\"hover\")\n",
        "\n",
        "# Map colors based on values\n",
        "colors = Blues8\n",
        "cmap = factor_cmap('Category', palette=colors, factors=categories)\n",
        "\n",
        "# Add bar chart\n",
        "p.vbar(x='Category',\n",
        "       top='Value',\n",
        "       source=source,\n",
        "       width=0.9,\n",
        "       line_color='white',\n",
        "       fill_color=cmap)\n",
        "\n",
        "# Add hover tooltips\n",
        "hover = HoverTool(tooltips=[\n",
        "    (\"Category\", \"@Category\"),\n",
        "    (\"Value\", \"@Value\"),\n",
        "])\n",
        "p.add_tools(hover)\n",
        "\n",
        "# Show plot\n",
        "show(p)\n"
      ],
      "metadata": {
        "id": "6yntO49bFX2O"
      },
      "execution_count": 30,
      "outputs": []
    },
    {
      "cell_type": "code",
      "source": [
        "import numpy as np\n",
        "import pandas as pd\n",
        "from bokeh.plotting import figure, show\n",
        "from bokeh.models import HoverTool, ColumnDataSource\n",
        "from bokeh.transform import factor_cmap\n",
        "from bokeh.palettes import Blues8\n",
        "\n",
        "# Generate random categorical data\n",
        "np.random.seed(0)\n",
        "categories = ['A', 'B', 'C', 'D', 'E']\n",
        "values = np.random.randint(1, 100, 5)\n",
        "\n",
        "# Create DataFrame\n",
        "df = pd.DataFrame({'Category': categories, 'Value': values})\n",
        "\n",
        "print(\"DataFrame:\")\n",
        "print(df)\n",
        "\n",
        "# Create ColumnDataSource\n",
        "source = ColumnDataSource(data=dict(df))\n",
        "\n",
        "# Define categories for x-axis\n",
        "x_range = categories\n",
        "\n",
        "# Create figure\n",
        "p = figure(title=\"Random Categorical Bar Chart\",\n",
        "           x_axis_label='Category',\n",
        "           y_axis_label='Value',\n",
        "           x_range=x_range,\n",
        "           tools=\"hover\")\n",
        "\n",
        "# Map colors based on values\n",
        "colors = Blues8\n",
        "cmap = factor_cmap('Category', palette=colors, factors=categories)\n",
        "\n",
        "# Add bar chart\n",
        "p.vbar(x='Category',\n",
        "       top='Value',\n",
        "       source=source,\n",
        "       width=0.9,\n",
        "       line_color='white',\n",
        "       fill_color=cmap)\n",
        "\n",
        "# Add hover tooltips\n",
        "hover = HoverTool(tooltips=[\n",
        "    (\"Category\", \"@Category\"),\n",
        "    (\"Value\", \"@Value\"),\n",
        "])\n",
        "p.add_tools(hover)\n",
        "\n",
        "# Show plot\n",
        "show(p)\n",
        "\n",
        "\n"
      ],
      "metadata": {
        "colab": {
          "base_uri": "https://localhost:8080/"
        },
        "id": "4CHio59dI1pN",
        "outputId": "15a78787-af82-450b-e23d-6452abf4a009"
      },
      "execution_count": 35,
      "outputs": [
        {
          "output_type": "stream",
          "name": "stdout",
          "text": [
            "DataFrame:\n",
            "  Category  Value\n",
            "0        A     45\n",
            "1        B     48\n",
            "2        C     65\n",
            "3        D     68\n",
            "4        E     68\n"
          ]
        }
      ]
    },
    {
      "cell_type": "markdown",
      "source": [
        "# 20.Using Plotly, create a basic line plot of a randomly generated dataset, label the axes, and set the title as 'Simple Line Plot'."
      ],
      "metadata": {
        "id": "3k4bNsMEJRoX"
      }
    },
    {
      "source": [
        "import plotly.graph_objects as go\n",
        "import numpy as np\n",
        "\n",
        "# Generate random data\n",
        "x = np.arange(10)\n",
        "y = np.random.rand(10)\n",
        "\n",
        "# Create the line plot\n",
        "fig = go.Figure(data=go.Scatter(x=x, y=y, mode='lines'))\n",
        "\n",
        "# Set labels and title\n",
        "fig.update_layout(\n",
        "    xaxis_title=\"X-axis\",\n",
        "    yaxis_title=\"Y-axis\",\n",
        "    title=\"Simple Line Plot\"\n",
        ")\n",
        "\n",
        "# Show the plot\n",
        "fig.show()"
      ],
      "cell_type": "code",
      "metadata": {
        "colab": {
          "base_uri": "https://localhost:8080/",
          "height": 542
        },
        "id": "q6ThVQZ-J2Tn",
        "outputId": "250c9784-53f6-4719-e660-9f08459871f2"
      },
      "execution_count": 36,
      "outputs": [
        {
          "output_type": "display_data",
          "data": {
            "text/html": [
              "<html>\n",
              "<head><meta charset=\"utf-8\" /></head>\n",
              "<body>\n",
              "    <div>            <script src=\"https://cdnjs.cloudflare.com/ajax/libs/mathjax/2.7.5/MathJax.js?config=TeX-AMS-MML_SVG\"></script><script type=\"text/javascript\">if (window.MathJax && window.MathJax.Hub && window.MathJax.Hub.Config) {window.MathJax.Hub.Config({SVG: {font: \"STIX-Web\"}});}</script>                <script type=\"text/javascript\">window.PlotlyConfig = {MathJaxConfig: 'local'};</script>\n",
              "        <script charset=\"utf-8\" src=\"https://cdn.plot.ly/plotly-2.35.2.min.js\"></script>                <div id=\"f695c4d3-9866-4404-a998-8251f1fa6ab3\" class=\"plotly-graph-div\" style=\"height:525px; width:100%;\"></div>            <script type=\"text/javascript\">                                    window.PLOTLYENV=window.PLOTLYENV || {};                                    if (document.getElementById(\"f695c4d3-9866-4404-a998-8251f1fa6ab3\")) {                    Plotly.newPlot(                        \"f695c4d3-9866-4404-a998-8251f1fa6ab3\",                        [{\"mode\":\"lines\",\"x\":[0,1,2,3,4,5,6,7,8,9],\"y\":[0.8472517387841254,0.6235636967859723,0.3843817072926998,0.2975346065444723,0.05671297731744318,0.2726562945801132,0.47766511732134986,0.8121687287754932,0.4799771723750573,0.3927847961008297],\"type\":\"scatter\"}],                        {\"template\":{\"data\":{\"histogram2dcontour\":[{\"type\":\"histogram2dcontour\",\"colorbar\":{\"outlinewidth\":0,\"ticks\":\"\"},\"colorscale\":[[0.0,\"#0d0887\"],[0.1111111111111111,\"#46039f\"],[0.2222222222222222,\"#7201a8\"],[0.3333333333333333,\"#9c179e\"],[0.4444444444444444,\"#bd3786\"],[0.5555555555555556,\"#d8576b\"],[0.6666666666666666,\"#ed7953\"],[0.7777777777777778,\"#fb9f3a\"],[0.8888888888888888,\"#fdca26\"],[1.0,\"#f0f921\"]]}],\"choropleth\":[{\"type\":\"choropleth\",\"colorbar\":{\"outlinewidth\":0,\"ticks\":\"\"}}],\"histogram2d\":[{\"type\":\"histogram2d\",\"colorbar\":{\"outlinewidth\":0,\"ticks\":\"\"},\"colorscale\":[[0.0,\"#0d0887\"],[0.1111111111111111,\"#46039f\"],[0.2222222222222222,\"#7201a8\"],[0.3333333333333333,\"#9c179e\"],[0.4444444444444444,\"#bd3786\"],[0.5555555555555556,\"#d8576b\"],[0.6666666666666666,\"#ed7953\"],[0.7777777777777778,\"#fb9f3a\"],[0.8888888888888888,\"#fdca26\"],[1.0,\"#f0f921\"]]}],\"heatmap\":[{\"type\":\"heatmap\",\"colorbar\":{\"outlinewidth\":0,\"ticks\":\"\"},\"colorscale\":[[0.0,\"#0d0887\"],[0.1111111111111111,\"#46039f\"],[0.2222222222222222,\"#7201a8\"],[0.3333333333333333,\"#9c179e\"],[0.4444444444444444,\"#bd3786\"],[0.5555555555555556,\"#d8576b\"],[0.6666666666666666,\"#ed7953\"],[0.7777777777777778,\"#fb9f3a\"],[0.8888888888888888,\"#fdca26\"],[1.0,\"#f0f921\"]]}],\"heatmapgl\":[{\"type\":\"heatmapgl\",\"colorbar\":{\"outlinewidth\":0,\"ticks\":\"\"},\"colorscale\":[[0.0,\"#0d0887\"],[0.1111111111111111,\"#46039f\"],[0.2222222222222222,\"#7201a8\"],[0.3333333333333333,\"#9c179e\"],[0.4444444444444444,\"#bd3786\"],[0.5555555555555556,\"#d8576b\"],[0.6666666666666666,\"#ed7953\"],[0.7777777777777778,\"#fb9f3a\"],[0.8888888888888888,\"#fdca26\"],[1.0,\"#f0f921\"]]}],\"contourcarpet\":[{\"type\":\"contourcarpet\",\"colorbar\":{\"outlinewidth\":0,\"ticks\":\"\"}}],\"contour\":[{\"type\":\"contour\",\"colorbar\":{\"outlinewidth\":0,\"ticks\":\"\"},\"colorscale\":[[0.0,\"#0d0887\"],[0.1111111111111111,\"#46039f\"],[0.2222222222222222,\"#7201a8\"],[0.3333333333333333,\"#9c179e\"],[0.4444444444444444,\"#bd3786\"],[0.5555555555555556,\"#d8576b\"],[0.6666666666666666,\"#ed7953\"],[0.7777777777777778,\"#fb9f3a\"],[0.8888888888888888,\"#fdca26\"],[1.0,\"#f0f921\"]]}],\"surface\":[{\"type\":\"surface\",\"colorbar\":{\"outlinewidth\":0,\"ticks\":\"\"},\"colorscale\":[[0.0,\"#0d0887\"],[0.1111111111111111,\"#46039f\"],[0.2222222222222222,\"#7201a8\"],[0.3333333333333333,\"#9c179e\"],[0.4444444444444444,\"#bd3786\"],[0.5555555555555556,\"#d8576b\"],[0.6666666666666666,\"#ed7953\"],[0.7777777777777778,\"#fb9f3a\"],[0.8888888888888888,\"#fdca26\"],[1.0,\"#f0f921\"]]}],\"mesh3d\":[{\"type\":\"mesh3d\",\"colorbar\":{\"outlinewidth\":0,\"ticks\":\"\"}}],\"scatter\":[{\"fillpattern\":{\"fillmode\":\"overlay\",\"size\":10,\"solidity\":0.2},\"type\":\"scatter\"}],\"parcoords\":[{\"type\":\"parcoords\",\"line\":{\"colorbar\":{\"outlinewidth\":0,\"ticks\":\"\"}}}],\"scatterpolargl\":[{\"type\":\"scatterpolargl\",\"marker\":{\"colorbar\":{\"outlinewidth\":0,\"ticks\":\"\"}}}],\"bar\":[{\"error_x\":{\"color\":\"#2a3f5f\"},\"error_y\":{\"color\":\"#2a3f5f\"},\"marker\":{\"line\":{\"color\":\"#E5ECF6\",\"width\":0.5},\"pattern\":{\"fillmode\":\"overlay\",\"size\":10,\"solidity\":0.2}},\"type\":\"bar\"}],\"scattergeo\":[{\"type\":\"scattergeo\",\"marker\":{\"colorbar\":{\"outlinewidth\":0,\"ticks\":\"\"}}}],\"scatterpolar\":[{\"type\":\"scatterpolar\",\"marker\":{\"colorbar\":{\"outlinewidth\":0,\"ticks\":\"\"}}}],\"histogram\":[{\"marker\":{\"pattern\":{\"fillmode\":\"overlay\",\"size\":10,\"solidity\":0.2}},\"type\":\"histogram\"}],\"scattergl\":[{\"type\":\"scattergl\",\"marker\":{\"colorbar\":{\"outlinewidth\":0,\"ticks\":\"\"}}}],\"scatter3d\":[{\"type\":\"scatter3d\",\"line\":{\"colorbar\":{\"outlinewidth\":0,\"ticks\":\"\"}},\"marker\":{\"colorbar\":{\"outlinewidth\":0,\"ticks\":\"\"}}}],\"scattermapbox\":[{\"type\":\"scattermapbox\",\"marker\":{\"colorbar\":{\"outlinewidth\":0,\"ticks\":\"\"}}}],\"scatterternary\":[{\"type\":\"scatterternary\",\"marker\":{\"colorbar\":{\"outlinewidth\":0,\"ticks\":\"\"}}}],\"scattercarpet\":[{\"type\":\"scattercarpet\",\"marker\":{\"colorbar\":{\"outlinewidth\":0,\"ticks\":\"\"}}}],\"carpet\":[{\"aaxis\":{\"endlinecolor\":\"#2a3f5f\",\"gridcolor\":\"white\",\"linecolor\":\"white\",\"minorgridcolor\":\"white\",\"startlinecolor\":\"#2a3f5f\"},\"baxis\":{\"endlinecolor\":\"#2a3f5f\",\"gridcolor\":\"white\",\"linecolor\":\"white\",\"minorgridcolor\":\"white\",\"startlinecolor\":\"#2a3f5f\"},\"type\":\"carpet\"}],\"table\":[{\"cells\":{\"fill\":{\"color\":\"#EBF0F8\"},\"line\":{\"color\":\"white\"}},\"header\":{\"fill\":{\"color\":\"#C8D4E3\"},\"line\":{\"color\":\"white\"}},\"type\":\"table\"}],\"barpolar\":[{\"marker\":{\"line\":{\"color\":\"#E5ECF6\",\"width\":0.5},\"pattern\":{\"fillmode\":\"overlay\",\"size\":10,\"solidity\":0.2}},\"type\":\"barpolar\"}],\"pie\":[{\"automargin\":true,\"type\":\"pie\"}]},\"layout\":{\"autotypenumbers\":\"strict\",\"colorway\":[\"#636efa\",\"#EF553B\",\"#00cc96\",\"#ab63fa\",\"#FFA15A\",\"#19d3f3\",\"#FF6692\",\"#B6E880\",\"#FF97FF\",\"#FECB52\"],\"font\":{\"color\":\"#2a3f5f\"},\"hovermode\":\"closest\",\"hoverlabel\":{\"align\":\"left\"},\"paper_bgcolor\":\"white\",\"plot_bgcolor\":\"#E5ECF6\",\"polar\":{\"bgcolor\":\"#E5ECF6\",\"angularaxis\":{\"gridcolor\":\"white\",\"linecolor\":\"white\",\"ticks\":\"\"},\"radialaxis\":{\"gridcolor\":\"white\",\"linecolor\":\"white\",\"ticks\":\"\"}},\"ternary\":{\"bgcolor\":\"#E5ECF6\",\"aaxis\":{\"gridcolor\":\"white\",\"linecolor\":\"white\",\"ticks\":\"\"},\"baxis\":{\"gridcolor\":\"white\",\"linecolor\":\"white\",\"ticks\":\"\"},\"caxis\":{\"gridcolor\":\"white\",\"linecolor\":\"white\",\"ticks\":\"\"}},\"coloraxis\":{\"colorbar\":{\"outlinewidth\":0,\"ticks\":\"\"}},\"colorscale\":{\"sequential\":[[0.0,\"#0d0887\"],[0.1111111111111111,\"#46039f\"],[0.2222222222222222,\"#7201a8\"],[0.3333333333333333,\"#9c179e\"],[0.4444444444444444,\"#bd3786\"],[0.5555555555555556,\"#d8576b\"],[0.6666666666666666,\"#ed7953\"],[0.7777777777777778,\"#fb9f3a\"],[0.8888888888888888,\"#fdca26\"],[1.0,\"#f0f921\"]],\"sequentialminus\":[[0.0,\"#0d0887\"],[0.1111111111111111,\"#46039f\"],[0.2222222222222222,\"#7201a8\"],[0.3333333333333333,\"#9c179e\"],[0.4444444444444444,\"#bd3786\"],[0.5555555555555556,\"#d8576b\"],[0.6666666666666666,\"#ed7953\"],[0.7777777777777778,\"#fb9f3a\"],[0.8888888888888888,\"#fdca26\"],[1.0,\"#f0f921\"]],\"diverging\":[[0,\"#8e0152\"],[0.1,\"#c51b7d\"],[0.2,\"#de77ae\"],[0.3,\"#f1b6da\"],[0.4,\"#fde0ef\"],[0.5,\"#f7f7f7\"],[0.6,\"#e6f5d0\"],[0.7,\"#b8e186\"],[0.8,\"#7fbc41\"],[0.9,\"#4d9221\"],[1,\"#276419\"]]},\"xaxis\":{\"gridcolor\":\"white\",\"linecolor\":\"white\",\"ticks\":\"\",\"title\":{\"standoff\":15},\"zerolinecolor\":\"white\",\"automargin\":true,\"zerolinewidth\":2},\"yaxis\":{\"gridcolor\":\"white\",\"linecolor\":\"white\",\"ticks\":\"\",\"title\":{\"standoff\":15},\"zerolinecolor\":\"white\",\"automargin\":true,\"zerolinewidth\":2},\"scene\":{\"xaxis\":{\"backgroundcolor\":\"#E5ECF6\",\"gridcolor\":\"white\",\"linecolor\":\"white\",\"showbackground\":true,\"ticks\":\"\",\"zerolinecolor\":\"white\",\"gridwidth\":2},\"yaxis\":{\"backgroundcolor\":\"#E5ECF6\",\"gridcolor\":\"white\",\"linecolor\":\"white\",\"showbackground\":true,\"ticks\":\"\",\"zerolinecolor\":\"white\",\"gridwidth\":2},\"zaxis\":{\"backgroundcolor\":\"#E5ECF6\",\"gridcolor\":\"white\",\"linecolor\":\"white\",\"showbackground\":true,\"ticks\":\"\",\"zerolinecolor\":\"white\",\"gridwidth\":2}},\"shapedefaults\":{\"line\":{\"color\":\"#2a3f5f\"}},\"annotationdefaults\":{\"arrowcolor\":\"#2a3f5f\",\"arrowhead\":0,\"arrowwidth\":1},\"geo\":{\"bgcolor\":\"white\",\"landcolor\":\"#E5ECF6\",\"subunitcolor\":\"white\",\"showland\":true,\"showlakes\":true,\"lakecolor\":\"white\"},\"title\":{\"x\":0.05},\"mapbox\":{\"style\":\"light\"}}},\"xaxis\":{\"title\":{\"text\":\"X-axis\"}},\"yaxis\":{\"title\":{\"text\":\"Y-axis\"}},\"title\":{\"text\":\"Simple Line Plot\"}},                        {\"responsive\": true}                    ).then(function(){\n",
              "                            \n",
              "var gd = document.getElementById('f695c4d3-9866-4404-a998-8251f1fa6ab3');\n",
              "var x = new MutationObserver(function (mutations, observer) {{\n",
              "        var display = window.getComputedStyle(gd).display;\n",
              "        if (!display || display === 'none') {{\n",
              "            console.log([gd, 'removed!']);\n",
              "            Plotly.purge(gd);\n",
              "            observer.disconnect();\n",
              "        }}\n",
              "}});\n",
              "\n",
              "// Listen for the removal of the full notebook cells\n",
              "var notebookContainer = gd.closest('#notebook-container');\n",
              "if (notebookContainer) {{\n",
              "    x.observe(notebookContainer, {childList: true});\n",
              "}}\n",
              "\n",
              "// Listen for the clearing of the current output cell\n",
              "var outputEl = gd.closest('.output');\n",
              "if (outputEl) {{\n",
              "    x.observe(outputEl, {childList: true});\n",
              "}}\n",
              "\n",
              "                        })                };                            </script>        </div>\n",
              "</body>\n",
              "</html>"
            ]
          },
          "metadata": {}
        }
      ]
    },
    {
      "cell_type": "markdown",
      "source": [
        "# 21.Using Plotly, create an interactive pie chart of randomly generated data, add labels and percentages, set the title as 'Interactive Pie Chart'."
      ],
      "metadata": {
        "id": "m0RgW82eJ5Jg"
      }
    },
    {
      "source": [
        "import plotly.express as px\n",
        "import numpy as np\n",
        "\n",
        "# Generate random data\n",
        "labels = ['A', 'B', 'C', 'D', 'E']\n",
        "values = np.random.randint(1, 10, size=5)\n",
        "\n",
        "# Create the pie chart\n",
        "fig = px.pie(values=values, names=labels, title='Interactive Pie Chart')\n",
        "\n",
        "# Update layout for labels and percentages\n",
        "fig.update_traces(textposition='inside', textinfo='percent+label')\n",
        "\n",
        "# Show the plot\n",
        "fig.show()"
      ],
      "cell_type": "code",
      "metadata": {
        "colab": {
          "base_uri": "https://localhost:8080/",
          "height": 542
        },
        "id": "ktiHcf1YKfYI",
        "outputId": "1d9931b2-0573-4043-ff53-a3249150a585"
      },
      "execution_count": 37,
      "outputs": [
        {
          "output_type": "display_data",
          "data": {
            "text/html": [
              "<html>\n",
              "<head><meta charset=\"utf-8\" /></head>\n",
              "<body>\n",
              "    <div>            <script src=\"https://cdnjs.cloudflare.com/ajax/libs/mathjax/2.7.5/MathJax.js?config=TeX-AMS-MML_SVG\"></script><script type=\"text/javascript\">if (window.MathJax && window.MathJax.Hub && window.MathJax.Hub.Config) {window.MathJax.Hub.Config({SVG: {font: \"STIX-Web\"}});}</script>                <script type=\"text/javascript\">window.PlotlyConfig = {MathJaxConfig: 'local'};</script>\n",
              "        <script charset=\"utf-8\" src=\"https://cdn.plot.ly/plotly-2.35.2.min.js\"></script>                <div id=\"f50a705c-d139-4e80-9797-c131592584c8\" class=\"plotly-graph-div\" style=\"height:525px; width:100%;\"></div>            <script type=\"text/javascript\">                                    window.PLOTLYENV=window.PLOTLYENV || {};                                    if (document.getElementById(\"f50a705c-d139-4e80-9797-c131592584c8\")) {                    Plotly.newPlot(                        \"f50a705c-d139-4e80-9797-c131592584c8\",                        [{\"domain\":{\"x\":[0.0,1.0],\"y\":[0.0,1.0]},\"hovertemplate\":\"label=%{label}\\u003cbr\\u003evalue=%{value}\\u003cextra\\u003e\\u003c\\u002fextra\\u003e\",\"labels\":[\"A\",\"B\",\"C\",\"D\",\"E\"],\"legendgroup\":\"\",\"name\":\"\",\"showlegend\":true,\"values\":[9,5,4,1,4],\"type\":\"pie\",\"textinfo\":\"percent+label\",\"textposition\":\"inside\"}],                        {\"template\":{\"data\":{\"histogram2dcontour\":[{\"type\":\"histogram2dcontour\",\"colorbar\":{\"outlinewidth\":0,\"ticks\":\"\"},\"colorscale\":[[0.0,\"#0d0887\"],[0.1111111111111111,\"#46039f\"],[0.2222222222222222,\"#7201a8\"],[0.3333333333333333,\"#9c179e\"],[0.4444444444444444,\"#bd3786\"],[0.5555555555555556,\"#d8576b\"],[0.6666666666666666,\"#ed7953\"],[0.7777777777777778,\"#fb9f3a\"],[0.8888888888888888,\"#fdca26\"],[1.0,\"#f0f921\"]]}],\"choropleth\":[{\"type\":\"choropleth\",\"colorbar\":{\"outlinewidth\":0,\"ticks\":\"\"}}],\"histogram2d\":[{\"type\":\"histogram2d\",\"colorbar\":{\"outlinewidth\":0,\"ticks\":\"\"},\"colorscale\":[[0.0,\"#0d0887\"],[0.1111111111111111,\"#46039f\"],[0.2222222222222222,\"#7201a8\"],[0.3333333333333333,\"#9c179e\"],[0.4444444444444444,\"#bd3786\"],[0.5555555555555556,\"#d8576b\"],[0.6666666666666666,\"#ed7953\"],[0.7777777777777778,\"#fb9f3a\"],[0.8888888888888888,\"#fdca26\"],[1.0,\"#f0f921\"]]}],\"heatmap\":[{\"type\":\"heatmap\",\"colorbar\":{\"outlinewidth\":0,\"ticks\":\"\"},\"colorscale\":[[0.0,\"#0d0887\"],[0.1111111111111111,\"#46039f\"],[0.2222222222222222,\"#7201a8\"],[0.3333333333333333,\"#9c179e\"],[0.4444444444444444,\"#bd3786\"],[0.5555555555555556,\"#d8576b\"],[0.6666666666666666,\"#ed7953\"],[0.7777777777777778,\"#fb9f3a\"],[0.8888888888888888,\"#fdca26\"],[1.0,\"#f0f921\"]]}],\"heatmapgl\":[{\"type\":\"heatmapgl\",\"colorbar\":{\"outlinewidth\":0,\"ticks\":\"\"},\"colorscale\":[[0.0,\"#0d0887\"],[0.1111111111111111,\"#46039f\"],[0.2222222222222222,\"#7201a8\"],[0.3333333333333333,\"#9c179e\"],[0.4444444444444444,\"#bd3786\"],[0.5555555555555556,\"#d8576b\"],[0.6666666666666666,\"#ed7953\"],[0.7777777777777778,\"#fb9f3a\"],[0.8888888888888888,\"#fdca26\"],[1.0,\"#f0f921\"]]}],\"contourcarpet\":[{\"type\":\"contourcarpet\",\"colorbar\":{\"outlinewidth\":0,\"ticks\":\"\"}}],\"contour\":[{\"type\":\"contour\",\"colorbar\":{\"outlinewidth\":0,\"ticks\":\"\"},\"colorscale\":[[0.0,\"#0d0887\"],[0.1111111111111111,\"#46039f\"],[0.2222222222222222,\"#7201a8\"],[0.3333333333333333,\"#9c179e\"],[0.4444444444444444,\"#bd3786\"],[0.5555555555555556,\"#d8576b\"],[0.6666666666666666,\"#ed7953\"],[0.7777777777777778,\"#fb9f3a\"],[0.8888888888888888,\"#fdca26\"],[1.0,\"#f0f921\"]]}],\"surface\":[{\"type\":\"surface\",\"colorbar\":{\"outlinewidth\":0,\"ticks\":\"\"},\"colorscale\":[[0.0,\"#0d0887\"],[0.1111111111111111,\"#46039f\"],[0.2222222222222222,\"#7201a8\"],[0.3333333333333333,\"#9c179e\"],[0.4444444444444444,\"#bd3786\"],[0.5555555555555556,\"#d8576b\"],[0.6666666666666666,\"#ed7953\"],[0.7777777777777778,\"#fb9f3a\"],[0.8888888888888888,\"#fdca26\"],[1.0,\"#f0f921\"]]}],\"mesh3d\":[{\"type\":\"mesh3d\",\"colorbar\":{\"outlinewidth\":0,\"ticks\":\"\"}}],\"scatter\":[{\"fillpattern\":{\"fillmode\":\"overlay\",\"size\":10,\"solidity\":0.2},\"type\":\"scatter\"}],\"parcoords\":[{\"type\":\"parcoords\",\"line\":{\"colorbar\":{\"outlinewidth\":0,\"ticks\":\"\"}}}],\"scatterpolargl\":[{\"type\":\"scatterpolargl\",\"marker\":{\"colorbar\":{\"outlinewidth\":0,\"ticks\":\"\"}}}],\"bar\":[{\"error_x\":{\"color\":\"#2a3f5f\"},\"error_y\":{\"color\":\"#2a3f5f\"},\"marker\":{\"line\":{\"color\":\"#E5ECF6\",\"width\":0.5},\"pattern\":{\"fillmode\":\"overlay\",\"size\":10,\"solidity\":0.2}},\"type\":\"bar\"}],\"scattergeo\":[{\"type\":\"scattergeo\",\"marker\":{\"colorbar\":{\"outlinewidth\":0,\"ticks\":\"\"}}}],\"scatterpolar\":[{\"type\":\"scatterpolar\",\"marker\":{\"colorbar\":{\"outlinewidth\":0,\"ticks\":\"\"}}}],\"histogram\":[{\"marker\":{\"pattern\":{\"fillmode\":\"overlay\",\"size\":10,\"solidity\":0.2}},\"type\":\"histogram\"}],\"scattergl\":[{\"type\":\"scattergl\",\"marker\":{\"colorbar\":{\"outlinewidth\":0,\"ticks\":\"\"}}}],\"scatter3d\":[{\"type\":\"scatter3d\",\"line\":{\"colorbar\":{\"outlinewidth\":0,\"ticks\":\"\"}},\"marker\":{\"colorbar\":{\"outlinewidth\":0,\"ticks\":\"\"}}}],\"scattermapbox\":[{\"type\":\"scattermapbox\",\"marker\":{\"colorbar\":{\"outlinewidth\":0,\"ticks\":\"\"}}}],\"scatterternary\":[{\"type\":\"scatterternary\",\"marker\":{\"colorbar\":{\"outlinewidth\":0,\"ticks\":\"\"}}}],\"scattercarpet\":[{\"type\":\"scattercarpet\",\"marker\":{\"colorbar\":{\"outlinewidth\":0,\"ticks\":\"\"}}}],\"carpet\":[{\"aaxis\":{\"endlinecolor\":\"#2a3f5f\",\"gridcolor\":\"white\",\"linecolor\":\"white\",\"minorgridcolor\":\"white\",\"startlinecolor\":\"#2a3f5f\"},\"baxis\":{\"endlinecolor\":\"#2a3f5f\",\"gridcolor\":\"white\",\"linecolor\":\"white\",\"minorgridcolor\":\"white\",\"startlinecolor\":\"#2a3f5f\"},\"type\":\"carpet\"}],\"table\":[{\"cells\":{\"fill\":{\"color\":\"#EBF0F8\"},\"line\":{\"color\":\"white\"}},\"header\":{\"fill\":{\"color\":\"#C8D4E3\"},\"line\":{\"color\":\"white\"}},\"type\":\"table\"}],\"barpolar\":[{\"marker\":{\"line\":{\"color\":\"#E5ECF6\",\"width\":0.5},\"pattern\":{\"fillmode\":\"overlay\",\"size\":10,\"solidity\":0.2}},\"type\":\"barpolar\"}],\"pie\":[{\"automargin\":true,\"type\":\"pie\"}]},\"layout\":{\"autotypenumbers\":\"strict\",\"colorway\":[\"#636efa\",\"#EF553B\",\"#00cc96\",\"#ab63fa\",\"#FFA15A\",\"#19d3f3\",\"#FF6692\",\"#B6E880\",\"#FF97FF\",\"#FECB52\"],\"font\":{\"color\":\"#2a3f5f\"},\"hovermode\":\"closest\",\"hoverlabel\":{\"align\":\"left\"},\"paper_bgcolor\":\"white\",\"plot_bgcolor\":\"#E5ECF6\",\"polar\":{\"bgcolor\":\"#E5ECF6\",\"angularaxis\":{\"gridcolor\":\"white\",\"linecolor\":\"white\",\"ticks\":\"\"},\"radialaxis\":{\"gridcolor\":\"white\",\"linecolor\":\"white\",\"ticks\":\"\"}},\"ternary\":{\"bgcolor\":\"#E5ECF6\",\"aaxis\":{\"gridcolor\":\"white\",\"linecolor\":\"white\",\"ticks\":\"\"},\"baxis\":{\"gridcolor\":\"white\",\"linecolor\":\"white\",\"ticks\":\"\"},\"caxis\":{\"gridcolor\":\"white\",\"linecolor\":\"white\",\"ticks\":\"\"}},\"coloraxis\":{\"colorbar\":{\"outlinewidth\":0,\"ticks\":\"\"}},\"colorscale\":{\"sequential\":[[0.0,\"#0d0887\"],[0.1111111111111111,\"#46039f\"],[0.2222222222222222,\"#7201a8\"],[0.3333333333333333,\"#9c179e\"],[0.4444444444444444,\"#bd3786\"],[0.5555555555555556,\"#d8576b\"],[0.6666666666666666,\"#ed7953\"],[0.7777777777777778,\"#fb9f3a\"],[0.8888888888888888,\"#fdca26\"],[1.0,\"#f0f921\"]],\"sequentialminus\":[[0.0,\"#0d0887\"],[0.1111111111111111,\"#46039f\"],[0.2222222222222222,\"#7201a8\"],[0.3333333333333333,\"#9c179e\"],[0.4444444444444444,\"#bd3786\"],[0.5555555555555556,\"#d8576b\"],[0.6666666666666666,\"#ed7953\"],[0.7777777777777778,\"#fb9f3a\"],[0.8888888888888888,\"#fdca26\"],[1.0,\"#f0f921\"]],\"diverging\":[[0,\"#8e0152\"],[0.1,\"#c51b7d\"],[0.2,\"#de77ae\"],[0.3,\"#f1b6da\"],[0.4,\"#fde0ef\"],[0.5,\"#f7f7f7\"],[0.6,\"#e6f5d0\"],[0.7,\"#b8e186\"],[0.8,\"#7fbc41\"],[0.9,\"#4d9221\"],[1,\"#276419\"]]},\"xaxis\":{\"gridcolor\":\"white\",\"linecolor\":\"white\",\"ticks\":\"\",\"title\":{\"standoff\":15},\"zerolinecolor\":\"white\",\"automargin\":true,\"zerolinewidth\":2},\"yaxis\":{\"gridcolor\":\"white\",\"linecolor\":\"white\",\"ticks\":\"\",\"title\":{\"standoff\":15},\"zerolinecolor\":\"white\",\"automargin\":true,\"zerolinewidth\":2},\"scene\":{\"xaxis\":{\"backgroundcolor\":\"#E5ECF6\",\"gridcolor\":\"white\",\"linecolor\":\"white\",\"showbackground\":true,\"ticks\":\"\",\"zerolinecolor\":\"white\",\"gridwidth\":2},\"yaxis\":{\"backgroundcolor\":\"#E5ECF6\",\"gridcolor\":\"white\",\"linecolor\":\"white\",\"showbackground\":true,\"ticks\":\"\",\"zerolinecolor\":\"white\",\"gridwidth\":2},\"zaxis\":{\"backgroundcolor\":\"#E5ECF6\",\"gridcolor\":\"white\",\"linecolor\":\"white\",\"showbackground\":true,\"ticks\":\"\",\"zerolinecolor\":\"white\",\"gridwidth\":2}},\"shapedefaults\":{\"line\":{\"color\":\"#2a3f5f\"}},\"annotationdefaults\":{\"arrowcolor\":\"#2a3f5f\",\"arrowhead\":0,\"arrowwidth\":1},\"geo\":{\"bgcolor\":\"white\",\"landcolor\":\"#E5ECF6\",\"subunitcolor\":\"white\",\"showland\":true,\"showlakes\":true,\"lakecolor\":\"white\"},\"title\":{\"x\":0.05},\"mapbox\":{\"style\":\"light\"}}},\"legend\":{\"tracegroupgap\":0},\"title\":{\"text\":\"Interactive Pie Chart\"}},                        {\"responsive\": true}                    ).then(function(){\n",
              "                            \n",
              "var gd = document.getElementById('f50a705c-d139-4e80-9797-c131592584c8');\n",
              "var x = new MutationObserver(function (mutations, observer) {{\n",
              "        var display = window.getComputedStyle(gd).display;\n",
              "        if (!display || display === 'none') {{\n",
              "            console.log([gd, 'removed!']);\n",
              "            Plotly.purge(gd);\n",
              "            observer.disconnect();\n",
              "        }}\n",
              "}});\n",
              "\n",
              "// Listen for the removal of the full notebook cells\n",
              "var notebookContainer = gd.closest('#notebook-container');\n",
              "if (notebookContainer) {{\n",
              "    x.observe(notebookContainer, {childList: true});\n",
              "}}\n",
              "\n",
              "// Listen for the clearing of the current output cell\n",
              "var outputEl = gd.closest('.output');\n",
              "if (outputEl) {{\n",
              "    x.observe(outputEl, {childList: true});\n",
              "}}\n",
              "\n",
              "                        })                };                            </script>        </div>\n",
              "</body>\n",
              "</html>"
            ]
          },
          "metadata": {}
        }
      ]
    }
  ]
}