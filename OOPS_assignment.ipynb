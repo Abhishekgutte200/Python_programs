{
  "nbformat": 4,
  "nbformat_minor": 0,
  "metadata": {
    "colab": {
      "provenance": [],
      "authorship_tag": "ABX9TyNGvXJ0isF8VMZyosLPBf87",
      "include_colab_link": true
    },
    "kernelspec": {
      "name": "python3",
      "display_name": "Python 3"
    },
    "language_info": {
      "name": "python"
    }
  },
  "cells": [
    {
      "cell_type": "markdown",
      "metadata": {
        "id": "view-in-github",
        "colab_type": "text"
      },
      "source": [
        "<a href=\"https://colab.research.google.com/github/Abhishekgutte200/Python_programs/blob/main/OOPS_assignment.ipynb\" target=\"_parent\"><img src=\"https://colab.research.google.com/assets/colab-badge.svg\" alt=\"Open In Colab\"/></a>"
      ]
    },
    {
      "cell_type": "markdown",
      "source": [
        "# 1.What are the five key concepts of Object-Oriented Programming(OOP)?"
      ],
      "metadata": {
        "id": "tMXoyjqp1Rwj"
      }
    },
    {
      "cell_type": "markdown",
      "source": [
        "The five key concepts of Object-Oriented Programming (OOP) are:\n",
        "\n",
        "***1.Abstraction:*** Hiding complex implementation details and only showing the necessary information to the user.<br>\n",
        "***2.Encapsulation:*** Bundling data and methods that operate on that data within a single unit (class).<br>\n",
        "***3.Inheritance:*** Creating new classes (child classes) from existing ones (parent classes), inheriting their properties and behaviors.<br>\n",
        "***4.Polymorphism:*** The ability of objects of different classes to respond to the same method call in different ways.<br>\n",
        "***5.Objects and Classes:***</t> Objects are instances of classes, which are blueprints for creating objects."
      ],
      "metadata": {
        "id": "-HJvDy-q3Ny3"
      }
    },
    {
      "cell_type": "markdown",
      "source": [
        "# 2.Write a python class for a 'car' with attributes for 'make' ,'model' ,and 'year'. Include a method to display the car's information."
      ],
      "metadata": {
        "id": "6Ai_ww6o4eJV"
      }
    },
    {
      "source": [
        "class Car:\n",
        "    def __init__(self, make, model, year):\n",
        "        self.make = make\n",
        "        self.model = model\n",
        "        self.year = year\n",
        "\n",
        "    def display_info(self):\n",
        "        print(f\"Make: {self.make}\")\n",
        "        print(f\"Model: {self.model}\")\n",
        "        print(f\"Year: {self.year}\")"
      ],
      "cell_type": "code",
      "metadata": {
        "id": "y5PPNquo5TVl"
      },
      "execution_count": 2,
      "outputs": []
    },
    {
      "cell_type": "markdown",
      "source": [
        "# 3.Explain the difference between instance methods and class methods. Provide an example of each."
      ],
      "metadata": {
        "id": "UAtAxqAo69KK"
      }
    },
    {
      "cell_type": "markdown",
      "source": [
        "***Instance methods:***  These methods operate on an instance of a class (an object). They have access to instance variables and can modify the object's state.\n",
        "\n",
        "Example:1"
      ],
      "metadata": {
        "id": "x7zmG6kF8E7q"
      }
    },
    {
      "source": [
        "class Dog:\n",
        "        def __init__(self, name):\n",
        "            self.name = name\n",
        "\n",
        "        def bark(self):\n",
        "            print(f\"{self.name} says Woof!\")\n",
        "\n",
        "my_dog = Dog(\"Buddy\")\n",
        "my_dog.bark()  # Output: Buddy says Woof!"
      ],
      "cell_type": "code",
      "metadata": {
        "colab": {
          "base_uri": "https://localhost:8080/"
        },
        "id": "4dOoTbQh8V2y",
        "outputId": "f06eda58-e442-4824-8044-e6d3c56e2375"
      },
      "execution_count": 14,
      "outputs": [
        {
          "output_type": "stream",
          "name": "stdout",
          "text": [
            "Buddy says Woof!\n"
          ]
        }
      ]
    },
    {
      "cell_type": "markdown",
      "source": [
        "Example:2"
      ],
      "metadata": {
        "id": "fvR4d861BZeO"
      }
    },
    {
      "cell_type": "code",
      "source": [
        "class Car:\n",
        "    def __init__(self, make, model):\n",
        "        self.make = make\n",
        "        self.model = model\n",
        "\n",
        "    def honk(self):\n",
        "        print(f\"{self.make} {self.model} honks!\")\n",
        "\n",
        "my_car = Car(\"Toyota\", \"Camry\")\n",
        "my_car.honk()  # Output: Toyota Camry honks!\n"
      ],
      "metadata": {
        "colab": {
          "base_uri": "https://localhost:8080/"
        },
        "id": "pQlUe2bG8d16",
        "outputId": "ee551e47-ffd7-4ab8-e643-d0d5239af69c"
      },
      "execution_count": 12,
      "outputs": [
        {
          "output_type": "stream",
          "name": "stdout",
          "text": [
            "Toyota Camry honks!\n"
          ]
        }
      ]
    },
    {
      "cell_type": "markdown",
      "source": [
        "***Class methods:*** These methods operate on the class itself, not on instances. They cannot access instance variables but can access and modify class-level variables."
      ],
      "metadata": {
        "id": "cQw2OotPAauu"
      }
    },
    {
      "source": [
        "class Dog:\n",
        "        species = \"Canis familiaris\"\n",
        "\n",
        "        @classmethod\n",
        "        def get_species(cls):\n",
        "            return cls.species\n",
        "\n",
        "print(Dog.get_species())  # Output: Canis familiaris"
      ],
      "cell_type": "code",
      "metadata": {
        "colab": {
          "base_uri": "https://localhost:8080/"
        },
        "id": "1Ju9WNYiAzSn",
        "outputId": "d7feee04-152f-46fd-b89b-9e26daf5794c"
      },
      "execution_count": 15,
      "outputs": [
        {
          "output_type": "stream",
          "name": "stdout",
          "text": [
            "Canis familiaris\n"
          ]
        }
      ]
    },
    {
      "cell_type": "markdown",
      "source": [
        "# 4.How does python implement method overloading? Give an example."
      ],
      "metadata": {
        "id": "nL-CJJkXBhVN"
      }
    },
    {
      "cell_type": "markdown",
      "source": [
        "Python doesn't implement method overloading in the traditional sense (like in Java or C++). In those languages, you can have multiple methods with the same name but different parameters.\n",
        "\n",
        "Python uses a more flexible approach. You can define a single method that handles different types and numbers of arguments using default values and variable-length arguments."
      ],
      "metadata": {
        "id": "9wWOiXHSCns7"
      }
    },
    {
      "source": [
        "class Calculator:\n",
        "  def add(self, x, y=0):\n",
        "    return x + y\n",
        "\n",
        "calc = Calculator()\n",
        "print(calc.add(5, 10))  # Output: 15\n",
        "print(calc.add(5))      # Output: 5"
      ],
      "cell_type": "code",
      "metadata": {
        "id": "NNc0uymGCsas"
      },
      "execution_count": null,
      "outputs": []
    },
    {
      "cell_type": "markdown",
      "source": [
        "In this example, the add method can be called with either one or two arguments. If only one argument is provided, y defaults to 0."
      ],
      "metadata": {
        "id": "5394FqtoCuZr"
      }
    },
    {
      "cell_type": "code",
      "source": [],
      "metadata": {
        "id": "LMdlkSpCDG6c"
      },
      "execution_count": null,
      "outputs": []
    },
    {
      "cell_type": "markdown",
      "source": [
        "# 5.What are the three types of access modifiers in python? How are they denoted?"
      ],
      "metadata": {
        "id": "ZtWFy08bC1X8"
      }
    },
    {
      "cell_type": "markdown",
      "source": [
        "Python has three types of access modifiers:\n",
        "\n",
        "***1.Public:*** These members are accessible from anywhere. No special syntax is used for public members.\n",
        "\n",
        "***2.Protected:*** These members are accessible within the class and its subclasses. They are denoted by a single underscore prefix (_).\n",
        "\n",
        "***3.Private:***These members are accessible only within the class. They are denoted by a double underscore prefix (__).\n",
        "\n",
        "Important Note: Python's access modifiers are more of a convention than a strict enforcement. They rely on the programmer to respect the convention."
      ],
      "metadata": {
        "id": "ZbGywUbyEd9q"
      }
    },
    {
      "cell_type": "markdown",
      "source": [
        "# 6.Describe the five types of inheritance in python. Provide a simple example of multiple inheritance."
      ],
      "metadata": {
        "id": "wmZ1eQVmE5lq"
      }
    },
    {
      "cell_type": "markdown",
      "source": [
        "While Python supports multiple inheritance, focusing on the core concepts is key. There are different ways to categorize inheritance in Python, and \"five types\" might be a specific interpretation. Here are some common types:\n",
        "\n",
        "***Single inheritance:*** A class inherits from a single base class.<br>\n",
        "***Multi-level inheritance:*** A class inherits from a derived class, forming a hierarchy.<br>\n",
        "***Hierarchical inheritance:*** Multiple classes inherit from a single base class.<br>\n",
        "***Multiple inheritance:*** A class inherits from multiple base classes.<br>\n",
        "***Hybrid inheritance:*** A combination of multiple and other inheritance types.<br>\n",
        "Here's an example of multiple inheritance:"
      ],
      "metadata": {
        "id": "BUG_QkGoGJFK"
      }
    },
    {
      "source": [
        "class Animal:\n",
        "  def eat(self):\n",
        "    print(\"Eating...\")\n",
        "\n",
        "class Flyer:\n",
        "  def fly(self):\n",
        "    print(\"Flying...\")\n",
        "\n",
        "class Bird(Animal, Flyer):\n",
        "  pass\n",
        "\n",
        "my_bird = Bird()\n",
        "my_bird.eat()\n",
        "my_bird.fly()"
      ],
      "cell_type": "code",
      "metadata": {
        "colab": {
          "base_uri": "https://localhost:8080/"
        },
        "id": "-jFe11vXHBmZ",
        "outputId": "e4189572-df24-4121-eac3-323ec1bc82bb"
      },
      "execution_count": 16,
      "outputs": [
        {
          "output_type": "stream",
          "name": "stdout",
          "text": [
            "Eating...\n",
            "Flying...\n"
          ]
        }
      ]
    },
    {
      "cell_type": "markdown",
      "source": [
        "# 7.What is the Method Resolution Order(MRO) in Python? How can you retrieve it programmatically?"
      ],
      "metadata": {
        "id": "zzpTjYZ-HExI"
      }
    },
    {
      "cell_type": "markdown",
      "source": [
        "The Method Resolution Order (MRO) is the order in which Python looks for methods in a class hierarchy, especially in cases of multiple inheritance. It determines which method is called when you invoke it on an object.\n",
        "\n",
        "You can retrieve the MRO programmatically using the following:\n",
        "\n",
        "`__mro__` ***attribute:***   Accessing `classname.__mro__` returns a tuple representing the MRO.<br>\n",
        "`mro()` ***method:***    Calling `classname.mro()` returns a list representing the MRO."
      ],
      "metadata": {
        "id": "W8ka3d0pJJtn"
      }
    },
    {
      "cell_type": "markdown",
      "source": [
        "# 8.Create an abstract base class 'Shape' with an abstract method 'area()'. Then create two subclasses 'Circle' and 'Rectangle' that implement the 'area()'method."
      ],
      "metadata": {
        "id": "TeCpSRjiOpOZ"
      }
    },
    {
      "cell_type": "code",
      "source": [],
      "metadata": {
        "id": "LLQkV0J3KhJN"
      },
      "execution_count": null,
      "outputs": []
    },
    {
      "source": [
        "from abc import ABC, abstractmethod\n",
        "\n",
        "class Shape(ABC):\n",
        "    @abstractmethod\n",
        "    def area(self):\n",
        "        pass\n",
        "\n",
        "class Circle(Shape):\n",
        "    def __init__(self, radius):\n",
        "        self.radius = radius\n",
        "\n",
        "    def area(self):\n",
        "        return 3.14 * self.radius * self.radius\n",
        "\n",
        "class Rectangle(Shape):\n",
        "    def __init__(self, length, width):\n",
        "        self.length = length\n",
        "        self.width = width\n",
        "\n",
        "    def area(self):\n",
        "        return self.length * self.width\n",
        "\n",
        "\n",
        "\n",
        "# Example usage\n",
        "\n",
        "circle = Circle(5)\n",
        "print(f\"Circle area: {circle.area():.2f}\")\n",
        "\n",
        "rectangle = Rectangle(4, 6)\n",
        "print(f\"Rectangle area: {rectangle.area()}\")\n"
      ],
      "cell_type": "code",
      "metadata": {
        "colab": {
          "base_uri": "https://localhost:8080/"
        },
        "id": "3ZKyUemlPn7x",
        "outputId": "0907346e-7f5a-45cf-e2ba-8300e349c1c7"
      },
      "execution_count": 19,
      "outputs": [
        {
          "output_type": "stream",
          "name": "stdout",
          "text": [
            "Circle area: 78.50\n",
            "Rectangle area: 24\n"
          ]
        }
      ]
    },
    {
      "cell_type": "markdown",
      "source": [
        "This code first defines an abstract base class `Shape` with an abstract method `area()`. Then it creates two subclasses `Circle` and Rectangle, both of which implement the `area()` method with their specific formulas."
      ],
      "metadata": {
        "id": "bIv5a1kHPq3g"
      }
    },
    {
      "cell_type": "markdown",
      "source": [
        "# 9.Demonstrate polymorphism by creating a function that can work with different shape objects to calculate and print their areas."
      ],
      "metadata": {
        "id": "nCHp0IXSQ-Hb"
      }
    },
    {
      "source": [
        "from abc import ABC, abstractmethod\n",
        "\n",
        "class Shape(ABC):\n",
        "    @abstractmethod\n",
        "    def area(self):\n",
        "        pass\n",
        "\n",
        "class Circle(Shape):\n",
        "    def __init__(self, radius):\n",
        "        self.radius = radius\n",
        "\n",
        "    def area(self):\n",
        "        return 3.14 * self.radius * self.radius\n",
        "\n",
        "class Rectangle(Shape):\n",
        "    def __init__(self, length, width):\n",
        "        self.length = length\n",
        "        self.width = width\n",
        "\n",
        "    def area(self):\n",
        "        return self.length * self.width\n",
        "\n",
        "def print_area(shape):\n",
        "    print(f\"The area of the shape is: {shape.area()}\")\n",
        "\n",
        "circle = Circle(5)\n",
        "rectangle = Rectangle(4, 6)\n",
        "\n",
        "print_area(circle)\n",
        "print_area(rectangle)"
      ],
      "cell_type": "code",
      "metadata": {
        "colab": {
          "base_uri": "https://localhost:8080/"
        },
        "id": "qTzwQ0EKRpX3",
        "outputId": "171a4856-71fe-4808-b74c-db13a5b2d693"
      },
      "execution_count": 20,
      "outputs": [
        {
          "output_type": "stream",
          "name": "stdout",
          "text": [
            "The area of the shape is: 78.5\n",
            "The area of the shape is: 24\n"
          ]
        }
      ]
    },
    {
      "cell_type": "markdown",
      "source": [
        "This code defines a `print_area` function that takes a `shape` object as an argument and calls its `area() `method. This demonstrates polymorphism, as the same function can work with different shape objects (circle and rectangle) without knowing their specific types."
      ],
      "metadata": {
        "id": "lkvtZtYuRv-P"
      }
    },
    {
      "cell_type": "markdown",
      "source": [
        "# 10.Implement encapsulation in a 'BankAcount' class with private attributes for 'balance' and 'account_number'. Include methods for deposit, withdrawal, and balance inquiry."
      ],
      "metadata": {
        "id": "bIscXIsASFpu"
      }
    },
    {
      "source": [
        "class BankAccount:\n",
        "  def __init__(self, account_number, initial_balance=0):\n",
        "    self.__account_number = account_number\n",
        "    self.__balance = initial_balance\n",
        "\n",
        "  def deposit(self, amount):\n",
        "    if amount > 0:\n",
        "      self.__balance += amount\n",
        "\n",
        "  def withdraw(self, amount):\n",
        "    if 0 < amount <= self.__balance:\n",
        "      self.__balance -= amount\n",
        "\n",
        "  def get_balance(self):\n",
        "    return self.__balance\n",
        "\n",
        "\n",
        "# Example usage\n",
        "account = BankAccount(\"123456789\")\n",
        "account.deposit(1000)\n",
        "account.withdraw(500)\n",
        "print(f\"Account Balance: ${account.get_balance()}\")\n",
        "\n"
      ],
      "cell_type": "code",
      "metadata": {
        "colab": {
          "base_uri": "https://localhost:8080/"
        },
        "id": "FlDVfFMtTla2",
        "outputId": "ab101473-e372-498a-ece2-5952f44ded7b"
      },
      "execution_count": 27,
      "outputs": [
        {
          "output_type": "stream",
          "name": "stdout",
          "text": [
            "Account Balance: $500\n"
          ]
        }
      ]
    },
    {
      "cell_type": "markdown",
      "source": [
        "# 11.Write a class that overrides the `__str__`and `__add__` magic method. What will these methods allow you to do?"
      ],
      "metadata": {
        "id": "WaZdkSxHXKvS"
      }
    },
    {
      "cell_type": "markdown",
      "source": [
        "**`__str__`:** This method allows you to define how an object of your class is represented as a string. In this example, it returns a string representation of the Point coordinates.\n",
        "\n",
        "**`__add__`:** This method lets you define the behavior of the addition operator (`+`) when used with objects of your class. Here, it adds the corresponding coordinates of two points and returns a new Point object."
      ],
      "metadata": {
        "id": "qTzOM5jNdHfl"
      }
    },
    {
      "source": [
        "class Point:\n",
        "  def __init__(self, x, y):\n",
        "    self.x = x\n",
        "    self.y = y\n",
        "\n",
        "  def __str__(self):\n",
        "    return f\"({self.x}, {self.y})\"\n",
        "\n",
        "  def __add__(self, other):\n",
        "    return Point(self.x + other.x, self.y + other.y)\n",
        "\n",
        "p1 = Point(1, 2)\n",
        "p2 = Point(3, 4)\n",
        "print(p1)\n",
        "p3 = p1 + p2\n",
        "print(p3)"
      ],
      "cell_type": "code",
      "metadata": {
        "colab": {
          "base_uri": "https://localhost:8080/"
        },
        "id": "vfwPJ3WCdW3M",
        "outputId": "f4933625-753e-45d7-8381-d277352ab032"
      },
      "execution_count": 29,
      "outputs": [
        {
          "output_type": "stream",
          "name": "stdout",
          "text": [
            "(1, 2)\n",
            "(4, 6)\n"
          ]
        }
      ]
    },
    {
      "cell_type": "markdown",
      "source": [
        "# 12.Create a decorator that measures and prints the execution time of a function."
      ],
      "metadata": {
        "id": "v9o-tk2YdioK"
      }
    },
    {
      "source": [
        "import time\n",
        "\n",
        "def timer(func):\n",
        "  def wrapper(*args, **kwargs):\n",
        "    start = time.time()\n",
        "    result = func(*args, **kwargs)\n",
        "    end = time.time()\n",
        "    print(f\"Execution time: {end - start} seconds\")\n",
        "    return result\n",
        "  return wrapper\n",
        "\n",
        "@timer\n",
        "def my_function():\n",
        "    # Function code here\n",
        "    time.sleep(2)\n",
        "\n",
        "my_function()"
      ],
      "cell_type": "code",
      "metadata": {
        "id": "OZRPRlyveA72"
      },
      "execution_count": null,
      "outputs": []
    },
    {
      "cell_type": "markdown",
      "source": [
        "This code defines a decorator `timer` that takes a function as input. The `wrapper` function inside `timer` records the start time, calls the original function, records the end time, prints the execution time, and returns the result of the original function. The `@timer` syntax applies the decorator to `my_function`."
      ],
      "metadata": {
        "id": "z1YRoPMBeEQu"
      }
    },
    {
      "cell_type": "markdown",
      "source": [
        "# 13.Explain the concept of the Diamond problem in multiple inheritance. How does python resolve it?"
      ],
      "metadata": {
        "id": "VLFTCSaueptr"
      }
    },
    {
      "cell_type": "markdown",
      "source": [
        "The Diamond Problem:\n",
        "\n",
        "\n",
        "In multiple inheritance, the Diamond Problem occurs when:\n",
        "\n",
        "\n",
        "1. A class inherits from two or more classes.\n",
        "2. Those classes share a common base class.\n",
        "3. The base class has a method or attribute.\n",
        "4. The intermediate classes override that method or attribute.\n",
        "\n",
        "\n",
        "\n",
        "  A\n",
        " / \\\n",
        "B   C\n",
        " \\ /\n",
        "  D\n",
        "\n",
        "\n",
        "\n",
        "\n",
        "\n",
        "\n",
        "\n",
        "\n",
        "\n",
        "Here:\n",
        "\n",
        "\n",
        "- D inherits from B and C.\n",
        "- B and C inherit from A.\n",
        "- A has a method m().\n",
        "\n",
        "\n",
        "Problem:\n",
        "\n",
        "\n",
        "- Which implementation of m() should D use?\n",
        "\n",
        "\n",
        "Python's Solution:\n",
        "\n",
        "\n",
        "Python resolves the Diamond Problem using:\n",
        "\n",
        "\n",
        "1. Method Resolution Order (MRO).\n",
        "2. C3 Linearization algorithm.\n",
        "\n",
        "\n",
        "MRO:\n",
        "\n",
        "\n",
        "Python creates a linear order of inheritance:\n",
        "\n",
        "\n",
        "1. D\n",
        "2. B\n",
        "3. C\n",
        "4. A\n",
        "5. object\n",
        "\n",
        "\n",
        "C3 Linearization:\n",
        "\n",
        "\n",
        "1. List all classes in inheritance order.\n",
        "2. Remove duplicates, preserving original order.\n",
        "\n",
        "\n",
        "Example:\n",
        "\n",
        "\n",
        "\n",
        "\n",
        "\n",
        "\n",
        "\n"
      ],
      "metadata": {
        "id": "k3tva71qfeLT"
      }
    },
    {
      "cell_type": "code",
      "source": [
        "class A:\n",
        "    def m(self):\n",
        "        print(\"A\")\n",
        "\n",
        "class B(A):\n",
        "    def m(self):\n",
        "        print(\"B\")\n",
        "\n",
        "class C(A):\n",
        "    def m(self):\n",
        "        print(\"C\")\n",
        "\n",
        "class D(B, C):\n",
        "    pass\n",
        "\n",
        "d = D()\n",
        "d.m()\n"
      ],
      "metadata": {
        "colab": {
          "base_uri": "https://localhost:8080/"
        },
        "id": "f0hF-9mnelET",
        "outputId": "5a3f3024-f851-4f4d-8fc7-02ebd55dc16f"
      },
      "execution_count": 31,
      "outputs": [
        {
          "output_type": "stream",
          "name": "stdout",
          "text": [
            "B\n"
          ]
        }
      ]
    },
    {
      "cell_type": "markdown",
      "source": [
        "# 14.Write a class method that keeps track of the number of instances created from a class."
      ],
      "metadata": {
        "id": "Os73_fuBhEYA"
      }
    },
    {
      "cell_type": "code",
      "source": [],
      "metadata": {
        "id": "ZFUXqNDvg8mY"
      },
      "execution_count": null,
      "outputs": []
    },
    {
      "source": [
        "class MyClass:\n",
        "    instance_count = 0\n",
        "\n",
        "    def __init__(self):\n",
        "        MyClass.instance_count += 1\n",
        "\n",
        "    @classmethod\n",
        "    def get_instance_count(cls):\n",
        "        return cls.instance_count"
      ],
      "cell_type": "code",
      "metadata": {
        "id": "4geS5aIAhpkJ"
      },
      "execution_count": null,
      "outputs": []
    },
    {
      "cell_type": "markdown",
      "source": [
        "This code defines a class `MyClass` with a class variable `instance_count` initialized to 0. The `__init__` method increments `instance_count` each time an object is created. The `get_instance_count` class method provides access to the current count."
      ],
      "metadata": {
        "id": "cKzASRj_huAw"
      }
    },
    {
      "cell_type": "markdown",
      "source": [
        "# 15.Implement a static method in a class that checks if a given year is a leap year."
      ],
      "metadata": {
        "id": "WvLWrEMoiH_g"
      }
    },
    {
      "source": [
        "class DateUtils:\n",
        "    @staticmethod\n",
        "    def is_leap_year(year):\n",
        "        if (year % 4 == 0 and year % 100 != 0) or (year % 400 == 0):\n",
        "            return True\n",
        "        else:\n",
        "            return False"
      ],
      "cell_type": "code",
      "metadata": {
        "id": "LK_YY70gjHMo"
      },
      "execution_count": 32,
      "outputs": []
    },
    {
      "cell_type": "code",
      "source": [
        "class LeapYearChecker:\n",
        "    @staticmethod\n",
        "    def is_leap_year(year):\n",
        "        \"\"\"Return True if year is a leap year, False otherwise.\"\"\"\n",
        "        return year % 4 == 0 and (year % 100 != 0 or year % 400 == 0)\n",
        "\n",
        "\n",
        "# Example usage\n",
        "print(LeapYearChecker.is_leap_year(2020))\n",
        "print(LeapYearChecker.is_leap_year(2019))\n"
      ],
      "metadata": {
        "colab": {
          "base_uri": "https://localhost:8080/"
        },
        "id": "uHHnbkBNhtcB",
        "outputId": "08c2efc9-10a3-4b04-da03-b43bee4a4d1b"
      },
      "execution_count": 34,
      "outputs": [
        {
          "output_type": "stream",
          "name": "stdout",
          "text": [
            "True\n",
            "False\n"
          ]
        }
      ]
    },
    {
      "cell_type": "code",
      "source": [],
      "metadata": {
        "id": "zlcl2okhjRRG"
      },
      "execution_count": null,
      "outputs": []
    }
  ]
}